{
 "cells": [
  {
   "cell_type": "markdown",
   "id": "ea3db478",
   "metadata": {},
   "source": [
    "# Insurances\n",
    "\n",
    "This notebook is about the capital of insurances. "
   ]
  },
  {
   "cell_type": "markdown",
   "id": "c6e1c2d6",
   "metadata": {},
   "source": [
    "I want to use pandas for data cleaning and describing and matplotlib as well as seaborn for visualisation. "
   ]
  },
  {
   "cell_type": "code",
   "execution_count": 1,
   "id": "c459f183",
   "metadata": {},
   "outputs": [],
   "source": [
    "# Import the necessary libraries. All are part of the environment, in which the notebook lives. \n",
    "\n",
    "import pandas as pd\n",
    "import numpy as np\n",
    "import matplotlib.pyplot as plt\n",
    "import seaborn as sns"
   ]
  },
  {
   "cell_type": "code",
   "execution_count": 2,
   "id": "9c4b1269",
   "metadata": {},
   "outputs": [],
   "source": [
    "#import chart_studio.plotly as py\n",
    "import plotly.graph_objs as go \n",
    "from plotly.offline import download_plotlyjs, init_notebook_mode, plot, iplot"
   ]
  },
  {
   "cell_type": "code",
   "execution_count": 3,
   "id": "72eaf461",
   "metadata": {},
   "outputs": [
    {
     "data": {
      "text/html": [
       "        <script type=\"text/javascript\">\n",
       "        window.PlotlyConfig = {MathJaxConfig: 'local'};\n",
       "        if (window.MathJax) {MathJax.Hub.Config({SVG: {font: \"STIX-Web\"}});}\n",
       "        if (typeof require !== 'undefined') {\n",
       "        require.undef(\"plotly\");\n",
       "        requirejs.config({\n",
       "            paths: {\n",
       "                'plotly': ['https://cdn.plot.ly/plotly-2.3.1.min']\n",
       "            }\n",
       "        });\n",
       "        require(['plotly'], function(Plotly) {\n",
       "            window._Plotly = Plotly;\n",
       "        });\n",
       "        }\n",
       "        </script>\n",
       "        "
      ]
     },
     "metadata": {},
     "output_type": "display_data"
    }
   ],
   "source": [
    "init_notebook_mode(connected=True) "
   ]
  },
  {
   "cell_type": "markdown",
   "id": "80181c01",
   "metadata": {},
   "source": [
    "## Load and describe the data"
   ]
  },
  {
   "cell_type": "code",
   "execution_count": 4,
   "id": "969ecfdc",
   "metadata": {},
   "outputs": [
    {
     "data": {
      "text/html": [
       "<div>\n",
       "<style scoped>\n",
       "    .dataframe tbody tr th:only-of-type {\n",
       "        vertical-align: middle;\n",
       "    }\n",
       "\n",
       "    .dataframe tbody tr th {\n",
       "        vertical-align: top;\n",
       "    }\n",
       "\n",
       "    .dataframe thead th {\n",
       "        text-align: right;\n",
       "    }\n",
       "</style>\n",
       "<table border=\"1\" class=\"dataframe\">\n",
       "  <thead>\n",
       "    <tr style=\"text-align: right;\">\n",
       "      <th></th>\n",
       "      <th>CUR</th>\n",
       "      <th>Currency</th>\n",
       "      <th>VAR</th>\n",
       "      <th>Variable</th>\n",
       "      <th>OWN</th>\n",
       "      <th>Ownership</th>\n",
       "      <th>IVTYP</th>\n",
       "      <th>Investment Type</th>\n",
       "      <th>ITYP</th>\n",
       "      <th>Insurance Type</th>\n",
       "      <th>...</th>\n",
       "      <th>Year</th>\n",
       "      <th>Unit Code</th>\n",
       "      <th>Unit</th>\n",
       "      <th>PowerCode Code</th>\n",
       "      <th>PowerCode</th>\n",
       "      <th>Reference Period Code</th>\n",
       "      <th>Reference Period</th>\n",
       "      <th>Value</th>\n",
       "      <th>Flag Codes</th>\n",
       "      <th>Flags</th>\n",
       "    </tr>\n",
       "  </thead>\n",
       "  <tbody>\n",
       "    <tr>\n",
       "      <th>0</th>\n",
       "      <td>EUR</td>\n",
       "      <td>Euros (millions)</td>\n",
       "      <td>OFI</td>\n",
       "      <td>Outstanding figures of investments by direct i...</td>\n",
       "      <td>TOT</td>\n",
       "      <td>All undertakings (=1+3)</td>\n",
       "      <td>REST</td>\n",
       "      <td>Land and buildings</td>\n",
       "      <td>LIFE</td>\n",
       "      <td>Life</td>\n",
       "      <td>...</td>\n",
       "      <td>2001</td>\n",
       "      <td>EUR</td>\n",
       "      <td>Euro</td>\n",
       "      <td>6</td>\n",
       "      <td>Millions</td>\n",
       "      <td>NaN</td>\n",
       "      <td>NaN</td>\n",
       "      <td>10703.307</td>\n",
       "      <td>NaN</td>\n",
       "      <td>NaN</td>\n",
       "    </tr>\n",
       "    <tr>\n",
       "      <th>1</th>\n",
       "      <td>EUR</td>\n",
       "      <td>Euros (millions)</td>\n",
       "      <td>OFI</td>\n",
       "      <td>Outstanding figures of investments by direct i...</td>\n",
       "      <td>TOT</td>\n",
       "      <td>All undertakings (=1+3)</td>\n",
       "      <td>REST</td>\n",
       "      <td>Land and buildings</td>\n",
       "      <td>LIFE</td>\n",
       "      <td>Life</td>\n",
       "      <td>...</td>\n",
       "      <td>2002</td>\n",
       "      <td>EUR</td>\n",
       "      <td>Euro</td>\n",
       "      <td>6</td>\n",
       "      <td>Millions</td>\n",
       "      <td>NaN</td>\n",
       "      <td>NaN</td>\n",
       "      <td>9177.693</td>\n",
       "      <td>NaN</td>\n",
       "      <td>NaN</td>\n",
       "    </tr>\n",
       "    <tr>\n",
       "      <th>2</th>\n",
       "      <td>EUR</td>\n",
       "      <td>Euros (millions)</td>\n",
       "      <td>OFI</td>\n",
       "      <td>Outstanding figures of investments by direct i...</td>\n",
       "      <td>TOT</td>\n",
       "      <td>All undertakings (=1+3)</td>\n",
       "      <td>REST</td>\n",
       "      <td>Land and buildings</td>\n",
       "      <td>LIFE</td>\n",
       "      <td>Life</td>\n",
       "      <td>...</td>\n",
       "      <td>2003</td>\n",
       "      <td>EUR</td>\n",
       "      <td>Euro</td>\n",
       "      <td>6</td>\n",
       "      <td>Millions</td>\n",
       "      <td>NaN</td>\n",
       "      <td>NaN</td>\n",
       "      <td>9049.629</td>\n",
       "      <td>NaN</td>\n",
       "      <td>NaN</td>\n",
       "    </tr>\n",
       "    <tr>\n",
       "      <th>3</th>\n",
       "      <td>EUR</td>\n",
       "      <td>Euros (millions)</td>\n",
       "      <td>OFI</td>\n",
       "      <td>Outstanding figures of investments by direct i...</td>\n",
       "      <td>TOT</td>\n",
       "      <td>All undertakings (=1+3)</td>\n",
       "      <td>REST</td>\n",
       "      <td>Land and buildings</td>\n",
       "      <td>LIFE</td>\n",
       "      <td>Life</td>\n",
       "      <td>...</td>\n",
       "      <td>2004</td>\n",
       "      <td>EUR</td>\n",
       "      <td>Euro</td>\n",
       "      <td>6</td>\n",
       "      <td>Millions</td>\n",
       "      <td>NaN</td>\n",
       "      <td>NaN</td>\n",
       "      <td>10025.028</td>\n",
       "      <td>NaN</td>\n",
       "      <td>NaN</td>\n",
       "    </tr>\n",
       "    <tr>\n",
       "      <th>4</th>\n",
       "      <td>EUR</td>\n",
       "      <td>Euros (millions)</td>\n",
       "      <td>OFI</td>\n",
       "      <td>Outstanding figures of investments by direct i...</td>\n",
       "      <td>TOT</td>\n",
       "      <td>All undertakings (=1+3)</td>\n",
       "      <td>REST</td>\n",
       "      <td>Land and buildings</td>\n",
       "      <td>LIFE</td>\n",
       "      <td>Life</td>\n",
       "      <td>...</td>\n",
       "      <td>2005</td>\n",
       "      <td>EUR</td>\n",
       "      <td>Euro</td>\n",
       "      <td>6</td>\n",
       "      <td>Millions</td>\n",
       "      <td>NaN</td>\n",
       "      <td>NaN</td>\n",
       "      <td>11638.488</td>\n",
       "      <td>NaN</td>\n",
       "      <td>NaN</td>\n",
       "    </tr>\n",
       "  </tbody>\n",
       "</table>\n",
       "<p>5 rows × 27 columns</p>\n",
       "</div>"
      ],
      "text/plain": [
       "   CUR          Currency  VAR  \\\n",
       "0  EUR  Euros (millions)  OFI   \n",
       "1  EUR  Euros (millions)  OFI   \n",
       "2  EUR  Euros (millions)  OFI   \n",
       "3  EUR  Euros (millions)  OFI   \n",
       "4  EUR  Euros (millions)  OFI   \n",
       "\n",
       "                                            Variable  OWN  \\\n",
       "0  Outstanding figures of investments by direct i...  TOT   \n",
       "1  Outstanding figures of investments by direct i...  TOT   \n",
       "2  Outstanding figures of investments by direct i...  TOT   \n",
       "3  Outstanding figures of investments by direct i...  TOT   \n",
       "4  Outstanding figures of investments by direct i...  TOT   \n",
       "\n",
       "                 Ownership IVTYP     Investment Type  ITYP Insurance Type  \\\n",
       "0  All undertakings (=1+3)  REST  Land and buildings  LIFE           Life   \n",
       "1  All undertakings (=1+3)  REST  Land and buildings  LIFE           Life   \n",
       "2  All undertakings (=1+3)  REST  Land and buildings  LIFE           Life   \n",
       "3  All undertakings (=1+3)  REST  Land and buildings  LIFE           Life   \n",
       "4  All undertakings (=1+3)  REST  Land and buildings  LIFE           Life   \n",
       "\n",
       "   ...  Year Unit Code  Unit PowerCode Code PowerCode Reference Period Code  \\\n",
       "0  ...  2001       EUR  Euro              6  Millions                   NaN   \n",
       "1  ...  2002       EUR  Euro              6  Millions                   NaN   \n",
       "2  ...  2003       EUR  Euro              6  Millions                   NaN   \n",
       "3  ...  2004       EUR  Euro              6  Millions                   NaN   \n",
       "4  ...  2005       EUR  Euro              6  Millions                   NaN   \n",
       "\n",
       "   Reference Period      Value Flag Codes Flags  \n",
       "0               NaN  10703.307        NaN   NaN  \n",
       "1               NaN   9177.693        NaN   NaN  \n",
       "2               NaN   9049.629        NaN   NaN  \n",
       "3               NaN  10025.028        NaN   NaN  \n",
       "4               NaN  11638.488        NaN   NaN  \n",
       "\n",
       "[5 rows x 27 columns]"
      ]
     },
     "execution_count": 4,
     "metadata": {},
     "output_type": "execute_result"
    }
   ],
   "source": [
    "# Read in the data and get first glimpse \n",
    "\n",
    "insurances=pd.read_csv('PT6_21072021205145247.csv')\n",
    "insurances.head()"
   ]
  },
  {
   "cell_type": "code",
   "execution_count": 5,
   "id": "88ac85f7",
   "metadata": {},
   "outputs": [
    {
     "data": {
      "text/plain": [
       "Index(['CUR', 'Currency', 'VAR', 'Variable', 'OWN', 'Ownership', 'IVTYP',\n",
       "       'Investment Type', 'ITYP', 'Insurance Type', 'DEST', 'Destination',\n",
       "       'TYP', 'Insurer type', 'COU', 'Country', 'YEA', 'Year', 'Unit Code',\n",
       "       'Unit', 'PowerCode Code', 'PowerCode', 'Reference Period Code',\n",
       "       'Reference Period', 'Value', 'Flag Codes', 'Flags'],\n",
       "      dtype='object')"
      ]
     },
     "execution_count": 5,
     "metadata": {},
     "output_type": "execute_result"
    }
   ],
   "source": [
    "insurances.columns"
   ]
  },
  {
   "cell_type": "code",
   "execution_count": 6,
   "id": "50309bd1",
   "metadata": {},
   "outputs": [
    {
     "data": {
      "text/html": [
       "<div>\n",
       "<style scoped>\n",
       "    .dataframe tbody tr th:only-of-type {\n",
       "        vertical-align: middle;\n",
       "    }\n",
       "\n",
       "    .dataframe tbody tr th {\n",
       "        vertical-align: top;\n",
       "    }\n",
       "\n",
       "    .dataframe thead th {\n",
       "        text-align: right;\n",
       "    }\n",
       "</style>\n",
       "<table border=\"1\" class=\"dataframe\">\n",
       "  <thead>\n",
       "    <tr style=\"text-align: right;\">\n",
       "      <th></th>\n",
       "      <th>YEA</th>\n",
       "      <th>Year</th>\n",
       "      <th>PowerCode Code</th>\n",
       "      <th>Reference Period Code</th>\n",
       "      <th>Reference Period</th>\n",
       "      <th>Value</th>\n",
       "    </tr>\n",
       "  </thead>\n",
       "  <tbody>\n",
       "    <tr>\n",
       "      <th>count</th>\n",
       "      <td>276615.000000</td>\n",
       "      <td>276615.000000</td>\n",
       "      <td>276615.0</td>\n",
       "      <td>0.0</td>\n",
       "      <td>0.0</td>\n",
       "      <td>2.741760e+05</td>\n",
       "    </tr>\n",
       "    <tr>\n",
       "      <th>mean</th>\n",
       "      <td>2013.424413</td>\n",
       "      <td>2013.424413</td>\n",
       "      <td>6.0</td>\n",
       "      <td>NaN</td>\n",
       "      <td>NaN</td>\n",
       "      <td>8.109024e+05</td>\n",
       "    </tr>\n",
       "    <tr>\n",
       "      <th>std</th>\n",
       "      <td>4.961445</td>\n",
       "      <td>4.961445</td>\n",
       "      <td>0.0</td>\n",
       "      <td>NaN</td>\n",
       "      <td>NaN</td>\n",
       "      <td>1.627506e+07</td>\n",
       "    </tr>\n",
       "    <tr>\n",
       "      <th>min</th>\n",
       "      <td>2001.000000</td>\n",
       "      <td>2001.000000</td>\n",
       "      <td>6.0</td>\n",
       "      <td>NaN</td>\n",
       "      <td>NaN</td>\n",
       "      <td>-1.030099e+05</td>\n",
       "    </tr>\n",
       "    <tr>\n",
       "      <th>25%</th>\n",
       "      <td>2010.000000</td>\n",
       "      <td>2010.000000</td>\n",
       "      <td>6.0</td>\n",
       "      <td>NaN</td>\n",
       "      <td>NaN</td>\n",
       "      <td>4.000000e+00</td>\n",
       "    </tr>\n",
       "    <tr>\n",
       "      <th>50%</th>\n",
       "      <td>2015.000000</td>\n",
       "      <td>2015.000000</td>\n",
       "      <td>6.0</td>\n",
       "      <td>NaN</td>\n",
       "      <td>NaN</td>\n",
       "      <td>3.865305e+02</td>\n",
       "    </tr>\n",
       "    <tr>\n",
       "      <th>75%</th>\n",
       "      <td>2017.000000</td>\n",
       "      <td>2017.000000</td>\n",
       "      <td>6.0</td>\n",
       "      <td>NaN</td>\n",
       "      <td>NaN</td>\n",
       "      <td>7.480068e+03</td>\n",
       "    </tr>\n",
       "    <tr>\n",
       "      <th>max</th>\n",
       "      <td>2019.000000</td>\n",
       "      <td>2019.000000</td>\n",
       "      <td>6.0</td>\n",
       "      <td>NaN</td>\n",
       "      <td>NaN</td>\n",
       "      <td>2.230522e+09</td>\n",
       "    </tr>\n",
       "  </tbody>\n",
       "</table>\n",
       "</div>"
      ],
      "text/plain": [
       "                 YEA           Year  PowerCode Code  Reference Period Code  \\\n",
       "count  276615.000000  276615.000000        276615.0                    0.0   \n",
       "mean     2013.424413    2013.424413             6.0                    NaN   \n",
       "std         4.961445       4.961445             0.0                    NaN   \n",
       "min      2001.000000    2001.000000             6.0                    NaN   \n",
       "25%      2010.000000    2010.000000             6.0                    NaN   \n",
       "50%      2015.000000    2015.000000             6.0                    NaN   \n",
       "75%      2017.000000    2017.000000             6.0                    NaN   \n",
       "max      2019.000000    2019.000000             6.0                    NaN   \n",
       "\n",
       "       Reference Period         Value  \n",
       "count               0.0  2.741760e+05  \n",
       "mean                NaN  8.109024e+05  \n",
       "std                 NaN  1.627506e+07  \n",
       "min                 NaN -1.030099e+05  \n",
       "25%                 NaN  4.000000e+00  \n",
       "50%                 NaN  3.865305e+02  \n",
       "75%                 NaN  7.480068e+03  \n",
       "max                 NaN  2.230522e+09  "
      ]
     },
     "execution_count": 6,
     "metadata": {},
     "output_type": "execute_result"
    }
   ],
   "source": [
    "insurances.describe()"
   ]
  },
  {
   "cell_type": "code",
   "execution_count": 7,
   "id": "4f559f18",
   "metadata": {},
   "outputs": [
    {
     "name": "stdout",
     "output_type": "stream",
     "text": [
      "<class 'pandas.core.frame.DataFrame'>\n",
      "RangeIndex: 276615 entries, 0 to 276614\n",
      "Data columns (total 27 columns):\n",
      " #   Column                 Non-Null Count   Dtype  \n",
      "---  ------                 --------------   -----  \n",
      " 0   CUR                    276615 non-null  object \n",
      " 1   Currency               276615 non-null  object \n",
      " 2   VAR                    276615 non-null  object \n",
      " 3   Variable               276615 non-null  object \n",
      " 4   OWN                    276615 non-null  object \n",
      " 5   Ownership              276615 non-null  object \n",
      " 6   IVTYP                  276615 non-null  object \n",
      " 7   Investment Type        276615 non-null  object \n",
      " 8   ITYP                   276615 non-null  object \n",
      " 9   Insurance Type         276615 non-null  object \n",
      " 10  DEST                   276615 non-null  object \n",
      " 11  Destination            276615 non-null  object \n",
      " 12  TYP                    276615 non-null  object \n",
      " 13  Insurer type           276615 non-null  object \n",
      " 14  COU                    276615 non-null  object \n",
      " 15  Country                276615 non-null  object \n",
      " 16  YEA                    276615 non-null  int64  \n",
      " 17  Year                   276615 non-null  int64  \n",
      " 18  Unit Code              276615 non-null  object \n",
      " 19  Unit                   276615 non-null  object \n",
      " 20  PowerCode Code         276615 non-null  int64  \n",
      " 21  PowerCode              276615 non-null  object \n",
      " 22  Reference Period Code  0 non-null       float64\n",
      " 23  Reference Period       0 non-null       float64\n",
      " 24  Value                  274176 non-null  float64\n",
      " 25  Flag Codes             26121 non-null   object \n",
      " 26  Flags                  26121 non-null   object \n",
      "dtypes: float64(3), int64(3), object(21)\n",
      "memory usage: 57.0+ MB\n"
     ]
    }
   ],
   "source": [
    "insurances.info()"
   ]
  },
  {
   "cell_type": "code",
   "execution_count": 8,
   "id": "3a387015",
   "metadata": {},
   "outputs": [
    {
     "name": "stdout",
     "output_type": "stream",
     "text": [
      "[nan 'Non-publishable and confidential value' 'Break']\n",
      "['Millions']\n",
      "['All undertakings (=1+3)' '1. Domestic undertakings'\n",
      " '2. Foreign controlled undertakings'\n",
      " '3. Branches and agencies of foreign undertakings']\n",
      "['DIR']\n",
      "['Domestic' 'Foreign' 'Total']\n",
      "[2001 2002 2003 2004 2005 2006 2007 2008 2009 2010 2011 2012 2013 2014\n",
      " 2015 2016 2017 2018 2019]\n",
      "['Land and buildings' 'Equity'\n",
      " 'Bills and bonds issued by public and private sector' 'Other Investments'\n",
      " 'TOTAL INVESTMENTS' 'Loans' 'Cash and Deposits'\n",
      " 'Collective Investment Schemes (CIS)' '- of which: land and buildings'\n",
      " '- of which: bills and bonds' 'Private equity funds'\n",
      " 'Structured products' '- of which: equity' '- of which: other'\n",
      " '- of which: cash and deposits'\n",
      " 'Assets held for index-linked and unit-linked contracts' 'Hedge Funds']\n"
     ]
    }
   ],
   "source": [
    "print(insurances['Flags'].unique())\n",
    "print(insurances['PowerCode'].unique())\n",
    "print(insurances['Ownership'].unique())\n",
    "print(insurances['TYP'].unique())\n",
    "print(insurances['Destination'].unique())\n",
    "print(insurances['Year'].unique())\n",
    "print(insurances['Investment Type'].unique())"
   ]
  },
  {
   "cell_type": "markdown",
   "id": "1933d119",
   "metadata": {},
   "source": [
    "## Global insurance volume"
   ]
  },
  {
   "cell_type": "markdown",
   "id": "7ebee24b",
   "metadata": {},
   "source": [
    "At first, the global volume of insurances is analyzed. The most recent year in the dataset is 2019. Inspected are total investment, with disregard to the type of insurances, life or non-life insurances. "
   ]
  },
  {
   "cell_type": "code",
   "execution_count": 86,
   "id": "5ea56330",
   "metadata": {},
   "outputs": [
    {
     "data": {
      "text/html": [
       "<div>\n",
       "<style scoped>\n",
       "    .dataframe tbody tr th:only-of-type {\n",
       "        vertical-align: middle;\n",
       "    }\n",
       "\n",
       "    .dataframe tbody tr th {\n",
       "        vertical-align: top;\n",
       "    }\n",
       "\n",
       "    .dataframe thead th {\n",
       "        text-align: right;\n",
       "    }\n",
       "</style>\n",
       "<table border=\"1\" class=\"dataframe\">\n",
       "  <thead>\n",
       "    <tr style=\"text-align: right;\">\n",
       "      <th></th>\n",
       "      <th>CUR</th>\n",
       "      <th>Currency</th>\n",
       "      <th>VAR</th>\n",
       "      <th>Variable</th>\n",
       "      <th>OWN</th>\n",
       "      <th>Ownership</th>\n",
       "      <th>IVTYP</th>\n",
       "      <th>Investment Type</th>\n",
       "      <th>ITYP</th>\n",
       "      <th>Insurance Type</th>\n",
       "      <th>...</th>\n",
       "      <th>Year</th>\n",
       "      <th>Unit Code</th>\n",
       "      <th>Unit</th>\n",
       "      <th>PowerCode Code</th>\n",
       "      <th>PowerCode</th>\n",
       "      <th>Reference Period Code</th>\n",
       "      <th>Reference Period</th>\n",
       "      <th>Value</th>\n",
       "      <th>Flag Codes</th>\n",
       "      <th>Flags</th>\n",
       "    </tr>\n",
       "  </thead>\n",
       "  <tbody>\n",
       "    <tr>\n",
       "      <th>101094</th>\n",
       "      <td>USD</td>\n",
       "      <td>US Dollars (millions)</td>\n",
       "      <td>OFI</td>\n",
       "      <td>Outstanding figures of investments by direct i...</td>\n",
       "      <td>TOT</td>\n",
       "      <td>All undertakings (=1+3)</td>\n",
       "      <td>TOT</td>\n",
       "      <td>TOTAL INVESTMENTS</td>\n",
       "      <td>TOT</td>\n",
       "      <td>Total</td>\n",
       "      <td>...</td>\n",
       "      <td>2019</td>\n",
       "      <td>USD</td>\n",
       "      <td>US Dollar</td>\n",
       "      <td>6</td>\n",
       "      <td>Millions</td>\n",
       "      <td>NaN</td>\n",
       "      <td>NaN</td>\n",
       "      <td>148784.948</td>\n",
       "      <td>NaN</td>\n",
       "      <td>NaN</td>\n",
       "    </tr>\n",
       "    <tr>\n",
       "      <th>101997</th>\n",
       "      <td>USD</td>\n",
       "      <td>US Dollars (millions)</td>\n",
       "      <td>OFI</td>\n",
       "      <td>Outstanding figures of investments by direct i...</td>\n",
       "      <td>TOT</td>\n",
       "      <td>All undertakings (=1+3)</td>\n",
       "      <td>TOT</td>\n",
       "      <td>TOTAL INVESTMENTS</td>\n",
       "      <td>TOT</td>\n",
       "      <td>Total</td>\n",
       "      <td>...</td>\n",
       "      <td>2019</td>\n",
       "      <td>USD</td>\n",
       "      <td>US Dollar</td>\n",
       "      <td>6</td>\n",
       "      <td>Millions</td>\n",
       "      <td>NaN</td>\n",
       "      <td>NaN</td>\n",
       "      <td>0.000</td>\n",
       "      <td>NaN</td>\n",
       "      <td>NaN</td>\n",
       "    </tr>\n",
       "    <tr>\n",
       "      <th>102042</th>\n",
       "      <td>USD</td>\n",
       "      <td>US Dollars (millions)</td>\n",
       "      <td>OFI</td>\n",
       "      <td>Outstanding figures of investments by direct i...</td>\n",
       "      <td>TOT</td>\n",
       "      <td>All undertakings (=1+3)</td>\n",
       "      <td>TOT</td>\n",
       "      <td>TOTAL INVESTMENTS</td>\n",
       "      <td>TOT</td>\n",
       "      <td>Total</td>\n",
       "      <td>...</td>\n",
       "      <td>2019</td>\n",
       "      <td>USD</td>\n",
       "      <td>US Dollar</td>\n",
       "      <td>6</td>\n",
       "      <td>Millions</td>\n",
       "      <td>NaN</td>\n",
       "      <td>NaN</td>\n",
       "      <td>0.000</td>\n",
       "      <td>NaN</td>\n",
       "      <td>NaN</td>\n",
       "    </tr>\n",
       "    <tr>\n",
       "      <th>102284</th>\n",
       "      <td>USD</td>\n",
       "      <td>US Dollars (millions)</td>\n",
       "      <td>OFI</td>\n",
       "      <td>Outstanding figures of investments by direct i...</td>\n",
       "      <td>TOT</td>\n",
       "      <td>All undertakings (=1+3)</td>\n",
       "      <td>TOT</td>\n",
       "      <td>TOTAL INVESTMENTS</td>\n",
       "      <td>TOT</td>\n",
       "      <td>Total</td>\n",
       "      <td>...</td>\n",
       "      <td>2019</td>\n",
       "      <td>USD</td>\n",
       "      <td>US Dollar</td>\n",
       "      <td>6</td>\n",
       "      <td>Millions</td>\n",
       "      <td>NaN</td>\n",
       "      <td>NaN</td>\n",
       "      <td>141465.547</td>\n",
       "      <td>NaN</td>\n",
       "      <td>NaN</td>\n",
       "    </tr>\n",
       "    <tr>\n",
       "      <th>104792</th>\n",
       "      <td>USD</td>\n",
       "      <td>US Dollars (millions)</td>\n",
       "      <td>OFI</td>\n",
       "      <td>Outstanding figures of investments by direct i...</td>\n",
       "      <td>TOT</td>\n",
       "      <td>All undertakings (=1+3)</td>\n",
       "      <td>TOT</td>\n",
       "      <td>TOTAL INVESTMENTS</td>\n",
       "      <td>TOT</td>\n",
       "      <td>Total</td>\n",
       "      <td>...</td>\n",
       "      <td>2019</td>\n",
       "      <td>USD</td>\n",
       "      <td>US Dollar</td>\n",
       "      <td>6</td>\n",
       "      <td>Millions</td>\n",
       "      <td>NaN</td>\n",
       "      <td>NaN</td>\n",
       "      <td>509809.164</td>\n",
       "      <td>NaN</td>\n",
       "      <td>NaN</td>\n",
       "    </tr>\n",
       "  </tbody>\n",
       "</table>\n",
       "<p>5 rows × 27 columns</p>\n",
       "</div>"
      ],
      "text/plain": [
       "        CUR               Currency  VAR  \\\n",
       "101094  USD  US Dollars (millions)  OFI   \n",
       "101997  USD  US Dollars (millions)  OFI   \n",
       "102042  USD  US Dollars (millions)  OFI   \n",
       "102284  USD  US Dollars (millions)  OFI   \n",
       "104792  USD  US Dollars (millions)  OFI   \n",
       "\n",
       "                                                 Variable  OWN  \\\n",
       "101094  Outstanding figures of investments by direct i...  TOT   \n",
       "101997  Outstanding figures of investments by direct i...  TOT   \n",
       "102042  Outstanding figures of investments by direct i...  TOT   \n",
       "102284  Outstanding figures of investments by direct i...  TOT   \n",
       "104792  Outstanding figures of investments by direct i...  TOT   \n",
       "\n",
       "                      Ownership IVTYP    Investment Type ITYP Insurance Type  \\\n",
       "101094  All undertakings (=1+3)   TOT  TOTAL INVESTMENTS  TOT          Total   \n",
       "101997  All undertakings (=1+3)   TOT  TOTAL INVESTMENTS  TOT          Total   \n",
       "102042  All undertakings (=1+3)   TOT  TOTAL INVESTMENTS  TOT          Total   \n",
       "102284  All undertakings (=1+3)   TOT  TOTAL INVESTMENTS  TOT          Total   \n",
       "104792  All undertakings (=1+3)   TOT  TOTAL INVESTMENTS  TOT          Total   \n",
       "\n",
       "        ...  Year Unit Code       Unit PowerCode Code PowerCode  \\\n",
       "101094  ...  2019       USD  US Dollar              6  Millions   \n",
       "101997  ...  2019       USD  US Dollar              6  Millions   \n",
       "102042  ...  2019       USD  US Dollar              6  Millions   \n",
       "102284  ...  2019       USD  US Dollar              6  Millions   \n",
       "104792  ...  2019       USD  US Dollar              6  Millions   \n",
       "\n",
       "       Reference Period Code  Reference Period       Value Flag Codes Flags  \n",
       "101094                   NaN               NaN  148784.948        NaN   NaN  \n",
       "101997                   NaN               NaN       0.000        NaN   NaN  \n",
       "102042                   NaN               NaN       0.000        NaN   NaN  \n",
       "102284                   NaN               NaN  141465.547        NaN   NaN  \n",
       "104792                   NaN               NaN  509809.164        NaN   NaN  \n",
       "\n",
       "[5 rows x 27 columns]"
      ]
     },
     "execution_count": 86,
     "metadata": {},
     "output_type": "execute_result"
    }
   ],
   "source": [
    "year_2019=insurances['Year']==2019\n",
    "invest_type_2019=insurances['Investment Type']=='TOTAL INVESTMENTS'\n",
    "currency_2019=insurances['CUR']=='USD'\n",
    "own_2019=insurances['OWN']=='TOT'\n",
    "insurance_type_2019=insurances['ITYP']=='TOT'\n",
    "total_insurance_per_country_2019=insurances[year_2019 & invest_type_2019 & currency_2019 & own_2019 & insurance_type_2019]\n",
    "total_insurance_per_country_2019.head()"
   ]
  },
  {
   "cell_type": "markdown",
   "id": "cc91fa6f",
   "metadata": {},
   "source": [
    "To get a better overview of the volume, the value in USD is plotted on a map. "
   ]
  },
  {
   "cell_type": "code",
   "execution_count": 90,
   "id": "3b9595a2",
   "metadata": {},
   "outputs": [],
   "source": [
    "data = dict(type = 'choropleth',\n",
    "            locations = total_insurance_per_country_2019['Country'],\n",
    "            locationmode = 'country names',\n",
    "            colorscale= 'Portland',\n",
    "            text= total_insurance_per_country_2019['Country'],\n",
    "            z=total_insurance_per_country_2019['Value'],\n",
    "            colorbar = {'title':'USD'})"
   ]
  },
  {
   "cell_type": "code",
   "execution_count": 93,
   "id": "c9b52d2f",
   "metadata": {},
   "outputs": [],
   "source": [
    "layout = dict(\n",
    "    title = 'Insurance (both life and non-life) Volume in USD in 2019',\n",
    "    geo = dict(\n",
    "        showframe = False,\n",
    "        projection = {'type':'mercator'}\n",
    "    )\n",
    ")"
   ]
  },
  {
   "cell_type": "code",
   "execution_count": 94,
   "id": "4e3de34c",
   "metadata": {},
   "outputs": [
    {
     "data": {
      "application/vnd.plotly.v1+json": {
       "config": {
        "linkText": "Export to plot.ly",
        "plotlyServerURL": "https://plot.ly",
        "showLink": false
       },
       "data": [
        {
         "colorbar": {
          "title": {
           "text": "USD"
          }
         },
         "colorscale": [
          [
           0,
           "rgb(12,51,131)"
          ],
          [
           0.25,
           "rgb(10,136,186)"
          ],
          [
           0.5,
           "rgb(242,211,56)"
          ],
          [
           0.75,
           "rgb(242,143,56)"
          ],
          [
           1,
           "rgb(217,30,30)"
          ]
         ],
         "locationmode": "country names",
         "locations": [
          "Australia",
          "Austria",
          "Austria",
          "Austria",
          "Denmark",
          "Denmark",
          "Denmark",
          "Finland",
          "Finland",
          "Finland",
          "Germany",
          "Greece",
          "Greece",
          "Greece",
          "Hungary",
          "Iceland",
          "Italy",
          "Italy",
          "Italy",
          "Luxembourg",
          "Mexico",
          "Mexico",
          "New Zealand",
          "Norway",
          "Norway",
          "Norway",
          "Poland",
          "Poland",
          "Poland",
          "Portugal",
          "Portugal",
          "Portugal",
          "Spain",
          "Spain",
          "Spain",
          "Sweden",
          "Switzerland",
          "Turkey",
          "Turkey",
          "Turkey",
          "United Kingdom",
          "United Kingdom",
          "United Kingdom",
          "Chile",
          "Chile",
          "Chile",
          "Israel",
          "Israel",
          "Israel",
          "Slovenia",
          "Slovenia",
          "Slovenia",
          "Malaysia",
          "Malaysia",
          "Malaysia",
          "Russia",
          "Argentina",
          "Brazil",
          "Belgium",
          "Argentina",
          "Argentina",
          "Colombia",
          "Guatemala",
          "Costa Rica",
          "Guatemala",
          "Indonesia",
          "Costa Rica",
          "Indonesia",
          "Colombia",
          "Colombia",
          "Costa Rica",
          "Paraguay",
          "Uruguay",
          "Peru",
          "Uruguay",
          "Peru",
          "El Salvador",
          "Paraguay",
          "Peru",
          "Uruguay",
          "Paraguay",
          "Latvia",
          "Latvia",
          "Honduras",
          "Honduras",
          "Latvia",
          "Honduras",
          "Brazil",
          "Brazil",
          "Lithuania",
          "Lithuania",
          "Lithuania",
          "Ecuador",
          "Ecuador",
          "Ecuador",
          "Bolivia",
          "Bolivia",
          "Bolivia",
          "Chinese Taipei"
         ],
         "text": [
          "Australia",
          "Austria",
          "Austria",
          "Austria",
          "Denmark",
          "Denmark",
          "Denmark",
          "Finland",
          "Finland",
          "Finland",
          "Germany",
          "Greece",
          "Greece",
          "Greece",
          "Hungary",
          "Iceland",
          "Italy",
          "Italy",
          "Italy",
          "Luxembourg",
          "Mexico",
          "Mexico",
          "New Zealand",
          "Norway",
          "Norway",
          "Norway",
          "Poland",
          "Poland",
          "Poland",
          "Portugal",
          "Portugal",
          "Portugal",
          "Spain",
          "Spain",
          "Spain",
          "Sweden",
          "Switzerland",
          "Turkey",
          "Turkey",
          "Turkey",
          "United Kingdom",
          "United Kingdom",
          "United Kingdom",
          "Chile",
          "Chile",
          "Chile",
          "Israel",
          "Israel",
          "Israel",
          "Slovenia",
          "Slovenia",
          "Slovenia",
          "Malaysia",
          "Malaysia",
          "Malaysia",
          "Russia",
          "Argentina",
          "Brazil",
          "Belgium",
          "Argentina",
          "Argentina",
          "Colombia",
          "Guatemala",
          "Costa Rica",
          "Guatemala",
          "Indonesia",
          "Costa Rica",
          "Indonesia",
          "Colombia",
          "Colombia",
          "Costa Rica",
          "Paraguay",
          "Uruguay",
          "Peru",
          "Uruguay",
          "Peru",
          "El Salvador",
          "Paraguay",
          "Peru",
          "Uruguay",
          "Paraguay",
          "Latvia",
          "Latvia",
          "Honduras",
          "Honduras",
          "Latvia",
          "Honduras",
          "Brazil",
          "Brazil",
          "Lithuania",
          "Lithuania",
          "Lithuania",
          "Ecuador",
          "Ecuador",
          "Ecuador",
          "Bolivia",
          "Bolivia",
          "Bolivia",
          "Chinese Taipei"
         ],
         "type": "choropleth",
         "z": [
          148784.948,
          0,
          0,
          141465.547,
          509809.164,
          49992.81,
          559801.974,
          49892.441,
          32548.268,
          82442.956,
          2116673.163,
          19673.17,
          0,
          19673.17,
          9920.185,
          1209.175,
          457082.69,
          324472.981,
          970294.993,
          273518.716,
          71319.468,
          71319.468,
          11428.288,
          135660.153,
          75770.747,
          211430.901,
          43180.138,
          4434.565,
          47614.702,
          22284.109,
          35502.28,
          57621.566,
          239146.832,
          113134.261,
          352281.093,
          576231.007,
          450142.533,
          5578.744,
          7428.003,
          13006.747,
          2136043.711,
          5084.302,
          2141128.013,
          52823.741,
          10122.653,
          62946.394,
          135115.247,
          26872.855,
          161988.102,
          2841.865,
          5269.757,
          8111.622,
          79447.541,
          89.701,
          79537.241,
          40858.046,
          67.927,
          32.945,
          376101.795,
          15790.518,
          15722.591,
          18952.017,
          972.467,
          3304.216,
          972.467,
          43185.711,
          3673.438,
          43185.711,
          17993.764,
          958.252,
          369.222,
          311.303,
          316.29,
          0,
          4430.261,
          13774.719,
          574.015,
          0,
          13774.719,
          4746.55,
          0,
          1215.387,
          1438.756,
          0,
          660.962,
          223.369,
          0,
          276304.198,
          276337.143,
          1317.108,
          772.102,
          545.006,
          0,
          1073.152,
          1073.152,
          139.355,
          522.105,
          661.46,
          964326.385
         ]
        }
       ],
       "layout": {
        "geo": {
         "projection": {
          "type": "mercator"
         },
         "showframe": false
        },
        "template": {
         "data": {
          "bar": [
           {
            "error_x": {
             "color": "#2a3f5f"
            },
            "error_y": {
             "color": "#2a3f5f"
            },
            "marker": {
             "line": {
              "color": "#E5ECF6",
              "width": 0.5
             },
             "pattern": {
              "fillmode": "overlay",
              "size": 10,
              "solidity": 0.2
             }
            },
            "type": "bar"
           }
          ],
          "barpolar": [
           {
            "marker": {
             "line": {
              "color": "#E5ECF6",
              "width": 0.5
             },
             "pattern": {
              "fillmode": "overlay",
              "size": 10,
              "solidity": 0.2
             }
            },
            "type": "barpolar"
           }
          ],
          "carpet": [
           {
            "aaxis": {
             "endlinecolor": "#2a3f5f",
             "gridcolor": "white",
             "linecolor": "white",
             "minorgridcolor": "white",
             "startlinecolor": "#2a3f5f"
            },
            "baxis": {
             "endlinecolor": "#2a3f5f",
             "gridcolor": "white",
             "linecolor": "white",
             "minorgridcolor": "white",
             "startlinecolor": "#2a3f5f"
            },
            "type": "carpet"
           }
          ],
          "choropleth": [
           {
            "colorbar": {
             "outlinewidth": 0,
             "ticks": ""
            },
            "type": "choropleth"
           }
          ],
          "contour": [
           {
            "colorbar": {
             "outlinewidth": 0,
             "ticks": ""
            },
            "colorscale": [
             [
              0,
              "#0d0887"
             ],
             [
              0.1111111111111111,
              "#46039f"
             ],
             [
              0.2222222222222222,
              "#7201a8"
             ],
             [
              0.3333333333333333,
              "#9c179e"
             ],
             [
              0.4444444444444444,
              "#bd3786"
             ],
             [
              0.5555555555555556,
              "#d8576b"
             ],
             [
              0.6666666666666666,
              "#ed7953"
             ],
             [
              0.7777777777777778,
              "#fb9f3a"
             ],
             [
              0.8888888888888888,
              "#fdca26"
             ],
             [
              1,
              "#f0f921"
             ]
            ],
            "type": "contour"
           }
          ],
          "contourcarpet": [
           {
            "colorbar": {
             "outlinewidth": 0,
             "ticks": ""
            },
            "type": "contourcarpet"
           }
          ],
          "heatmap": [
           {
            "colorbar": {
             "outlinewidth": 0,
             "ticks": ""
            },
            "colorscale": [
             [
              0,
              "#0d0887"
             ],
             [
              0.1111111111111111,
              "#46039f"
             ],
             [
              0.2222222222222222,
              "#7201a8"
             ],
             [
              0.3333333333333333,
              "#9c179e"
             ],
             [
              0.4444444444444444,
              "#bd3786"
             ],
             [
              0.5555555555555556,
              "#d8576b"
             ],
             [
              0.6666666666666666,
              "#ed7953"
             ],
             [
              0.7777777777777778,
              "#fb9f3a"
             ],
             [
              0.8888888888888888,
              "#fdca26"
             ],
             [
              1,
              "#f0f921"
             ]
            ],
            "type": "heatmap"
           }
          ],
          "heatmapgl": [
           {
            "colorbar": {
             "outlinewidth": 0,
             "ticks": ""
            },
            "colorscale": [
             [
              0,
              "#0d0887"
             ],
             [
              0.1111111111111111,
              "#46039f"
             ],
             [
              0.2222222222222222,
              "#7201a8"
             ],
             [
              0.3333333333333333,
              "#9c179e"
             ],
             [
              0.4444444444444444,
              "#bd3786"
             ],
             [
              0.5555555555555556,
              "#d8576b"
             ],
             [
              0.6666666666666666,
              "#ed7953"
             ],
             [
              0.7777777777777778,
              "#fb9f3a"
             ],
             [
              0.8888888888888888,
              "#fdca26"
             ],
             [
              1,
              "#f0f921"
             ]
            ],
            "type": "heatmapgl"
           }
          ],
          "histogram": [
           {
            "marker": {
             "pattern": {
              "fillmode": "overlay",
              "size": 10,
              "solidity": 0.2
             }
            },
            "type": "histogram"
           }
          ],
          "histogram2d": [
           {
            "colorbar": {
             "outlinewidth": 0,
             "ticks": ""
            },
            "colorscale": [
             [
              0,
              "#0d0887"
             ],
             [
              0.1111111111111111,
              "#46039f"
             ],
             [
              0.2222222222222222,
              "#7201a8"
             ],
             [
              0.3333333333333333,
              "#9c179e"
             ],
             [
              0.4444444444444444,
              "#bd3786"
             ],
             [
              0.5555555555555556,
              "#d8576b"
             ],
             [
              0.6666666666666666,
              "#ed7953"
             ],
             [
              0.7777777777777778,
              "#fb9f3a"
             ],
             [
              0.8888888888888888,
              "#fdca26"
             ],
             [
              1,
              "#f0f921"
             ]
            ],
            "type": "histogram2d"
           }
          ],
          "histogram2dcontour": [
           {
            "colorbar": {
             "outlinewidth": 0,
             "ticks": ""
            },
            "colorscale": [
             [
              0,
              "#0d0887"
             ],
             [
              0.1111111111111111,
              "#46039f"
             ],
             [
              0.2222222222222222,
              "#7201a8"
             ],
             [
              0.3333333333333333,
              "#9c179e"
             ],
             [
              0.4444444444444444,
              "#bd3786"
             ],
             [
              0.5555555555555556,
              "#d8576b"
             ],
             [
              0.6666666666666666,
              "#ed7953"
             ],
             [
              0.7777777777777778,
              "#fb9f3a"
             ],
             [
              0.8888888888888888,
              "#fdca26"
             ],
             [
              1,
              "#f0f921"
             ]
            ],
            "type": "histogram2dcontour"
           }
          ],
          "mesh3d": [
           {
            "colorbar": {
             "outlinewidth": 0,
             "ticks": ""
            },
            "type": "mesh3d"
           }
          ],
          "parcoords": [
           {
            "line": {
             "colorbar": {
              "outlinewidth": 0,
              "ticks": ""
             }
            },
            "type": "parcoords"
           }
          ],
          "pie": [
           {
            "automargin": true,
            "type": "pie"
           }
          ],
          "scatter": [
           {
            "marker": {
             "colorbar": {
              "outlinewidth": 0,
              "ticks": ""
             }
            },
            "type": "scatter"
           }
          ],
          "scatter3d": [
           {
            "line": {
             "colorbar": {
              "outlinewidth": 0,
              "ticks": ""
             }
            },
            "marker": {
             "colorbar": {
              "outlinewidth": 0,
              "ticks": ""
             }
            },
            "type": "scatter3d"
           }
          ],
          "scattercarpet": [
           {
            "marker": {
             "colorbar": {
              "outlinewidth": 0,
              "ticks": ""
             }
            },
            "type": "scattercarpet"
           }
          ],
          "scattergeo": [
           {
            "marker": {
             "colorbar": {
              "outlinewidth": 0,
              "ticks": ""
             }
            },
            "type": "scattergeo"
           }
          ],
          "scattergl": [
           {
            "marker": {
             "colorbar": {
              "outlinewidth": 0,
              "ticks": ""
             }
            },
            "type": "scattergl"
           }
          ],
          "scattermapbox": [
           {
            "marker": {
             "colorbar": {
              "outlinewidth": 0,
              "ticks": ""
             }
            },
            "type": "scattermapbox"
           }
          ],
          "scatterpolar": [
           {
            "marker": {
             "colorbar": {
              "outlinewidth": 0,
              "ticks": ""
             }
            },
            "type": "scatterpolar"
           }
          ],
          "scatterpolargl": [
           {
            "marker": {
             "colorbar": {
              "outlinewidth": 0,
              "ticks": ""
             }
            },
            "type": "scatterpolargl"
           }
          ],
          "scatterternary": [
           {
            "marker": {
             "colorbar": {
              "outlinewidth": 0,
              "ticks": ""
             }
            },
            "type": "scatterternary"
           }
          ],
          "surface": [
           {
            "colorbar": {
             "outlinewidth": 0,
             "ticks": ""
            },
            "colorscale": [
             [
              0,
              "#0d0887"
             ],
             [
              0.1111111111111111,
              "#46039f"
             ],
             [
              0.2222222222222222,
              "#7201a8"
             ],
             [
              0.3333333333333333,
              "#9c179e"
             ],
             [
              0.4444444444444444,
              "#bd3786"
             ],
             [
              0.5555555555555556,
              "#d8576b"
             ],
             [
              0.6666666666666666,
              "#ed7953"
             ],
             [
              0.7777777777777778,
              "#fb9f3a"
             ],
             [
              0.8888888888888888,
              "#fdca26"
             ],
             [
              1,
              "#f0f921"
             ]
            ],
            "type": "surface"
           }
          ],
          "table": [
           {
            "cells": {
             "fill": {
              "color": "#EBF0F8"
             },
             "line": {
              "color": "white"
             }
            },
            "header": {
             "fill": {
              "color": "#C8D4E3"
             },
             "line": {
              "color": "white"
             }
            },
            "type": "table"
           }
          ]
         },
         "layout": {
          "annotationdefaults": {
           "arrowcolor": "#2a3f5f",
           "arrowhead": 0,
           "arrowwidth": 1
          },
          "autotypenumbers": "strict",
          "coloraxis": {
           "colorbar": {
            "outlinewidth": 0,
            "ticks": ""
           }
          },
          "colorscale": {
           "diverging": [
            [
             0,
             "#8e0152"
            ],
            [
             0.1,
             "#c51b7d"
            ],
            [
             0.2,
             "#de77ae"
            ],
            [
             0.3,
             "#f1b6da"
            ],
            [
             0.4,
             "#fde0ef"
            ],
            [
             0.5,
             "#f7f7f7"
            ],
            [
             0.6,
             "#e6f5d0"
            ],
            [
             0.7,
             "#b8e186"
            ],
            [
             0.8,
             "#7fbc41"
            ],
            [
             0.9,
             "#4d9221"
            ],
            [
             1,
             "#276419"
            ]
           ],
           "sequential": [
            [
             0,
             "#0d0887"
            ],
            [
             0.1111111111111111,
             "#46039f"
            ],
            [
             0.2222222222222222,
             "#7201a8"
            ],
            [
             0.3333333333333333,
             "#9c179e"
            ],
            [
             0.4444444444444444,
             "#bd3786"
            ],
            [
             0.5555555555555556,
             "#d8576b"
            ],
            [
             0.6666666666666666,
             "#ed7953"
            ],
            [
             0.7777777777777778,
             "#fb9f3a"
            ],
            [
             0.8888888888888888,
             "#fdca26"
            ],
            [
             1,
             "#f0f921"
            ]
           ],
           "sequentialminus": [
            [
             0,
             "#0d0887"
            ],
            [
             0.1111111111111111,
             "#46039f"
            ],
            [
             0.2222222222222222,
             "#7201a8"
            ],
            [
             0.3333333333333333,
             "#9c179e"
            ],
            [
             0.4444444444444444,
             "#bd3786"
            ],
            [
             0.5555555555555556,
             "#d8576b"
            ],
            [
             0.6666666666666666,
             "#ed7953"
            ],
            [
             0.7777777777777778,
             "#fb9f3a"
            ],
            [
             0.8888888888888888,
             "#fdca26"
            ],
            [
             1,
             "#f0f921"
            ]
           ]
          },
          "colorway": [
           "#636efa",
           "#EF553B",
           "#00cc96",
           "#ab63fa",
           "#FFA15A",
           "#19d3f3",
           "#FF6692",
           "#B6E880",
           "#FF97FF",
           "#FECB52"
          ],
          "font": {
           "color": "#2a3f5f"
          },
          "geo": {
           "bgcolor": "white",
           "lakecolor": "white",
           "landcolor": "#E5ECF6",
           "showlakes": true,
           "showland": true,
           "subunitcolor": "white"
          },
          "hoverlabel": {
           "align": "left"
          },
          "hovermode": "closest",
          "mapbox": {
           "style": "light"
          },
          "paper_bgcolor": "white",
          "plot_bgcolor": "#E5ECF6",
          "polar": {
           "angularaxis": {
            "gridcolor": "white",
            "linecolor": "white",
            "ticks": ""
           },
           "bgcolor": "#E5ECF6",
           "radialaxis": {
            "gridcolor": "white",
            "linecolor": "white",
            "ticks": ""
           }
          },
          "scene": {
           "xaxis": {
            "backgroundcolor": "#E5ECF6",
            "gridcolor": "white",
            "gridwidth": 2,
            "linecolor": "white",
            "showbackground": true,
            "ticks": "",
            "zerolinecolor": "white"
           },
           "yaxis": {
            "backgroundcolor": "#E5ECF6",
            "gridcolor": "white",
            "gridwidth": 2,
            "linecolor": "white",
            "showbackground": true,
            "ticks": "",
            "zerolinecolor": "white"
           },
           "zaxis": {
            "backgroundcolor": "#E5ECF6",
            "gridcolor": "white",
            "gridwidth": 2,
            "linecolor": "white",
            "showbackground": true,
            "ticks": "",
            "zerolinecolor": "white"
           }
          },
          "shapedefaults": {
           "line": {
            "color": "#2a3f5f"
           }
          },
          "ternary": {
           "aaxis": {
            "gridcolor": "white",
            "linecolor": "white",
            "ticks": ""
           },
           "baxis": {
            "gridcolor": "white",
            "linecolor": "white",
            "ticks": ""
           },
           "bgcolor": "#E5ECF6",
           "caxis": {
            "gridcolor": "white",
            "linecolor": "white",
            "ticks": ""
           }
          },
          "title": {
           "x": 0.05
          },
          "xaxis": {
           "automargin": true,
           "gridcolor": "white",
           "linecolor": "white",
           "ticks": "",
           "title": {
            "standoff": 15
           },
           "zerolinecolor": "white",
           "zerolinewidth": 2
          },
          "yaxis": {
           "automargin": true,
           "gridcolor": "white",
           "linecolor": "white",
           "ticks": "",
           "title": {
            "standoff": 15
           },
           "zerolinecolor": "white",
           "zerolinewidth": 2
          }
         }
        },
        "title": {
         "text": "Insurance (both life and non-life) Volume in USD in 2019"
        }
       }
      },
      "text/html": [
       "<div>                            <div id=\"67ea58b0-80d8-4755-8eab-cbad2cc08d23\" class=\"plotly-graph-div\" style=\"height:525px; width:100%;\"></div>            <script type=\"text/javascript\">                require([\"plotly\"], function(Plotly) {                    window.PLOTLYENV=window.PLOTLYENV || {};                                    if (document.getElementById(\"67ea58b0-80d8-4755-8eab-cbad2cc08d23\")) {                    Plotly.newPlot(                        \"67ea58b0-80d8-4755-8eab-cbad2cc08d23\",                        [{\"colorbar\":{\"title\":{\"text\":\"USD\"}},\"colorscale\":[[0.0,\"rgb(12,51,131)\"],[0.25,\"rgb(10,136,186)\"],[0.5,\"rgb(242,211,56)\"],[0.75,\"rgb(242,143,56)\"],[1.0,\"rgb(217,30,30)\"]],\"locationmode\":\"country names\",\"locations\":[\"Australia\",\"Austria\",\"Austria\",\"Austria\",\"Denmark\",\"Denmark\",\"Denmark\",\"Finland\",\"Finland\",\"Finland\",\"Germany\",\"Greece\",\"Greece\",\"Greece\",\"Hungary\",\"Iceland\",\"Italy\",\"Italy\",\"Italy\",\"Luxembourg\",\"Mexico\",\"Mexico\",\"New Zealand\",\"Norway\",\"Norway\",\"Norway\",\"Poland\",\"Poland\",\"Poland\",\"Portugal\",\"Portugal\",\"Portugal\",\"Spain\",\"Spain\",\"Spain\",\"Sweden\",\"Switzerland\",\"Turkey\",\"Turkey\",\"Turkey\",\"United Kingdom\",\"United Kingdom\",\"United Kingdom\",\"Chile\",\"Chile\",\"Chile\",\"Israel\",\"Israel\",\"Israel\",\"Slovenia\",\"Slovenia\",\"Slovenia\",\"Malaysia\",\"Malaysia\",\"Malaysia\",\"Russia\",\"Argentina\",\"Brazil\",\"Belgium\",\"Argentina\",\"Argentina\",\"Colombia\",\"Guatemala\",\"Costa Rica\",\"Guatemala\",\"Indonesia\",\"Costa Rica\",\"Indonesia\",\"Colombia\",\"Colombia\",\"Costa Rica\",\"Paraguay\",\"Uruguay\",\"Peru\",\"Uruguay\",\"Peru\",\"El Salvador\",\"Paraguay\",\"Peru\",\"Uruguay\",\"Paraguay\",\"Latvia\",\"Latvia\",\"Honduras\",\"Honduras\",\"Latvia\",\"Honduras\",\"Brazil\",\"Brazil\",\"Lithuania\",\"Lithuania\",\"Lithuania\",\"Ecuador\",\"Ecuador\",\"Ecuador\",\"Bolivia\",\"Bolivia\",\"Bolivia\",\"Chinese Taipei\"],\"text\":[\"Australia\",\"Austria\",\"Austria\",\"Austria\",\"Denmark\",\"Denmark\",\"Denmark\",\"Finland\",\"Finland\",\"Finland\",\"Germany\",\"Greece\",\"Greece\",\"Greece\",\"Hungary\",\"Iceland\",\"Italy\",\"Italy\",\"Italy\",\"Luxembourg\",\"Mexico\",\"Mexico\",\"New Zealand\",\"Norway\",\"Norway\",\"Norway\",\"Poland\",\"Poland\",\"Poland\",\"Portugal\",\"Portugal\",\"Portugal\",\"Spain\",\"Spain\",\"Spain\",\"Sweden\",\"Switzerland\",\"Turkey\",\"Turkey\",\"Turkey\",\"United Kingdom\",\"United Kingdom\",\"United Kingdom\",\"Chile\",\"Chile\",\"Chile\",\"Israel\",\"Israel\",\"Israel\",\"Slovenia\",\"Slovenia\",\"Slovenia\",\"Malaysia\",\"Malaysia\",\"Malaysia\",\"Russia\",\"Argentina\",\"Brazil\",\"Belgium\",\"Argentina\",\"Argentina\",\"Colombia\",\"Guatemala\",\"Costa Rica\",\"Guatemala\",\"Indonesia\",\"Costa Rica\",\"Indonesia\",\"Colombia\",\"Colombia\",\"Costa Rica\",\"Paraguay\",\"Uruguay\",\"Peru\",\"Uruguay\",\"Peru\",\"El Salvador\",\"Paraguay\",\"Peru\",\"Uruguay\",\"Paraguay\",\"Latvia\",\"Latvia\",\"Honduras\",\"Honduras\",\"Latvia\",\"Honduras\",\"Brazil\",\"Brazil\",\"Lithuania\",\"Lithuania\",\"Lithuania\",\"Ecuador\",\"Ecuador\",\"Ecuador\",\"Bolivia\",\"Bolivia\",\"Bolivia\",\"Chinese Taipei\"],\"type\":\"choropleth\",\"z\":[148784.948,0.0,0.0,141465.547,509809.164,49992.81,559801.974,49892.441,32548.268,82442.956,2116673.163,19673.17,0.0,19673.17,9920.185,1209.175,457082.69,324472.981,970294.993,273518.716,71319.468,71319.468,11428.288,135660.153,75770.747,211430.901,43180.138,4434.565,47614.702,22284.109,35502.28,57621.566,239146.832,113134.261,352281.093,576231.007,450142.533,5578.744,7428.003,13006.747,2136043.711,5084.302,2141128.013,52823.741,10122.653,62946.394,135115.247,26872.855,161988.102,2841.865,5269.757,8111.622,79447.541,89.701,79537.241,40858.046,67.927,32.945,376101.795,15790.518,15722.591,18952.017,972.467,3304.216,972.467,43185.711,3673.438,43185.711,17993.764,958.252,369.222,311.303,316.29,0.0,4430.261,13774.719,574.015,0.0,13774.719,4746.55,0.0,1215.387,1438.756,0.0,660.962,223.369,0.0,276304.198,276337.143,1317.108,772.102,545.006,0.0,1073.152,1073.152,139.355,522.105,661.46,964326.385]}],                        {\"geo\":{\"projection\":{\"type\":\"mercator\"},\"showframe\":false},\"template\":{\"data\":{\"bar\":[{\"error_x\":{\"color\":\"#2a3f5f\"},\"error_y\":{\"color\":\"#2a3f5f\"},\"marker\":{\"line\":{\"color\":\"#E5ECF6\",\"width\":0.5},\"pattern\":{\"fillmode\":\"overlay\",\"size\":10,\"solidity\":0.2}},\"type\":\"bar\"}],\"barpolar\":[{\"marker\":{\"line\":{\"color\":\"#E5ECF6\",\"width\":0.5},\"pattern\":{\"fillmode\":\"overlay\",\"size\":10,\"solidity\":0.2}},\"type\":\"barpolar\"}],\"carpet\":[{\"aaxis\":{\"endlinecolor\":\"#2a3f5f\",\"gridcolor\":\"white\",\"linecolor\":\"white\",\"minorgridcolor\":\"white\",\"startlinecolor\":\"#2a3f5f\"},\"baxis\":{\"endlinecolor\":\"#2a3f5f\",\"gridcolor\":\"white\",\"linecolor\":\"white\",\"minorgridcolor\":\"white\",\"startlinecolor\":\"#2a3f5f\"},\"type\":\"carpet\"}],\"choropleth\":[{\"colorbar\":{\"outlinewidth\":0,\"ticks\":\"\"},\"type\":\"choropleth\"}],\"contour\":[{\"colorbar\":{\"outlinewidth\":0,\"ticks\":\"\"},\"colorscale\":[[0.0,\"#0d0887\"],[0.1111111111111111,\"#46039f\"],[0.2222222222222222,\"#7201a8\"],[0.3333333333333333,\"#9c179e\"],[0.4444444444444444,\"#bd3786\"],[0.5555555555555556,\"#d8576b\"],[0.6666666666666666,\"#ed7953\"],[0.7777777777777778,\"#fb9f3a\"],[0.8888888888888888,\"#fdca26\"],[1.0,\"#f0f921\"]],\"type\":\"contour\"}],\"contourcarpet\":[{\"colorbar\":{\"outlinewidth\":0,\"ticks\":\"\"},\"type\":\"contourcarpet\"}],\"heatmap\":[{\"colorbar\":{\"outlinewidth\":0,\"ticks\":\"\"},\"colorscale\":[[0.0,\"#0d0887\"],[0.1111111111111111,\"#46039f\"],[0.2222222222222222,\"#7201a8\"],[0.3333333333333333,\"#9c179e\"],[0.4444444444444444,\"#bd3786\"],[0.5555555555555556,\"#d8576b\"],[0.6666666666666666,\"#ed7953\"],[0.7777777777777778,\"#fb9f3a\"],[0.8888888888888888,\"#fdca26\"],[1.0,\"#f0f921\"]],\"type\":\"heatmap\"}],\"heatmapgl\":[{\"colorbar\":{\"outlinewidth\":0,\"ticks\":\"\"},\"colorscale\":[[0.0,\"#0d0887\"],[0.1111111111111111,\"#46039f\"],[0.2222222222222222,\"#7201a8\"],[0.3333333333333333,\"#9c179e\"],[0.4444444444444444,\"#bd3786\"],[0.5555555555555556,\"#d8576b\"],[0.6666666666666666,\"#ed7953\"],[0.7777777777777778,\"#fb9f3a\"],[0.8888888888888888,\"#fdca26\"],[1.0,\"#f0f921\"]],\"type\":\"heatmapgl\"}],\"histogram\":[{\"marker\":{\"pattern\":{\"fillmode\":\"overlay\",\"size\":10,\"solidity\":0.2}},\"type\":\"histogram\"}],\"histogram2d\":[{\"colorbar\":{\"outlinewidth\":0,\"ticks\":\"\"},\"colorscale\":[[0.0,\"#0d0887\"],[0.1111111111111111,\"#46039f\"],[0.2222222222222222,\"#7201a8\"],[0.3333333333333333,\"#9c179e\"],[0.4444444444444444,\"#bd3786\"],[0.5555555555555556,\"#d8576b\"],[0.6666666666666666,\"#ed7953\"],[0.7777777777777778,\"#fb9f3a\"],[0.8888888888888888,\"#fdca26\"],[1.0,\"#f0f921\"]],\"type\":\"histogram2d\"}],\"histogram2dcontour\":[{\"colorbar\":{\"outlinewidth\":0,\"ticks\":\"\"},\"colorscale\":[[0.0,\"#0d0887\"],[0.1111111111111111,\"#46039f\"],[0.2222222222222222,\"#7201a8\"],[0.3333333333333333,\"#9c179e\"],[0.4444444444444444,\"#bd3786\"],[0.5555555555555556,\"#d8576b\"],[0.6666666666666666,\"#ed7953\"],[0.7777777777777778,\"#fb9f3a\"],[0.8888888888888888,\"#fdca26\"],[1.0,\"#f0f921\"]],\"type\":\"histogram2dcontour\"}],\"mesh3d\":[{\"colorbar\":{\"outlinewidth\":0,\"ticks\":\"\"},\"type\":\"mesh3d\"}],\"parcoords\":[{\"line\":{\"colorbar\":{\"outlinewidth\":0,\"ticks\":\"\"}},\"type\":\"parcoords\"}],\"pie\":[{\"automargin\":true,\"type\":\"pie\"}],\"scatter\":[{\"marker\":{\"colorbar\":{\"outlinewidth\":0,\"ticks\":\"\"}},\"type\":\"scatter\"}],\"scatter3d\":[{\"line\":{\"colorbar\":{\"outlinewidth\":0,\"ticks\":\"\"}},\"marker\":{\"colorbar\":{\"outlinewidth\":0,\"ticks\":\"\"}},\"type\":\"scatter3d\"}],\"scattercarpet\":[{\"marker\":{\"colorbar\":{\"outlinewidth\":0,\"ticks\":\"\"}},\"type\":\"scattercarpet\"}],\"scattergeo\":[{\"marker\":{\"colorbar\":{\"outlinewidth\":0,\"ticks\":\"\"}},\"type\":\"scattergeo\"}],\"scattergl\":[{\"marker\":{\"colorbar\":{\"outlinewidth\":0,\"ticks\":\"\"}},\"type\":\"scattergl\"}],\"scattermapbox\":[{\"marker\":{\"colorbar\":{\"outlinewidth\":0,\"ticks\":\"\"}},\"type\":\"scattermapbox\"}],\"scatterpolar\":[{\"marker\":{\"colorbar\":{\"outlinewidth\":0,\"ticks\":\"\"}},\"type\":\"scatterpolar\"}],\"scatterpolargl\":[{\"marker\":{\"colorbar\":{\"outlinewidth\":0,\"ticks\":\"\"}},\"type\":\"scatterpolargl\"}],\"scatterternary\":[{\"marker\":{\"colorbar\":{\"outlinewidth\":0,\"ticks\":\"\"}},\"type\":\"scatterternary\"}],\"surface\":[{\"colorbar\":{\"outlinewidth\":0,\"ticks\":\"\"},\"colorscale\":[[0.0,\"#0d0887\"],[0.1111111111111111,\"#46039f\"],[0.2222222222222222,\"#7201a8\"],[0.3333333333333333,\"#9c179e\"],[0.4444444444444444,\"#bd3786\"],[0.5555555555555556,\"#d8576b\"],[0.6666666666666666,\"#ed7953\"],[0.7777777777777778,\"#fb9f3a\"],[0.8888888888888888,\"#fdca26\"],[1.0,\"#f0f921\"]],\"type\":\"surface\"}],\"table\":[{\"cells\":{\"fill\":{\"color\":\"#EBF0F8\"},\"line\":{\"color\":\"white\"}},\"header\":{\"fill\":{\"color\":\"#C8D4E3\"},\"line\":{\"color\":\"white\"}},\"type\":\"table\"}]},\"layout\":{\"annotationdefaults\":{\"arrowcolor\":\"#2a3f5f\",\"arrowhead\":0,\"arrowwidth\":1},\"autotypenumbers\":\"strict\",\"coloraxis\":{\"colorbar\":{\"outlinewidth\":0,\"ticks\":\"\"}},\"colorscale\":{\"diverging\":[[0,\"#8e0152\"],[0.1,\"#c51b7d\"],[0.2,\"#de77ae\"],[0.3,\"#f1b6da\"],[0.4,\"#fde0ef\"],[0.5,\"#f7f7f7\"],[0.6,\"#e6f5d0\"],[0.7,\"#b8e186\"],[0.8,\"#7fbc41\"],[0.9,\"#4d9221\"],[1,\"#276419\"]],\"sequential\":[[0.0,\"#0d0887\"],[0.1111111111111111,\"#46039f\"],[0.2222222222222222,\"#7201a8\"],[0.3333333333333333,\"#9c179e\"],[0.4444444444444444,\"#bd3786\"],[0.5555555555555556,\"#d8576b\"],[0.6666666666666666,\"#ed7953\"],[0.7777777777777778,\"#fb9f3a\"],[0.8888888888888888,\"#fdca26\"],[1.0,\"#f0f921\"]],\"sequentialminus\":[[0.0,\"#0d0887\"],[0.1111111111111111,\"#46039f\"],[0.2222222222222222,\"#7201a8\"],[0.3333333333333333,\"#9c179e\"],[0.4444444444444444,\"#bd3786\"],[0.5555555555555556,\"#d8576b\"],[0.6666666666666666,\"#ed7953\"],[0.7777777777777778,\"#fb9f3a\"],[0.8888888888888888,\"#fdca26\"],[1.0,\"#f0f921\"]]},\"colorway\":[\"#636efa\",\"#EF553B\",\"#00cc96\",\"#ab63fa\",\"#FFA15A\",\"#19d3f3\",\"#FF6692\",\"#B6E880\",\"#FF97FF\",\"#FECB52\"],\"font\":{\"color\":\"#2a3f5f\"},\"geo\":{\"bgcolor\":\"white\",\"lakecolor\":\"white\",\"landcolor\":\"#E5ECF6\",\"showlakes\":true,\"showland\":true,\"subunitcolor\":\"white\"},\"hoverlabel\":{\"align\":\"left\"},\"hovermode\":\"closest\",\"mapbox\":{\"style\":\"light\"},\"paper_bgcolor\":\"white\",\"plot_bgcolor\":\"#E5ECF6\",\"polar\":{\"angularaxis\":{\"gridcolor\":\"white\",\"linecolor\":\"white\",\"ticks\":\"\"},\"bgcolor\":\"#E5ECF6\",\"radialaxis\":{\"gridcolor\":\"white\",\"linecolor\":\"white\",\"ticks\":\"\"}},\"scene\":{\"xaxis\":{\"backgroundcolor\":\"#E5ECF6\",\"gridcolor\":\"white\",\"gridwidth\":2,\"linecolor\":\"white\",\"showbackground\":true,\"ticks\":\"\",\"zerolinecolor\":\"white\"},\"yaxis\":{\"backgroundcolor\":\"#E5ECF6\",\"gridcolor\":\"white\",\"gridwidth\":2,\"linecolor\":\"white\",\"showbackground\":true,\"ticks\":\"\",\"zerolinecolor\":\"white\"},\"zaxis\":{\"backgroundcolor\":\"#E5ECF6\",\"gridcolor\":\"white\",\"gridwidth\":2,\"linecolor\":\"white\",\"showbackground\":true,\"ticks\":\"\",\"zerolinecolor\":\"white\"}},\"shapedefaults\":{\"line\":{\"color\":\"#2a3f5f\"}},\"ternary\":{\"aaxis\":{\"gridcolor\":\"white\",\"linecolor\":\"white\",\"ticks\":\"\"},\"baxis\":{\"gridcolor\":\"white\",\"linecolor\":\"white\",\"ticks\":\"\"},\"bgcolor\":\"#E5ECF6\",\"caxis\":{\"gridcolor\":\"white\",\"linecolor\":\"white\",\"ticks\":\"\"}},\"title\":{\"x\":0.05},\"xaxis\":{\"automargin\":true,\"gridcolor\":\"white\",\"linecolor\":\"white\",\"ticks\":\"\",\"title\":{\"standoff\":15},\"zerolinecolor\":\"white\",\"zerolinewidth\":2},\"yaxis\":{\"automargin\":true,\"gridcolor\":\"white\",\"linecolor\":\"white\",\"ticks\":\"\",\"title\":{\"standoff\":15},\"zerolinecolor\":\"white\",\"zerolinewidth\":2}}},\"title\":{\"text\":\"Insurance (both life and non-life) Volume in USD in 2019\"}},                        {\"responsive\": true}                    ).then(function(){\n",
       "                            \n",
       "var gd = document.getElementById('67ea58b0-80d8-4755-8eab-cbad2cc08d23');\n",
       "var x = new MutationObserver(function (mutations, observer) {{\n",
       "        var display = window.getComputedStyle(gd).display;\n",
       "        if (!display || display === 'none') {{\n",
       "            console.log([gd, 'removed!']);\n",
       "            Plotly.purge(gd);\n",
       "            observer.disconnect();\n",
       "        }}\n",
       "}});\n",
       "\n",
       "// Listen for the removal of the full notebook cells\n",
       "var notebookContainer = gd.closest('#notebook-container');\n",
       "if (notebookContainer) {{\n",
       "    x.observe(notebookContainer, {childList: true});\n",
       "}}\n",
       "\n",
       "// Listen for the clearing of the current output cell\n",
       "var outputEl = gd.closest('.output');\n",
       "if (outputEl) {{\n",
       "    x.observe(outputEl, {childList: true});\n",
       "}}\n",
       "\n",
       "                        })                };                });            </script>        </div>"
      ]
     },
     "metadata": {},
     "output_type": "display_data"
    }
   ],
   "source": [
    "choromap = go.Figure(data = [data],layout = layout)\n",
    "iplot(choromap, image_width=1200)"
   ]
  },
  {
   "cell_type": "markdown",
   "id": "2520579a",
   "metadata": {},
   "source": [
    "High volume of insurances in Germany does not surprise. It seems strange that there are no insurance data given for the US. The dataset is to an extent incomplete as only a handful of countries are listed. "
   ]
  },
  {
   "cell_type": "code",
   "execution_count": 95,
   "id": "7e1056cd",
   "metadata": {},
   "outputs": [
    {
     "data": {
      "text/plain": [
       "array(['Australia', 'Austria', 'Denmark', 'Finland', 'Germany', 'Greece',\n",
       "       'Hungary', 'Iceland', 'Italy', 'Luxembourg', 'Mexico',\n",
       "       'New Zealand', 'Norway', 'Poland', 'Portugal', 'Spain', 'Sweden',\n",
       "       'Switzerland', 'Turkey', 'United Kingdom', 'Chile', 'Israel',\n",
       "       'Slovenia', 'Malaysia', 'Russia', 'Argentina', 'Brazil', 'Belgium',\n",
       "       'Colombia', 'Guatemala', 'Costa Rica', 'Indonesia', 'Paraguay',\n",
       "       'Uruguay', 'Peru', 'El Salvador', 'Latvia', 'Honduras',\n",
       "       'Lithuania', 'Ecuador', 'Bolivia', 'Chinese Taipei'], dtype=object)"
      ]
     },
     "execution_count": 95,
     "metadata": {},
     "output_type": "execute_result"
    }
   ],
   "source": [
    "total_insurance_per_country_2019[total_insurance_per_country_2019['Country']=='United States']\n",
    "total_insurance_per_country_2019['Country'].unique()"
   ]
  },
  {
   "cell_type": "markdown",
   "id": "91bf4459",
   "metadata": {},
   "source": [
    "To get a value that can be better compared across the world or even Europe, I want to normalize the volume of insurances. For this, data are researched, loaded and joined with the existing values. The hypotheses would be 1) that per-capita-volume is similar across countries and that 2) richer countries have higher insurance volumes. For this, the value of the insurance volume is normalized by 1) the population and 2) the GDP of a country. \n",
    "\n",
    "In this analysis, this missing information is gathered from the World Bank. The information provided relies on national statistics. Derivations in methodology might therefore occur. "
   ]
  },
  {
   "cell_type": "markdown",
   "id": "513a4dd3",
   "metadata": {},
   "source": [
    "### Insurance volume to population"
   ]
  },
  {
   "cell_type": "code",
   "execution_count": 118,
   "id": "bb47f8a1",
   "metadata": {},
   "outputs": [
    {
     "data": {
      "text/html": [
       "<div>\n",
       "<style scoped>\n",
       "    .dataframe tbody tr th:only-of-type {\n",
       "        vertical-align: middle;\n",
       "    }\n",
       "\n",
       "    .dataframe tbody tr th {\n",
       "        vertical-align: top;\n",
       "    }\n",
       "\n",
       "    .dataframe thead th {\n",
       "        text-align: right;\n",
       "    }\n",
       "</style>\n",
       "<table border=\"1\" class=\"dataframe\">\n",
       "  <thead>\n",
       "    <tr style=\"text-align: right;\">\n",
       "      <th></th>\n",
       "      <th>Country Name</th>\n",
       "      <th>Country Code</th>\n",
       "      <th>Indicator Name</th>\n",
       "      <th>Indicator Code</th>\n",
       "      <th>1960</th>\n",
       "      <th>1961</th>\n",
       "      <th>1962</th>\n",
       "      <th>1963</th>\n",
       "      <th>1964</th>\n",
       "      <th>1965</th>\n",
       "      <th>...</th>\n",
       "      <th>2012</th>\n",
       "      <th>2013</th>\n",
       "      <th>2014</th>\n",
       "      <th>2015</th>\n",
       "      <th>2016</th>\n",
       "      <th>2017</th>\n",
       "      <th>2018</th>\n",
       "      <th>2019</th>\n",
       "      <th>2020</th>\n",
       "      <th>Unnamed: 65</th>\n",
       "    </tr>\n",
       "  </thead>\n",
       "  <tbody>\n",
       "    <tr>\n",
       "      <th>0</th>\n",
       "      <td>Aruba</td>\n",
       "      <td>ABW</td>\n",
       "      <td>GDP (current US$)</td>\n",
       "      <td>NY.GDP.MKTP.CD</td>\n",
       "      <td>NaN</td>\n",
       "      <td>NaN</td>\n",
       "      <td>NaN</td>\n",
       "      <td>NaN</td>\n",
       "      <td>NaN</td>\n",
       "      <td>NaN</td>\n",
       "      <td>...</td>\n",
       "      <td>2.534637e+09</td>\n",
       "      <td>2.727850e+09</td>\n",
       "      <td>2.790849e+09</td>\n",
       "      <td>2.962905e+09</td>\n",
       "      <td>2.983637e+09</td>\n",
       "      <td>3.092430e+09</td>\n",
       "      <td>3.202189e+09</td>\n",
       "      <td>NaN</td>\n",
       "      <td>NaN</td>\n",
       "      <td>NaN</td>\n",
       "    </tr>\n",
       "    <tr>\n",
       "      <th>1</th>\n",
       "      <td>Africa Eastern and Southern</td>\n",
       "      <td>AFE</td>\n",
       "      <td>GDP (current US$)</td>\n",
       "      <td>NY.GDP.MKTP.CD</td>\n",
       "      <td>1.929193e+10</td>\n",
       "      <td>1.970186e+10</td>\n",
       "      <td>2.147035e+10</td>\n",
       "      <td>2.570500e+10</td>\n",
       "      <td>2.350165e+10</td>\n",
       "      <td>2.678117e+10</td>\n",
       "      <td>...</td>\n",
       "      <td>9.131974e+11</td>\n",
       "      <td>9.276555e+11</td>\n",
       "      <td>9.563187e+11</td>\n",
       "      <td>8.930997e+11</td>\n",
       "      <td>8.547519e+11</td>\n",
       "      <td>9.622690e+11</td>\n",
       "      <td>9.840320e+11</td>\n",
       "      <td>9.778092e+11</td>\n",
       "      <td>8.984741e+11</td>\n",
       "      <td>NaN</td>\n",
       "    </tr>\n",
       "    <tr>\n",
       "      <th>2</th>\n",
       "      <td>Afghanistan</td>\n",
       "      <td>AFG</td>\n",
       "      <td>GDP (current US$)</td>\n",
       "      <td>NY.GDP.MKTP.CD</td>\n",
       "      <td>5.377778e+08</td>\n",
       "      <td>5.488889e+08</td>\n",
       "      <td>5.466667e+08</td>\n",
       "      <td>7.511112e+08</td>\n",
       "      <td>8.000000e+08</td>\n",
       "      <td>1.006667e+09</td>\n",
       "      <td>...</td>\n",
       "      <td>2.000160e+10</td>\n",
       "      <td>2.056107e+10</td>\n",
       "      <td>2.048489e+10</td>\n",
       "      <td>1.990711e+10</td>\n",
       "      <td>1.801775e+10</td>\n",
       "      <td>1.886995e+10</td>\n",
       "      <td>1.835388e+10</td>\n",
       "      <td>1.929110e+10</td>\n",
       "      <td>1.980707e+10</td>\n",
       "      <td>NaN</td>\n",
       "    </tr>\n",
       "    <tr>\n",
       "      <th>3</th>\n",
       "      <td>Africa Western and Central</td>\n",
       "      <td>AFW</td>\n",
       "      <td>GDP (current US$)</td>\n",
       "      <td>NY.GDP.MKTP.CD</td>\n",
       "      <td>1.040732e+10</td>\n",
       "      <td>1.113130e+10</td>\n",
       "      <td>1.194684e+10</td>\n",
       "      <td>1.268022e+10</td>\n",
       "      <td>1.384262e+10</td>\n",
       "      <td>1.486682e+10</td>\n",
       "      <td>...</td>\n",
       "      <td>7.169352e+11</td>\n",
       "      <td>8.078189e+11</td>\n",
       "      <td>8.469431e+11</td>\n",
       "      <td>7.574921e+11</td>\n",
       "      <td>6.874847e+11</td>\n",
       "      <td>6.809891e+11</td>\n",
       "      <td>7.381313e+11</td>\n",
       "      <td>7.920789e+11</td>\n",
       "      <td>7.865850e+11</td>\n",
       "      <td>NaN</td>\n",
       "    </tr>\n",
       "    <tr>\n",
       "      <th>4</th>\n",
       "      <td>Angola</td>\n",
       "      <td>AGO</td>\n",
       "      <td>GDP (current US$)</td>\n",
       "      <td>NY.GDP.MKTP.CD</td>\n",
       "      <td>NaN</td>\n",
       "      <td>NaN</td>\n",
       "      <td>NaN</td>\n",
       "      <td>NaN</td>\n",
       "      <td>NaN</td>\n",
       "      <td>NaN</td>\n",
       "      <td>...</td>\n",
       "      <td>1.280529e+11</td>\n",
       "      <td>1.367099e+11</td>\n",
       "      <td>1.457122e+11</td>\n",
       "      <td>1.161936e+11</td>\n",
       "      <td>1.011239e+11</td>\n",
       "      <td>1.221238e+11</td>\n",
       "      <td>1.013532e+11</td>\n",
       "      <td>8.941719e+10</td>\n",
       "      <td>6.230691e+10</td>\n",
       "      <td>NaN</td>\n",
       "    </tr>\n",
       "  </tbody>\n",
       "</table>\n",
       "<p>5 rows × 66 columns</p>\n",
       "</div>"
      ],
      "text/plain": [
       "                  Country Name Country Code     Indicator Name  \\\n",
       "0                        Aruba          ABW  GDP (current US$)   \n",
       "1  Africa Eastern and Southern          AFE  GDP (current US$)   \n",
       "2                  Afghanistan          AFG  GDP (current US$)   \n",
       "3   Africa Western and Central          AFW  GDP (current US$)   \n",
       "4                       Angola          AGO  GDP (current US$)   \n",
       "\n",
       "   Indicator Code          1960          1961          1962          1963  \\\n",
       "0  NY.GDP.MKTP.CD           NaN           NaN           NaN           NaN   \n",
       "1  NY.GDP.MKTP.CD  1.929193e+10  1.970186e+10  2.147035e+10  2.570500e+10   \n",
       "2  NY.GDP.MKTP.CD  5.377778e+08  5.488889e+08  5.466667e+08  7.511112e+08   \n",
       "3  NY.GDP.MKTP.CD  1.040732e+10  1.113130e+10  1.194684e+10  1.268022e+10   \n",
       "4  NY.GDP.MKTP.CD           NaN           NaN           NaN           NaN   \n",
       "\n",
       "           1964          1965  ...          2012          2013          2014  \\\n",
       "0           NaN           NaN  ...  2.534637e+09  2.727850e+09  2.790849e+09   \n",
       "1  2.350165e+10  2.678117e+10  ...  9.131974e+11  9.276555e+11  9.563187e+11   \n",
       "2  8.000000e+08  1.006667e+09  ...  2.000160e+10  2.056107e+10  2.048489e+10   \n",
       "3  1.384262e+10  1.486682e+10  ...  7.169352e+11  8.078189e+11  8.469431e+11   \n",
       "4           NaN           NaN  ...  1.280529e+11  1.367099e+11  1.457122e+11   \n",
       "\n",
       "           2015          2016          2017          2018          2019  \\\n",
       "0  2.962905e+09  2.983637e+09  3.092430e+09  3.202189e+09           NaN   \n",
       "1  8.930997e+11  8.547519e+11  9.622690e+11  9.840320e+11  9.778092e+11   \n",
       "2  1.990711e+10  1.801775e+10  1.886995e+10  1.835388e+10  1.929110e+10   \n",
       "3  7.574921e+11  6.874847e+11  6.809891e+11  7.381313e+11  7.920789e+11   \n",
       "4  1.161936e+11  1.011239e+11  1.221238e+11  1.013532e+11  8.941719e+10   \n",
       "\n",
       "           2020  Unnamed: 65  \n",
       "0           NaN          NaN  \n",
       "1  8.984741e+11          NaN  \n",
       "2  1.980707e+10          NaN  \n",
       "3  7.865850e+11          NaN  \n",
       "4  6.230691e+10          NaN  \n",
       "\n",
       "[5 rows x 66 columns]"
      ]
     },
     "execution_count": 118,
     "metadata": {},
     "output_type": "execute_result"
    }
   ],
   "source": [
    "world_gdp=pd.read_csv('world gdp world bank.csv', skiprows=4)\n",
    "world_gdp.head()"
   ]
  },
  {
   "cell_type": "code",
   "execution_count": 97,
   "id": "18bfa535",
   "metadata": {},
   "outputs": [
    {
     "data": {
      "text/html": [
       "<div>\n",
       "<style scoped>\n",
       "    .dataframe tbody tr th:only-of-type {\n",
       "        vertical-align: middle;\n",
       "    }\n",
       "\n",
       "    .dataframe tbody tr th {\n",
       "        vertical-align: top;\n",
       "    }\n",
       "\n",
       "    .dataframe thead th {\n",
       "        text-align: right;\n",
       "    }\n",
       "</style>\n",
       "<table border=\"1\" class=\"dataframe\">\n",
       "  <thead>\n",
       "    <tr style=\"text-align: right;\">\n",
       "      <th></th>\n",
       "      <th>Country Name</th>\n",
       "      <th>Country Code</th>\n",
       "      <th>Indicator Name</th>\n",
       "      <th>Indicator Code</th>\n",
       "      <th>1960</th>\n",
       "      <th>1961</th>\n",
       "      <th>1962</th>\n",
       "      <th>1963</th>\n",
       "      <th>1964</th>\n",
       "      <th>1965</th>\n",
       "      <th>...</th>\n",
       "      <th>2012</th>\n",
       "      <th>2013</th>\n",
       "      <th>2014</th>\n",
       "      <th>2015</th>\n",
       "      <th>2016</th>\n",
       "      <th>2017</th>\n",
       "      <th>2018</th>\n",
       "      <th>2019</th>\n",
       "      <th>2020</th>\n",
       "      <th>Unnamed: 65</th>\n",
       "    </tr>\n",
       "  </thead>\n",
       "  <tbody>\n",
       "    <tr>\n",
       "      <th>0</th>\n",
       "      <td>Aruba</td>\n",
       "      <td>ABW</td>\n",
       "      <td>Population, total</td>\n",
       "      <td>SP.POP.TOTL</td>\n",
       "      <td>54208.0</td>\n",
       "      <td>55434.0</td>\n",
       "      <td>56234.0</td>\n",
       "      <td>56699.0</td>\n",
       "      <td>57029.0</td>\n",
       "      <td>57357.0</td>\n",
       "      <td>...</td>\n",
       "      <td>102565.0</td>\n",
       "      <td>103165.0</td>\n",
       "      <td>103776.0</td>\n",
       "      <td>104339.0</td>\n",
       "      <td>104865.0</td>\n",
       "      <td>105361.0</td>\n",
       "      <td>105846.0</td>\n",
       "      <td>106310.0</td>\n",
       "      <td>106766.0</td>\n",
       "      <td>NaN</td>\n",
       "    </tr>\n",
       "    <tr>\n",
       "      <th>1</th>\n",
       "      <td>Africa Eastern and Southern</td>\n",
       "      <td>AFE</td>\n",
       "      <td>Population, total</td>\n",
       "      <td>SP.POP.TOTL</td>\n",
       "      <td>130836765.0</td>\n",
       "      <td>134159786.0</td>\n",
       "      <td>137614644.0</td>\n",
       "      <td>141202036.0</td>\n",
       "      <td>144920186.0</td>\n",
       "      <td>148769974.0</td>\n",
       "      <td>...</td>\n",
       "      <td>547482863.0</td>\n",
       "      <td>562601578.0</td>\n",
       "      <td>578075373.0</td>\n",
       "      <td>593871847.0</td>\n",
       "      <td>609978946.0</td>\n",
       "      <td>626392880.0</td>\n",
       "      <td>643090131.0</td>\n",
       "      <td>660046272.0</td>\n",
       "      <td>677243299.0</td>\n",
       "      <td>NaN</td>\n",
       "    </tr>\n",
       "    <tr>\n",
       "      <th>2</th>\n",
       "      <td>Afghanistan</td>\n",
       "      <td>AFG</td>\n",
       "      <td>Population, total</td>\n",
       "      <td>SP.POP.TOTL</td>\n",
       "      <td>8996967.0</td>\n",
       "      <td>9169406.0</td>\n",
       "      <td>9351442.0</td>\n",
       "      <td>9543200.0</td>\n",
       "      <td>9744772.0</td>\n",
       "      <td>9956318.0</td>\n",
       "      <td>...</td>\n",
       "      <td>31161378.0</td>\n",
       "      <td>32269592.0</td>\n",
       "      <td>33370804.0</td>\n",
       "      <td>34413603.0</td>\n",
       "      <td>35383028.0</td>\n",
       "      <td>36296111.0</td>\n",
       "      <td>37171922.0</td>\n",
       "      <td>38041757.0</td>\n",
       "      <td>38928341.0</td>\n",
       "      <td>NaN</td>\n",
       "    </tr>\n",
       "    <tr>\n",
       "      <th>3</th>\n",
       "      <td>Africa Western and Central</td>\n",
       "      <td>AFW</td>\n",
       "      <td>Population, total</td>\n",
       "      <td>SP.POP.TOTL</td>\n",
       "      <td>96396419.0</td>\n",
       "      <td>98407221.0</td>\n",
       "      <td>100506960.0</td>\n",
       "      <td>102691339.0</td>\n",
       "      <td>104953470.0</td>\n",
       "      <td>107289875.0</td>\n",
       "      <td>...</td>\n",
       "      <td>370243017.0</td>\n",
       "      <td>380437896.0</td>\n",
       "      <td>390882979.0</td>\n",
       "      <td>401586651.0</td>\n",
       "      <td>412551299.0</td>\n",
       "      <td>423769930.0</td>\n",
       "      <td>435229381.0</td>\n",
       "      <td>446911598.0</td>\n",
       "      <td>458803476.0</td>\n",
       "      <td>NaN</td>\n",
       "    </tr>\n",
       "    <tr>\n",
       "      <th>4</th>\n",
       "      <td>Angola</td>\n",
       "      <td>AGO</td>\n",
       "      <td>Population, total</td>\n",
       "      <td>SP.POP.TOTL</td>\n",
       "      <td>5454938.0</td>\n",
       "      <td>5531451.0</td>\n",
       "      <td>5608499.0</td>\n",
       "      <td>5679409.0</td>\n",
       "      <td>5734995.0</td>\n",
       "      <td>5770573.0</td>\n",
       "      <td>...</td>\n",
       "      <td>25107925.0</td>\n",
       "      <td>26015786.0</td>\n",
       "      <td>26941773.0</td>\n",
       "      <td>27884380.0</td>\n",
       "      <td>28842482.0</td>\n",
       "      <td>29816769.0</td>\n",
       "      <td>30809787.0</td>\n",
       "      <td>31825299.0</td>\n",
       "      <td>32866268.0</td>\n",
       "      <td>NaN</td>\n",
       "    </tr>\n",
       "  </tbody>\n",
       "</table>\n",
       "<p>5 rows × 66 columns</p>\n",
       "</div>"
      ],
      "text/plain": [
       "                  Country Name Country Code     Indicator Name Indicator Code  \\\n",
       "0                        Aruba          ABW  Population, total    SP.POP.TOTL   \n",
       "1  Africa Eastern and Southern          AFE  Population, total    SP.POP.TOTL   \n",
       "2                  Afghanistan          AFG  Population, total    SP.POP.TOTL   \n",
       "3   Africa Western and Central          AFW  Population, total    SP.POP.TOTL   \n",
       "4                       Angola          AGO  Population, total    SP.POP.TOTL   \n",
       "\n",
       "          1960         1961         1962         1963         1964  \\\n",
       "0      54208.0      55434.0      56234.0      56699.0      57029.0   \n",
       "1  130836765.0  134159786.0  137614644.0  141202036.0  144920186.0   \n",
       "2    8996967.0    9169406.0    9351442.0    9543200.0    9744772.0   \n",
       "3   96396419.0   98407221.0  100506960.0  102691339.0  104953470.0   \n",
       "4    5454938.0    5531451.0    5608499.0    5679409.0    5734995.0   \n",
       "\n",
       "          1965  ...         2012         2013         2014         2015  \\\n",
       "0      57357.0  ...     102565.0     103165.0     103776.0     104339.0   \n",
       "1  148769974.0  ...  547482863.0  562601578.0  578075373.0  593871847.0   \n",
       "2    9956318.0  ...   31161378.0   32269592.0   33370804.0   34413603.0   \n",
       "3  107289875.0  ...  370243017.0  380437896.0  390882979.0  401586651.0   \n",
       "4    5770573.0  ...   25107925.0   26015786.0   26941773.0   27884380.0   \n",
       "\n",
       "          2016         2017         2018         2019         2020  \\\n",
       "0     104865.0     105361.0     105846.0     106310.0     106766.0   \n",
       "1  609978946.0  626392880.0  643090131.0  660046272.0  677243299.0   \n",
       "2   35383028.0   36296111.0   37171922.0   38041757.0   38928341.0   \n",
       "3  412551299.0  423769930.0  435229381.0  446911598.0  458803476.0   \n",
       "4   28842482.0   29816769.0   30809787.0   31825299.0   32866268.0   \n",
       "\n",
       "   Unnamed: 65  \n",
       "0          NaN  \n",
       "1          NaN  \n",
       "2          NaN  \n",
       "3          NaN  \n",
       "4          NaN  \n",
       "\n",
       "[5 rows x 66 columns]"
      ]
     },
     "execution_count": 97,
     "metadata": {},
     "output_type": "execute_result"
    }
   ],
   "source": [
    "# https://data.worldbank.org/indicator/SP.POP.TOTL\n",
    "world_population=pd.read_csv('world population world bank.csv', skiprows=4)\n",
    "world_population.head()"
   ]
  },
  {
   "cell_type": "code",
   "execution_count": 98,
   "id": "2aed4a40",
   "metadata": {},
   "outputs": [
    {
     "data": {
      "text/plain": [
       "Index(['Country Name', 'Country Code', 'Indicator Name', 'Indicator Code',\n",
       "       '1960', '1961', '1962', '1963', '1964', '1965', '1966', '1967', '1968',\n",
       "       '1969', '1970', '1971', '1972', '1973', '1974', '1975', '1976', '1977',\n",
       "       '1978', '1979', '1980', '1981', '1982', '1983', '1984', '1985', '1986',\n",
       "       '1987', '1988', '1989', '1990', '1991', '1992', '1993', '1994', '1995',\n",
       "       '1996', '1997', '1998', '1999', '2000', '2001', '2002', '2003', '2004',\n",
       "       '2005', '2006', '2007', '2008', '2009', '2010', '2011', '2012', '2013',\n",
       "       '2014', '2015', '2016', '2017', '2018', '2019', '2020', 'Unnamed: 65'],\n",
       "      dtype='object')"
      ]
     },
     "execution_count": 98,
     "metadata": {},
     "output_type": "execute_result"
    }
   ],
   "source": [
    "world_population.columns"
   ]
  },
  {
   "cell_type": "code",
   "execution_count": 99,
   "id": "c420feb5",
   "metadata": {},
   "outputs": [
    {
     "data": {
      "text/plain": [
       "Index(['Country Name', 'Country Code', 'Indicator Name', 'Indicator Code',\n",
       "       '1960', '1961', '1962', '1963', '1964', '1965', '1966', '1967', '1968',\n",
       "       '1969', '1970', '1971', '1972', '1973', '1974', '1975', '1976', '1977',\n",
       "       '1978', '1979', '1980', '1981', '1982', '1983', '1984', '1985', '1986',\n",
       "       '1987', '1988', '1989', '1990', '1991', '1992', '1993', '1994', '1995',\n",
       "       '1996', '1997', '1998', '1999', '2000', '2001', '2002', '2003', '2004',\n",
       "       '2005', '2006', '2007', '2008', '2009', '2010', '2011', '2012', '2013',\n",
       "       '2014', '2015', '2016', '2017', '2018', '2019', '2020'],\n",
       "      dtype='object')"
      ]
     },
     "execution_count": 99,
     "metadata": {},
     "output_type": "execute_result"
    }
   ],
   "source": [
    "world_population.drop('Unnamed: 65', axis=1, inplace=True)\n",
    "world_population.columns"
   ]
  },
  {
   "cell_type": "code",
   "execution_count": 100,
   "id": "9f03c581",
   "metadata": {},
   "outputs": [
    {
     "data": {
      "text/html": [
       "<div>\n",
       "<style scoped>\n",
       "    .dataframe tbody tr th:only-of-type {\n",
       "        vertical-align: middle;\n",
       "    }\n",
       "\n",
       "    .dataframe tbody tr th {\n",
       "        vertical-align: top;\n",
       "    }\n",
       "\n",
       "    .dataframe thead th {\n",
       "        text-align: right;\n",
       "    }\n",
       "</style>\n",
       "<table border=\"1\" class=\"dataframe\">\n",
       "  <thead>\n",
       "    <tr style=\"text-align: right;\">\n",
       "      <th></th>\n",
       "      <th>Country Name</th>\n",
       "      <th>Country Code</th>\n",
       "      <th>Indicator Name</th>\n",
       "      <th>Indicator Code</th>\n",
       "      <th>year</th>\n",
       "      <th>population</th>\n",
       "    </tr>\n",
       "  </thead>\n",
       "  <tbody>\n",
       "    <tr>\n",
       "      <th>15694</th>\n",
       "      <td>Aruba</td>\n",
       "      <td>ABW</td>\n",
       "      <td>Population, total</td>\n",
       "      <td>SP.POP.TOTL</td>\n",
       "      <td>2019</td>\n",
       "      <td>106310.0</td>\n",
       "    </tr>\n",
       "    <tr>\n",
       "      <th>15695</th>\n",
       "      <td>Africa Eastern and Southern</td>\n",
       "      <td>AFE</td>\n",
       "      <td>Population, total</td>\n",
       "      <td>SP.POP.TOTL</td>\n",
       "      <td>2019</td>\n",
       "      <td>660046272.0</td>\n",
       "    </tr>\n",
       "    <tr>\n",
       "      <th>15696</th>\n",
       "      <td>Afghanistan</td>\n",
       "      <td>AFG</td>\n",
       "      <td>Population, total</td>\n",
       "      <td>SP.POP.TOTL</td>\n",
       "      <td>2019</td>\n",
       "      <td>38041757.0</td>\n",
       "    </tr>\n",
       "    <tr>\n",
       "      <th>15697</th>\n",
       "      <td>Africa Western and Central</td>\n",
       "      <td>AFW</td>\n",
       "      <td>Population, total</td>\n",
       "      <td>SP.POP.TOTL</td>\n",
       "      <td>2019</td>\n",
       "      <td>446911598.0</td>\n",
       "    </tr>\n",
       "    <tr>\n",
       "      <th>15698</th>\n",
       "      <td>Angola</td>\n",
       "      <td>AGO</td>\n",
       "      <td>Population, total</td>\n",
       "      <td>SP.POP.TOTL</td>\n",
       "      <td>2019</td>\n",
       "      <td>31825299.0</td>\n",
       "    </tr>\n",
       "  </tbody>\n",
       "</table>\n",
       "</div>"
      ],
      "text/plain": [
       "                      Country Name Country Code     Indicator Name  \\\n",
       "15694                        Aruba          ABW  Population, total   \n",
       "15695  Africa Eastern and Southern          AFE  Population, total   \n",
       "15696                  Afghanistan          AFG  Population, total   \n",
       "15697   Africa Western and Central          AFW  Population, total   \n",
       "15698                       Angola          AGO  Population, total   \n",
       "\n",
       "      Indicator Code  year   population  \n",
       "15694    SP.POP.TOTL  2019     106310.0  \n",
       "15695    SP.POP.TOTL  2019  660046272.0  \n",
       "15696    SP.POP.TOTL  2019   38041757.0  \n",
       "15697    SP.POP.TOTL  2019  446911598.0  \n",
       "15698    SP.POP.TOTL  2019   31825299.0  "
      ]
     },
     "execution_count": 100,
     "metadata": {},
     "output_type": "execute_result"
    }
   ],
   "source": [
    "other_columns=['Country Name', 'Country Code', 'Indicator Name', 'Indicator Code']\n",
    "long_world_population=world_population.melt(id_vars=other_columns, var_name='year', value_name='population')\n",
    "long_world_population_2019=long_world_population[long_world_population['year']=='2019']\n",
    "long_world_population_2019.head()"
   ]
  },
  {
   "cell_type": "code",
   "execution_count": 101,
   "id": "542949af",
   "metadata": {},
   "outputs": [
    {
     "data": {
      "text/plain": [
       "Index(['CUR', 'Currency', 'VAR', 'Variable', 'OWN', 'Ownership', 'IVTYP',\n",
       "       'Investment Type', 'ITYP', 'Insurance Type', 'DEST', 'Destination',\n",
       "       'TYP', 'Insurer type', 'COU', 'Country', 'YEA', 'Year', 'Unit Code',\n",
       "       'Unit', 'PowerCode Code', 'PowerCode', 'Reference Period Code',\n",
       "       'Reference Period', 'Value', 'Flag Codes', 'Flags', 'Country Name',\n",
       "       'Country Code', 'Indicator Name', 'Indicator Code', 'year',\n",
       "       'population'],\n",
       "      dtype='object')"
      ]
     },
     "execution_count": 101,
     "metadata": {},
     "output_type": "execute_result"
    }
   ],
   "source": [
    "insurance_population=pd.merge(total_insurance_per_country_2019, long_world_population_2019, \n",
    "                              left_on='COU', right_on='Country Code', how='left')\n",
    "insurance_population.columns"
   ]
  },
  {
   "cell_type": "code",
   "execution_count": 102,
   "id": "9e449223",
   "metadata": {},
   "outputs": [
    {
     "data": {
      "text/html": [
       "<div>\n",
       "<style scoped>\n",
       "    .dataframe tbody tr th:only-of-type {\n",
       "        vertical-align: middle;\n",
       "    }\n",
       "\n",
       "    .dataframe tbody tr th {\n",
       "        vertical-align: top;\n",
       "    }\n",
       "\n",
       "    .dataframe thead th {\n",
       "        text-align: right;\n",
       "    }\n",
       "</style>\n",
       "<table border=\"1\" class=\"dataframe\">\n",
       "  <thead>\n",
       "    <tr style=\"text-align: right;\">\n",
       "      <th></th>\n",
       "      <th>CUR</th>\n",
       "      <th>Currency</th>\n",
       "      <th>VAR</th>\n",
       "      <th>Variable</th>\n",
       "      <th>OWN</th>\n",
       "      <th>Ownership</th>\n",
       "      <th>IVTYP</th>\n",
       "      <th>Investment Type</th>\n",
       "      <th>ITYP</th>\n",
       "      <th>Insurance Type</th>\n",
       "      <th>...</th>\n",
       "      <th>Value</th>\n",
       "      <th>Flag Codes</th>\n",
       "      <th>Flags</th>\n",
       "      <th>Country Name</th>\n",
       "      <th>Country Code</th>\n",
       "      <th>Indicator Name</th>\n",
       "      <th>Indicator Code</th>\n",
       "      <th>year</th>\n",
       "      <th>population</th>\n",
       "      <th>volume_per_capita</th>\n",
       "    </tr>\n",
       "  </thead>\n",
       "  <tbody>\n",
       "    <tr>\n",
       "      <th>0</th>\n",
       "      <td>USD</td>\n",
       "      <td>US Dollars (millions)</td>\n",
       "      <td>OFI</td>\n",
       "      <td>Outstanding figures of investments by direct i...</td>\n",
       "      <td>TOT</td>\n",
       "      <td>All undertakings (=1+3)</td>\n",
       "      <td>TOT</td>\n",
       "      <td>TOTAL INVESTMENTS</td>\n",
       "      <td>TOT</td>\n",
       "      <td>Total</td>\n",
       "      <td>...</td>\n",
       "      <td>148784.948</td>\n",
       "      <td>NaN</td>\n",
       "      <td>NaN</td>\n",
       "      <td>Australia</td>\n",
       "      <td>AUS</td>\n",
       "      <td>Population, total</td>\n",
       "      <td>SP.POP.TOTL</td>\n",
       "      <td>2019</td>\n",
       "      <td>25365745.0</td>\n",
       "      <td>0.005866</td>\n",
       "    </tr>\n",
       "    <tr>\n",
       "      <th>1</th>\n",
       "      <td>USD</td>\n",
       "      <td>US Dollars (millions)</td>\n",
       "      <td>OFI</td>\n",
       "      <td>Outstanding figures of investments by direct i...</td>\n",
       "      <td>TOT</td>\n",
       "      <td>All undertakings (=1+3)</td>\n",
       "      <td>TOT</td>\n",
       "      <td>TOTAL INVESTMENTS</td>\n",
       "      <td>TOT</td>\n",
       "      <td>Total</td>\n",
       "      <td>...</td>\n",
       "      <td>0.000</td>\n",
       "      <td>NaN</td>\n",
       "      <td>NaN</td>\n",
       "      <td>Austria</td>\n",
       "      <td>AUT</td>\n",
       "      <td>Population, total</td>\n",
       "      <td>SP.POP.TOTL</td>\n",
       "      <td>2019</td>\n",
       "      <td>8879920.0</td>\n",
       "      <td>0.000000</td>\n",
       "    </tr>\n",
       "    <tr>\n",
       "      <th>2</th>\n",
       "      <td>USD</td>\n",
       "      <td>US Dollars (millions)</td>\n",
       "      <td>OFI</td>\n",
       "      <td>Outstanding figures of investments by direct i...</td>\n",
       "      <td>TOT</td>\n",
       "      <td>All undertakings (=1+3)</td>\n",
       "      <td>TOT</td>\n",
       "      <td>TOTAL INVESTMENTS</td>\n",
       "      <td>TOT</td>\n",
       "      <td>Total</td>\n",
       "      <td>...</td>\n",
       "      <td>0.000</td>\n",
       "      <td>NaN</td>\n",
       "      <td>NaN</td>\n",
       "      <td>Austria</td>\n",
       "      <td>AUT</td>\n",
       "      <td>Population, total</td>\n",
       "      <td>SP.POP.TOTL</td>\n",
       "      <td>2019</td>\n",
       "      <td>8879920.0</td>\n",
       "      <td>0.000000</td>\n",
       "    </tr>\n",
       "    <tr>\n",
       "      <th>3</th>\n",
       "      <td>USD</td>\n",
       "      <td>US Dollars (millions)</td>\n",
       "      <td>OFI</td>\n",
       "      <td>Outstanding figures of investments by direct i...</td>\n",
       "      <td>TOT</td>\n",
       "      <td>All undertakings (=1+3)</td>\n",
       "      <td>TOT</td>\n",
       "      <td>TOTAL INVESTMENTS</td>\n",
       "      <td>TOT</td>\n",
       "      <td>Total</td>\n",
       "      <td>...</td>\n",
       "      <td>141465.547</td>\n",
       "      <td>NaN</td>\n",
       "      <td>NaN</td>\n",
       "      <td>Austria</td>\n",
       "      <td>AUT</td>\n",
       "      <td>Population, total</td>\n",
       "      <td>SP.POP.TOTL</td>\n",
       "      <td>2019</td>\n",
       "      <td>8879920.0</td>\n",
       "      <td>0.015931</td>\n",
       "    </tr>\n",
       "    <tr>\n",
       "      <th>4</th>\n",
       "      <td>USD</td>\n",
       "      <td>US Dollars (millions)</td>\n",
       "      <td>OFI</td>\n",
       "      <td>Outstanding figures of investments by direct i...</td>\n",
       "      <td>TOT</td>\n",
       "      <td>All undertakings (=1+3)</td>\n",
       "      <td>TOT</td>\n",
       "      <td>TOTAL INVESTMENTS</td>\n",
       "      <td>TOT</td>\n",
       "      <td>Total</td>\n",
       "      <td>...</td>\n",
       "      <td>509809.164</td>\n",
       "      <td>NaN</td>\n",
       "      <td>NaN</td>\n",
       "      <td>Denmark</td>\n",
       "      <td>DNK</td>\n",
       "      <td>Population, total</td>\n",
       "      <td>SP.POP.TOTL</td>\n",
       "      <td>2019</td>\n",
       "      <td>5814422.0</td>\n",
       "      <td>0.087680</td>\n",
       "    </tr>\n",
       "  </tbody>\n",
       "</table>\n",
       "<p>5 rows × 34 columns</p>\n",
       "</div>"
      ],
      "text/plain": [
       "   CUR               Currency  VAR  \\\n",
       "0  USD  US Dollars (millions)  OFI   \n",
       "1  USD  US Dollars (millions)  OFI   \n",
       "2  USD  US Dollars (millions)  OFI   \n",
       "3  USD  US Dollars (millions)  OFI   \n",
       "4  USD  US Dollars (millions)  OFI   \n",
       "\n",
       "                                            Variable  OWN  \\\n",
       "0  Outstanding figures of investments by direct i...  TOT   \n",
       "1  Outstanding figures of investments by direct i...  TOT   \n",
       "2  Outstanding figures of investments by direct i...  TOT   \n",
       "3  Outstanding figures of investments by direct i...  TOT   \n",
       "4  Outstanding figures of investments by direct i...  TOT   \n",
       "\n",
       "                 Ownership IVTYP    Investment Type ITYP Insurance Type  ...  \\\n",
       "0  All undertakings (=1+3)   TOT  TOTAL INVESTMENTS  TOT          Total  ...   \n",
       "1  All undertakings (=1+3)   TOT  TOTAL INVESTMENTS  TOT          Total  ...   \n",
       "2  All undertakings (=1+3)   TOT  TOTAL INVESTMENTS  TOT          Total  ...   \n",
       "3  All undertakings (=1+3)   TOT  TOTAL INVESTMENTS  TOT          Total  ...   \n",
       "4  All undertakings (=1+3)   TOT  TOTAL INVESTMENTS  TOT          Total  ...   \n",
       "\n",
       "        Value Flag Codes Flags Country Name Country Code     Indicator Name  \\\n",
       "0  148784.948        NaN   NaN    Australia          AUS  Population, total   \n",
       "1       0.000        NaN   NaN      Austria          AUT  Population, total   \n",
       "2       0.000        NaN   NaN      Austria          AUT  Population, total   \n",
       "3  141465.547        NaN   NaN      Austria          AUT  Population, total   \n",
       "4  509809.164        NaN   NaN      Denmark          DNK  Population, total   \n",
       "\n",
       "   Indicator Code  year  population volume_per_capita  \n",
       "0     SP.POP.TOTL  2019  25365745.0          0.005866  \n",
       "1     SP.POP.TOTL  2019   8879920.0          0.000000  \n",
       "2     SP.POP.TOTL  2019   8879920.0          0.000000  \n",
       "3     SP.POP.TOTL  2019   8879920.0          0.015931  \n",
       "4     SP.POP.TOTL  2019   5814422.0          0.087680  \n",
       "\n",
       "[5 rows x 34 columns]"
      ]
     },
     "execution_count": 102,
     "metadata": {},
     "output_type": "execute_result"
    }
   ],
   "source": [
    "insurance_population['volume_per_capita']=insurance_population['Value']/insurance_population['population']\n",
    "insurance_population.head()"
   ]
  },
  {
   "cell_type": "code",
   "execution_count": 104,
   "id": "d61c0cdf",
   "metadata": {},
   "outputs": [
    {
     "data": {
      "application/vnd.plotly.v1+json": {
       "config": {
        "linkText": "Export to plot.ly",
        "plotlyServerURL": "https://plot.ly",
        "showLink": false
       },
       "data": [
        {
         "colorbar": {
          "title": {
           "text": "USD"
          }
         },
         "colorscale": [
          [
           0,
           "rgb(12,51,131)"
          ],
          [
           0.25,
           "rgb(10,136,186)"
          ],
          [
           0.5,
           "rgb(242,211,56)"
          ],
          [
           0.75,
           "rgb(242,143,56)"
          ],
          [
           1,
           "rgb(217,30,30)"
          ]
         ],
         "locationmode": "country names",
         "locations": [
          "Australia",
          "Austria",
          "Austria",
          "Austria",
          "Denmark",
          "Denmark",
          "Denmark",
          "Finland",
          "Finland",
          "Finland",
          "Germany",
          "Greece",
          "Greece",
          "Greece",
          "Hungary",
          "Iceland",
          "Italy",
          "Italy",
          "Italy",
          "Luxembourg",
          "Mexico",
          "Mexico",
          "New Zealand",
          "Norway",
          "Norway",
          "Norway",
          "Poland",
          "Poland",
          "Poland",
          "Portugal",
          "Portugal",
          "Portugal",
          "Spain",
          "Spain",
          "Spain",
          "Sweden",
          "Switzerland",
          "Turkey",
          "Turkey",
          "Turkey",
          "United Kingdom",
          "United Kingdom",
          "United Kingdom",
          "Chile",
          "Chile",
          "Chile",
          "Israel",
          "Israel",
          "Israel",
          "Slovenia",
          "Slovenia",
          "Slovenia",
          "Malaysia",
          "Malaysia",
          "Malaysia",
          "Russia",
          "Argentina",
          "Brazil",
          "Belgium",
          "Argentina",
          "Argentina",
          "Colombia",
          "Guatemala",
          "Costa Rica",
          "Guatemala",
          "Indonesia",
          "Costa Rica",
          "Indonesia",
          "Colombia",
          "Colombia",
          "Costa Rica",
          "Paraguay",
          "Uruguay",
          "Peru",
          "Uruguay",
          "Peru",
          "El Salvador",
          "Paraguay",
          "Peru",
          "Uruguay",
          "Paraguay",
          "Latvia",
          "Latvia",
          "Honduras",
          "Honduras",
          "Latvia",
          "Honduras",
          "Brazil",
          "Brazil",
          "Lithuania",
          "Lithuania",
          "Lithuania",
          "Ecuador",
          "Ecuador",
          "Ecuador",
          "Bolivia",
          "Bolivia",
          "Bolivia",
          "Chinese Taipei"
         ],
         "text": [
          "Australia",
          "Austria",
          "Austria",
          "Austria",
          "Denmark",
          "Denmark",
          "Denmark",
          "Finland",
          "Finland",
          "Finland",
          "Germany",
          "Greece",
          "Greece",
          "Greece",
          "Hungary",
          "Iceland",
          "Italy",
          "Italy",
          "Italy",
          "Luxembourg",
          "Mexico",
          "Mexico",
          "New Zealand",
          "Norway",
          "Norway",
          "Norway",
          "Poland",
          "Poland",
          "Poland",
          "Portugal",
          "Portugal",
          "Portugal",
          "Spain",
          "Spain",
          "Spain",
          "Sweden",
          "Switzerland",
          "Turkey",
          "Turkey",
          "Turkey",
          "United Kingdom",
          "United Kingdom",
          "United Kingdom",
          "Chile",
          "Chile",
          "Chile",
          "Israel",
          "Israel",
          "Israel",
          "Slovenia",
          "Slovenia",
          "Slovenia",
          "Malaysia",
          "Malaysia",
          "Malaysia",
          "Russia",
          "Argentina",
          "Brazil",
          "Belgium",
          "Argentina",
          "Argentina",
          "Colombia",
          "Guatemala",
          "Costa Rica",
          "Guatemala",
          "Indonesia",
          "Costa Rica",
          "Indonesia",
          "Colombia",
          "Colombia",
          "Costa Rica",
          "Paraguay",
          "Uruguay",
          "Peru",
          "Uruguay",
          "Peru",
          "El Salvador",
          "Paraguay",
          "Peru",
          "Uruguay",
          "Paraguay",
          "Latvia",
          "Latvia",
          "Honduras",
          "Honduras",
          "Latvia",
          "Honduras",
          "Brazil",
          "Brazil",
          "Lithuania",
          "Lithuania",
          "Lithuania",
          "Ecuador",
          "Ecuador",
          "Ecuador",
          "Bolivia",
          "Bolivia",
          "Bolivia",
          "Chinese Taipei"
         ],
         "type": "choropleth",
         "z": [
          0.005865585576138213,
          0,
          0,
          0.015930948364399677,
          0.0876801105939679,
          0.008598070453090608,
          0.09627818104705851,
          0.009035856777901212,
          0.00589471034333127,
          0.01493097406805194,
          0.025473555305442118,
          0.001834912982058058,
          0,
          0.001834912982058058,
          0.0010152534898432025,
          0.003353574826035949,
          0.0076525987399672195,
          0.005432412077460224,
          0.01624493423898486,
          0.4411585078088584,
          0.00055903721159565,
          0.00055903721159565,
          0.0022951595605808046,
          0.025367014055621126,
          0.014168328441689967,
          0.03953534268430052,
          0.0011373527659011245,
          0.00011680520262159237,
          0.0012541579421829964,
          0.002166395026065346,
          0.0034514264315427283,
          0.005601797854089478,
          0.005073816403404278,
          0.002400293010148764,
          0.007474109413553042,
          0.05605966939805837,
          0.05249304197647191,
          6.686767684282632e-05,
          8.903317739468675e-05,
          0.00015590085423751305,
          0.031959322226070265,
          7.607093669285567e-05,
          0.03203539316276312,
          0.0027872331915807457,
          0.0005341195813536646,
          0.0033213527729344106,
          0.014923265628451513,
          0.0029680643914292027,
          0.017891330019880716,
          0.0013607955429674125,
          0.0025233647052626787,
          0.0038841602482300916,
          0.0024866374234897137,
          2.8075615773237185e-06,
          0.002489444953767926,
          0.0002829381892243578,
          1.511547549471378e-06,
          1.5610080589664836e-07,
          0.032735873419572493,
          0.00035137896253012327,
          0.00034986741498065185,
          0.00037648443984570907,
          5.856814485836146e-05,
          0.0006546163582767994,
          5.856814485836146e-05,
          0.00015957735064994804,
          0.0007277649542026337,
          0.00015957735064994804,
          0.00035744861141987606,
          1.9035808560694642e-05,
          7.314859592583427e-05,
          4.419005714842166e-05,
          9.136758459857222e-05,
          0,
          0.0012797819934593417,
          0.00042370111504413564,
          8.894561907787186e-05,
          0,
          0.00042370111504413564,
          0.0013711492891850926,
          0,
          0.0006350574922850714,
          0.0007517710633486291,
          0,
          6.781799722248301e-05,
          0.00011671357106355764,
          0,
          0.001309191318270666,
          0.0013093474190765627,
          0.00047138275610680505,
          0.0002763293281610744,
          0.00019505342794573063,
          0,
          6.176891831121105e-05,
          6.176891831121105e-05,
          1.2104035906222319e-05,
          4.5348768733222376e-05,
          5.74528046394447e-05,
          null
         ]
        }
       ],
       "layout": {
        "geo": {
         "projection": {
          "type": "mercator"
         },
         "showframe": false
        },
        "template": {
         "data": {
          "bar": [
           {
            "error_x": {
             "color": "#2a3f5f"
            },
            "error_y": {
             "color": "#2a3f5f"
            },
            "marker": {
             "line": {
              "color": "#E5ECF6",
              "width": 0.5
             },
             "pattern": {
              "fillmode": "overlay",
              "size": 10,
              "solidity": 0.2
             }
            },
            "type": "bar"
           }
          ],
          "barpolar": [
           {
            "marker": {
             "line": {
              "color": "#E5ECF6",
              "width": 0.5
             },
             "pattern": {
              "fillmode": "overlay",
              "size": 10,
              "solidity": 0.2
             }
            },
            "type": "barpolar"
           }
          ],
          "carpet": [
           {
            "aaxis": {
             "endlinecolor": "#2a3f5f",
             "gridcolor": "white",
             "linecolor": "white",
             "minorgridcolor": "white",
             "startlinecolor": "#2a3f5f"
            },
            "baxis": {
             "endlinecolor": "#2a3f5f",
             "gridcolor": "white",
             "linecolor": "white",
             "minorgridcolor": "white",
             "startlinecolor": "#2a3f5f"
            },
            "type": "carpet"
           }
          ],
          "choropleth": [
           {
            "colorbar": {
             "outlinewidth": 0,
             "ticks": ""
            },
            "type": "choropleth"
           }
          ],
          "contour": [
           {
            "colorbar": {
             "outlinewidth": 0,
             "ticks": ""
            },
            "colorscale": [
             [
              0,
              "#0d0887"
             ],
             [
              0.1111111111111111,
              "#46039f"
             ],
             [
              0.2222222222222222,
              "#7201a8"
             ],
             [
              0.3333333333333333,
              "#9c179e"
             ],
             [
              0.4444444444444444,
              "#bd3786"
             ],
             [
              0.5555555555555556,
              "#d8576b"
             ],
             [
              0.6666666666666666,
              "#ed7953"
             ],
             [
              0.7777777777777778,
              "#fb9f3a"
             ],
             [
              0.8888888888888888,
              "#fdca26"
             ],
             [
              1,
              "#f0f921"
             ]
            ],
            "type": "contour"
           }
          ],
          "contourcarpet": [
           {
            "colorbar": {
             "outlinewidth": 0,
             "ticks": ""
            },
            "type": "contourcarpet"
           }
          ],
          "heatmap": [
           {
            "colorbar": {
             "outlinewidth": 0,
             "ticks": ""
            },
            "colorscale": [
             [
              0,
              "#0d0887"
             ],
             [
              0.1111111111111111,
              "#46039f"
             ],
             [
              0.2222222222222222,
              "#7201a8"
             ],
             [
              0.3333333333333333,
              "#9c179e"
             ],
             [
              0.4444444444444444,
              "#bd3786"
             ],
             [
              0.5555555555555556,
              "#d8576b"
             ],
             [
              0.6666666666666666,
              "#ed7953"
             ],
             [
              0.7777777777777778,
              "#fb9f3a"
             ],
             [
              0.8888888888888888,
              "#fdca26"
             ],
             [
              1,
              "#f0f921"
             ]
            ],
            "type": "heatmap"
           }
          ],
          "heatmapgl": [
           {
            "colorbar": {
             "outlinewidth": 0,
             "ticks": ""
            },
            "colorscale": [
             [
              0,
              "#0d0887"
             ],
             [
              0.1111111111111111,
              "#46039f"
             ],
             [
              0.2222222222222222,
              "#7201a8"
             ],
             [
              0.3333333333333333,
              "#9c179e"
             ],
             [
              0.4444444444444444,
              "#bd3786"
             ],
             [
              0.5555555555555556,
              "#d8576b"
             ],
             [
              0.6666666666666666,
              "#ed7953"
             ],
             [
              0.7777777777777778,
              "#fb9f3a"
             ],
             [
              0.8888888888888888,
              "#fdca26"
             ],
             [
              1,
              "#f0f921"
             ]
            ],
            "type": "heatmapgl"
           }
          ],
          "histogram": [
           {
            "marker": {
             "pattern": {
              "fillmode": "overlay",
              "size": 10,
              "solidity": 0.2
             }
            },
            "type": "histogram"
           }
          ],
          "histogram2d": [
           {
            "colorbar": {
             "outlinewidth": 0,
             "ticks": ""
            },
            "colorscale": [
             [
              0,
              "#0d0887"
             ],
             [
              0.1111111111111111,
              "#46039f"
             ],
             [
              0.2222222222222222,
              "#7201a8"
             ],
             [
              0.3333333333333333,
              "#9c179e"
             ],
             [
              0.4444444444444444,
              "#bd3786"
             ],
             [
              0.5555555555555556,
              "#d8576b"
             ],
             [
              0.6666666666666666,
              "#ed7953"
             ],
             [
              0.7777777777777778,
              "#fb9f3a"
             ],
             [
              0.8888888888888888,
              "#fdca26"
             ],
             [
              1,
              "#f0f921"
             ]
            ],
            "type": "histogram2d"
           }
          ],
          "histogram2dcontour": [
           {
            "colorbar": {
             "outlinewidth": 0,
             "ticks": ""
            },
            "colorscale": [
             [
              0,
              "#0d0887"
             ],
             [
              0.1111111111111111,
              "#46039f"
             ],
             [
              0.2222222222222222,
              "#7201a8"
             ],
             [
              0.3333333333333333,
              "#9c179e"
             ],
             [
              0.4444444444444444,
              "#bd3786"
             ],
             [
              0.5555555555555556,
              "#d8576b"
             ],
             [
              0.6666666666666666,
              "#ed7953"
             ],
             [
              0.7777777777777778,
              "#fb9f3a"
             ],
             [
              0.8888888888888888,
              "#fdca26"
             ],
             [
              1,
              "#f0f921"
             ]
            ],
            "type": "histogram2dcontour"
           }
          ],
          "mesh3d": [
           {
            "colorbar": {
             "outlinewidth": 0,
             "ticks": ""
            },
            "type": "mesh3d"
           }
          ],
          "parcoords": [
           {
            "line": {
             "colorbar": {
              "outlinewidth": 0,
              "ticks": ""
             }
            },
            "type": "parcoords"
           }
          ],
          "pie": [
           {
            "automargin": true,
            "type": "pie"
           }
          ],
          "scatter": [
           {
            "marker": {
             "colorbar": {
              "outlinewidth": 0,
              "ticks": ""
             }
            },
            "type": "scatter"
           }
          ],
          "scatter3d": [
           {
            "line": {
             "colorbar": {
              "outlinewidth": 0,
              "ticks": ""
             }
            },
            "marker": {
             "colorbar": {
              "outlinewidth": 0,
              "ticks": ""
             }
            },
            "type": "scatter3d"
           }
          ],
          "scattercarpet": [
           {
            "marker": {
             "colorbar": {
              "outlinewidth": 0,
              "ticks": ""
             }
            },
            "type": "scattercarpet"
           }
          ],
          "scattergeo": [
           {
            "marker": {
             "colorbar": {
              "outlinewidth": 0,
              "ticks": ""
             }
            },
            "type": "scattergeo"
           }
          ],
          "scattergl": [
           {
            "marker": {
             "colorbar": {
              "outlinewidth": 0,
              "ticks": ""
             }
            },
            "type": "scattergl"
           }
          ],
          "scattermapbox": [
           {
            "marker": {
             "colorbar": {
              "outlinewidth": 0,
              "ticks": ""
             }
            },
            "type": "scattermapbox"
           }
          ],
          "scatterpolar": [
           {
            "marker": {
             "colorbar": {
              "outlinewidth": 0,
              "ticks": ""
             }
            },
            "type": "scatterpolar"
           }
          ],
          "scatterpolargl": [
           {
            "marker": {
             "colorbar": {
              "outlinewidth": 0,
              "ticks": ""
             }
            },
            "type": "scatterpolargl"
           }
          ],
          "scatterternary": [
           {
            "marker": {
             "colorbar": {
              "outlinewidth": 0,
              "ticks": ""
             }
            },
            "type": "scatterternary"
           }
          ],
          "surface": [
           {
            "colorbar": {
             "outlinewidth": 0,
             "ticks": ""
            },
            "colorscale": [
             [
              0,
              "#0d0887"
             ],
             [
              0.1111111111111111,
              "#46039f"
             ],
             [
              0.2222222222222222,
              "#7201a8"
             ],
             [
              0.3333333333333333,
              "#9c179e"
             ],
             [
              0.4444444444444444,
              "#bd3786"
             ],
             [
              0.5555555555555556,
              "#d8576b"
             ],
             [
              0.6666666666666666,
              "#ed7953"
             ],
             [
              0.7777777777777778,
              "#fb9f3a"
             ],
             [
              0.8888888888888888,
              "#fdca26"
             ],
             [
              1,
              "#f0f921"
             ]
            ],
            "type": "surface"
           }
          ],
          "table": [
           {
            "cells": {
             "fill": {
              "color": "#EBF0F8"
             },
             "line": {
              "color": "white"
             }
            },
            "header": {
             "fill": {
              "color": "#C8D4E3"
             },
             "line": {
              "color": "white"
             }
            },
            "type": "table"
           }
          ]
         },
         "layout": {
          "annotationdefaults": {
           "arrowcolor": "#2a3f5f",
           "arrowhead": 0,
           "arrowwidth": 1
          },
          "autotypenumbers": "strict",
          "coloraxis": {
           "colorbar": {
            "outlinewidth": 0,
            "ticks": ""
           }
          },
          "colorscale": {
           "diverging": [
            [
             0,
             "#8e0152"
            ],
            [
             0.1,
             "#c51b7d"
            ],
            [
             0.2,
             "#de77ae"
            ],
            [
             0.3,
             "#f1b6da"
            ],
            [
             0.4,
             "#fde0ef"
            ],
            [
             0.5,
             "#f7f7f7"
            ],
            [
             0.6,
             "#e6f5d0"
            ],
            [
             0.7,
             "#b8e186"
            ],
            [
             0.8,
             "#7fbc41"
            ],
            [
             0.9,
             "#4d9221"
            ],
            [
             1,
             "#276419"
            ]
           ],
           "sequential": [
            [
             0,
             "#0d0887"
            ],
            [
             0.1111111111111111,
             "#46039f"
            ],
            [
             0.2222222222222222,
             "#7201a8"
            ],
            [
             0.3333333333333333,
             "#9c179e"
            ],
            [
             0.4444444444444444,
             "#bd3786"
            ],
            [
             0.5555555555555556,
             "#d8576b"
            ],
            [
             0.6666666666666666,
             "#ed7953"
            ],
            [
             0.7777777777777778,
             "#fb9f3a"
            ],
            [
             0.8888888888888888,
             "#fdca26"
            ],
            [
             1,
             "#f0f921"
            ]
           ],
           "sequentialminus": [
            [
             0,
             "#0d0887"
            ],
            [
             0.1111111111111111,
             "#46039f"
            ],
            [
             0.2222222222222222,
             "#7201a8"
            ],
            [
             0.3333333333333333,
             "#9c179e"
            ],
            [
             0.4444444444444444,
             "#bd3786"
            ],
            [
             0.5555555555555556,
             "#d8576b"
            ],
            [
             0.6666666666666666,
             "#ed7953"
            ],
            [
             0.7777777777777778,
             "#fb9f3a"
            ],
            [
             0.8888888888888888,
             "#fdca26"
            ],
            [
             1,
             "#f0f921"
            ]
           ]
          },
          "colorway": [
           "#636efa",
           "#EF553B",
           "#00cc96",
           "#ab63fa",
           "#FFA15A",
           "#19d3f3",
           "#FF6692",
           "#B6E880",
           "#FF97FF",
           "#FECB52"
          ],
          "font": {
           "color": "#2a3f5f"
          },
          "geo": {
           "bgcolor": "white",
           "lakecolor": "white",
           "landcolor": "#E5ECF6",
           "showlakes": true,
           "showland": true,
           "subunitcolor": "white"
          },
          "hoverlabel": {
           "align": "left"
          },
          "hovermode": "closest",
          "mapbox": {
           "style": "light"
          },
          "paper_bgcolor": "white",
          "plot_bgcolor": "#E5ECF6",
          "polar": {
           "angularaxis": {
            "gridcolor": "white",
            "linecolor": "white",
            "ticks": ""
           },
           "bgcolor": "#E5ECF6",
           "radialaxis": {
            "gridcolor": "white",
            "linecolor": "white",
            "ticks": ""
           }
          },
          "scene": {
           "xaxis": {
            "backgroundcolor": "#E5ECF6",
            "gridcolor": "white",
            "gridwidth": 2,
            "linecolor": "white",
            "showbackground": true,
            "ticks": "",
            "zerolinecolor": "white"
           },
           "yaxis": {
            "backgroundcolor": "#E5ECF6",
            "gridcolor": "white",
            "gridwidth": 2,
            "linecolor": "white",
            "showbackground": true,
            "ticks": "",
            "zerolinecolor": "white"
           },
           "zaxis": {
            "backgroundcolor": "#E5ECF6",
            "gridcolor": "white",
            "gridwidth": 2,
            "linecolor": "white",
            "showbackground": true,
            "ticks": "",
            "zerolinecolor": "white"
           }
          },
          "shapedefaults": {
           "line": {
            "color": "#2a3f5f"
           }
          },
          "ternary": {
           "aaxis": {
            "gridcolor": "white",
            "linecolor": "white",
            "ticks": ""
           },
           "baxis": {
            "gridcolor": "white",
            "linecolor": "white",
            "ticks": ""
           },
           "bgcolor": "#E5ECF6",
           "caxis": {
            "gridcolor": "white",
            "linecolor": "white",
            "ticks": ""
           }
          },
          "title": {
           "x": 0.05
          },
          "xaxis": {
           "automargin": true,
           "gridcolor": "white",
           "linecolor": "white",
           "ticks": "",
           "title": {
            "standoff": 15
           },
           "zerolinecolor": "white",
           "zerolinewidth": 2
          },
          "yaxis": {
           "automargin": true,
           "gridcolor": "white",
           "linecolor": "white",
           "ticks": "",
           "title": {
            "standoff": 15
           },
           "zerolinecolor": "white",
           "zerolinewidth": 2
          }
         }
        },
        "title": {
         "text": "Insurance (both life and non-life) Volume per person in USD in 2019"
        }
       }
      },
      "text/html": [
       "<div>                            <div id=\"3bdf3270-9c93-4516-896e-a374fca5476c\" class=\"plotly-graph-div\" style=\"height:525px; width:100%;\"></div>            <script type=\"text/javascript\">                require([\"plotly\"], function(Plotly) {                    window.PLOTLYENV=window.PLOTLYENV || {};                                    if (document.getElementById(\"3bdf3270-9c93-4516-896e-a374fca5476c\")) {                    Plotly.newPlot(                        \"3bdf3270-9c93-4516-896e-a374fca5476c\",                        [{\"colorbar\":{\"title\":{\"text\":\"USD\"}},\"colorscale\":[[0.0,\"rgb(12,51,131)\"],[0.25,\"rgb(10,136,186)\"],[0.5,\"rgb(242,211,56)\"],[0.75,\"rgb(242,143,56)\"],[1.0,\"rgb(217,30,30)\"]],\"locationmode\":\"country names\",\"locations\":[\"Australia\",\"Austria\",\"Austria\",\"Austria\",\"Denmark\",\"Denmark\",\"Denmark\",\"Finland\",\"Finland\",\"Finland\",\"Germany\",\"Greece\",\"Greece\",\"Greece\",\"Hungary\",\"Iceland\",\"Italy\",\"Italy\",\"Italy\",\"Luxembourg\",\"Mexico\",\"Mexico\",\"New Zealand\",\"Norway\",\"Norway\",\"Norway\",\"Poland\",\"Poland\",\"Poland\",\"Portugal\",\"Portugal\",\"Portugal\",\"Spain\",\"Spain\",\"Spain\",\"Sweden\",\"Switzerland\",\"Turkey\",\"Turkey\",\"Turkey\",\"United Kingdom\",\"United Kingdom\",\"United Kingdom\",\"Chile\",\"Chile\",\"Chile\",\"Israel\",\"Israel\",\"Israel\",\"Slovenia\",\"Slovenia\",\"Slovenia\",\"Malaysia\",\"Malaysia\",\"Malaysia\",\"Russia\",\"Argentina\",\"Brazil\",\"Belgium\",\"Argentina\",\"Argentina\",\"Colombia\",\"Guatemala\",\"Costa Rica\",\"Guatemala\",\"Indonesia\",\"Costa Rica\",\"Indonesia\",\"Colombia\",\"Colombia\",\"Costa Rica\",\"Paraguay\",\"Uruguay\",\"Peru\",\"Uruguay\",\"Peru\",\"El Salvador\",\"Paraguay\",\"Peru\",\"Uruguay\",\"Paraguay\",\"Latvia\",\"Latvia\",\"Honduras\",\"Honduras\",\"Latvia\",\"Honduras\",\"Brazil\",\"Brazil\",\"Lithuania\",\"Lithuania\",\"Lithuania\",\"Ecuador\",\"Ecuador\",\"Ecuador\",\"Bolivia\",\"Bolivia\",\"Bolivia\",\"Chinese Taipei\"],\"text\":[\"Australia\",\"Austria\",\"Austria\",\"Austria\",\"Denmark\",\"Denmark\",\"Denmark\",\"Finland\",\"Finland\",\"Finland\",\"Germany\",\"Greece\",\"Greece\",\"Greece\",\"Hungary\",\"Iceland\",\"Italy\",\"Italy\",\"Italy\",\"Luxembourg\",\"Mexico\",\"Mexico\",\"New Zealand\",\"Norway\",\"Norway\",\"Norway\",\"Poland\",\"Poland\",\"Poland\",\"Portugal\",\"Portugal\",\"Portugal\",\"Spain\",\"Spain\",\"Spain\",\"Sweden\",\"Switzerland\",\"Turkey\",\"Turkey\",\"Turkey\",\"United Kingdom\",\"United Kingdom\",\"United Kingdom\",\"Chile\",\"Chile\",\"Chile\",\"Israel\",\"Israel\",\"Israel\",\"Slovenia\",\"Slovenia\",\"Slovenia\",\"Malaysia\",\"Malaysia\",\"Malaysia\",\"Russia\",\"Argentina\",\"Brazil\",\"Belgium\",\"Argentina\",\"Argentina\",\"Colombia\",\"Guatemala\",\"Costa Rica\",\"Guatemala\",\"Indonesia\",\"Costa Rica\",\"Indonesia\",\"Colombia\",\"Colombia\",\"Costa Rica\",\"Paraguay\",\"Uruguay\",\"Peru\",\"Uruguay\",\"Peru\",\"El Salvador\",\"Paraguay\",\"Peru\",\"Uruguay\",\"Paraguay\",\"Latvia\",\"Latvia\",\"Honduras\",\"Honduras\",\"Latvia\",\"Honduras\",\"Brazil\",\"Brazil\",\"Lithuania\",\"Lithuania\",\"Lithuania\",\"Ecuador\",\"Ecuador\",\"Ecuador\",\"Bolivia\",\"Bolivia\",\"Bolivia\",\"Chinese Taipei\"],\"type\":\"choropleth\",\"z\":[0.005865585576138213,0.0,0.0,0.015930948364399677,0.0876801105939679,0.008598070453090608,0.09627818104705851,0.009035856777901212,0.00589471034333127,0.01493097406805194,0.025473555305442118,0.001834912982058058,0.0,0.001834912982058058,0.0010152534898432025,0.003353574826035949,0.0076525987399672195,0.005432412077460224,0.01624493423898486,0.4411585078088584,0.00055903721159565,0.00055903721159565,0.0022951595605808046,0.025367014055621126,0.014168328441689967,0.03953534268430052,0.0011373527659011245,0.00011680520262159237,0.0012541579421829964,0.002166395026065346,0.0034514264315427283,0.005601797854089478,0.005073816403404278,0.002400293010148764,0.007474109413553042,0.05605966939805837,0.05249304197647191,6.686767684282632e-05,8.903317739468675e-05,0.00015590085423751305,0.031959322226070265,7.607093669285567e-05,0.03203539316276312,0.0027872331915807457,0.0005341195813536646,0.0033213527729344106,0.014923265628451513,0.0029680643914292027,0.017891330019880716,0.0013607955429674125,0.0025233647052626787,0.0038841602482300916,0.0024866374234897137,2.8075615773237185e-06,0.002489444953767926,0.0002829381892243578,1.511547549471378e-06,1.5610080589664836e-07,0.032735873419572493,0.00035137896253012327,0.00034986741498065185,0.00037648443984570907,5.856814485836146e-05,0.0006546163582767994,5.856814485836146e-05,0.00015957735064994804,0.0007277649542026337,0.00015957735064994804,0.00035744861141987606,1.9035808560694642e-05,7.314859592583427e-05,4.419005714842166e-05,9.136758459857222e-05,0.0,0.0012797819934593417,0.00042370111504413564,8.894561907787186e-05,0.0,0.00042370111504413564,0.0013711492891850926,0.0,0.0006350574922850714,0.0007517710633486291,0.0,6.781799722248301e-05,0.00011671357106355764,0.0,0.001309191318270666,0.0013093474190765627,0.00047138275610680505,0.0002763293281610744,0.00019505342794573063,0.0,6.176891831121105e-05,6.176891831121105e-05,1.2104035906222319e-05,4.5348768733222376e-05,5.74528046394447e-05,null]}],                        {\"geo\":{\"projection\":{\"type\":\"mercator\"},\"showframe\":false},\"template\":{\"data\":{\"bar\":[{\"error_x\":{\"color\":\"#2a3f5f\"},\"error_y\":{\"color\":\"#2a3f5f\"},\"marker\":{\"line\":{\"color\":\"#E5ECF6\",\"width\":0.5},\"pattern\":{\"fillmode\":\"overlay\",\"size\":10,\"solidity\":0.2}},\"type\":\"bar\"}],\"barpolar\":[{\"marker\":{\"line\":{\"color\":\"#E5ECF6\",\"width\":0.5},\"pattern\":{\"fillmode\":\"overlay\",\"size\":10,\"solidity\":0.2}},\"type\":\"barpolar\"}],\"carpet\":[{\"aaxis\":{\"endlinecolor\":\"#2a3f5f\",\"gridcolor\":\"white\",\"linecolor\":\"white\",\"minorgridcolor\":\"white\",\"startlinecolor\":\"#2a3f5f\"},\"baxis\":{\"endlinecolor\":\"#2a3f5f\",\"gridcolor\":\"white\",\"linecolor\":\"white\",\"minorgridcolor\":\"white\",\"startlinecolor\":\"#2a3f5f\"},\"type\":\"carpet\"}],\"choropleth\":[{\"colorbar\":{\"outlinewidth\":0,\"ticks\":\"\"},\"type\":\"choropleth\"}],\"contour\":[{\"colorbar\":{\"outlinewidth\":0,\"ticks\":\"\"},\"colorscale\":[[0.0,\"#0d0887\"],[0.1111111111111111,\"#46039f\"],[0.2222222222222222,\"#7201a8\"],[0.3333333333333333,\"#9c179e\"],[0.4444444444444444,\"#bd3786\"],[0.5555555555555556,\"#d8576b\"],[0.6666666666666666,\"#ed7953\"],[0.7777777777777778,\"#fb9f3a\"],[0.8888888888888888,\"#fdca26\"],[1.0,\"#f0f921\"]],\"type\":\"contour\"}],\"contourcarpet\":[{\"colorbar\":{\"outlinewidth\":0,\"ticks\":\"\"},\"type\":\"contourcarpet\"}],\"heatmap\":[{\"colorbar\":{\"outlinewidth\":0,\"ticks\":\"\"},\"colorscale\":[[0.0,\"#0d0887\"],[0.1111111111111111,\"#46039f\"],[0.2222222222222222,\"#7201a8\"],[0.3333333333333333,\"#9c179e\"],[0.4444444444444444,\"#bd3786\"],[0.5555555555555556,\"#d8576b\"],[0.6666666666666666,\"#ed7953\"],[0.7777777777777778,\"#fb9f3a\"],[0.8888888888888888,\"#fdca26\"],[1.0,\"#f0f921\"]],\"type\":\"heatmap\"}],\"heatmapgl\":[{\"colorbar\":{\"outlinewidth\":0,\"ticks\":\"\"},\"colorscale\":[[0.0,\"#0d0887\"],[0.1111111111111111,\"#46039f\"],[0.2222222222222222,\"#7201a8\"],[0.3333333333333333,\"#9c179e\"],[0.4444444444444444,\"#bd3786\"],[0.5555555555555556,\"#d8576b\"],[0.6666666666666666,\"#ed7953\"],[0.7777777777777778,\"#fb9f3a\"],[0.8888888888888888,\"#fdca26\"],[1.0,\"#f0f921\"]],\"type\":\"heatmapgl\"}],\"histogram\":[{\"marker\":{\"pattern\":{\"fillmode\":\"overlay\",\"size\":10,\"solidity\":0.2}},\"type\":\"histogram\"}],\"histogram2d\":[{\"colorbar\":{\"outlinewidth\":0,\"ticks\":\"\"},\"colorscale\":[[0.0,\"#0d0887\"],[0.1111111111111111,\"#46039f\"],[0.2222222222222222,\"#7201a8\"],[0.3333333333333333,\"#9c179e\"],[0.4444444444444444,\"#bd3786\"],[0.5555555555555556,\"#d8576b\"],[0.6666666666666666,\"#ed7953\"],[0.7777777777777778,\"#fb9f3a\"],[0.8888888888888888,\"#fdca26\"],[1.0,\"#f0f921\"]],\"type\":\"histogram2d\"}],\"histogram2dcontour\":[{\"colorbar\":{\"outlinewidth\":0,\"ticks\":\"\"},\"colorscale\":[[0.0,\"#0d0887\"],[0.1111111111111111,\"#46039f\"],[0.2222222222222222,\"#7201a8\"],[0.3333333333333333,\"#9c179e\"],[0.4444444444444444,\"#bd3786\"],[0.5555555555555556,\"#d8576b\"],[0.6666666666666666,\"#ed7953\"],[0.7777777777777778,\"#fb9f3a\"],[0.8888888888888888,\"#fdca26\"],[1.0,\"#f0f921\"]],\"type\":\"histogram2dcontour\"}],\"mesh3d\":[{\"colorbar\":{\"outlinewidth\":0,\"ticks\":\"\"},\"type\":\"mesh3d\"}],\"parcoords\":[{\"line\":{\"colorbar\":{\"outlinewidth\":0,\"ticks\":\"\"}},\"type\":\"parcoords\"}],\"pie\":[{\"automargin\":true,\"type\":\"pie\"}],\"scatter\":[{\"marker\":{\"colorbar\":{\"outlinewidth\":0,\"ticks\":\"\"}},\"type\":\"scatter\"}],\"scatter3d\":[{\"line\":{\"colorbar\":{\"outlinewidth\":0,\"ticks\":\"\"}},\"marker\":{\"colorbar\":{\"outlinewidth\":0,\"ticks\":\"\"}},\"type\":\"scatter3d\"}],\"scattercarpet\":[{\"marker\":{\"colorbar\":{\"outlinewidth\":0,\"ticks\":\"\"}},\"type\":\"scattercarpet\"}],\"scattergeo\":[{\"marker\":{\"colorbar\":{\"outlinewidth\":0,\"ticks\":\"\"}},\"type\":\"scattergeo\"}],\"scattergl\":[{\"marker\":{\"colorbar\":{\"outlinewidth\":0,\"ticks\":\"\"}},\"type\":\"scattergl\"}],\"scattermapbox\":[{\"marker\":{\"colorbar\":{\"outlinewidth\":0,\"ticks\":\"\"}},\"type\":\"scattermapbox\"}],\"scatterpolar\":[{\"marker\":{\"colorbar\":{\"outlinewidth\":0,\"ticks\":\"\"}},\"type\":\"scatterpolar\"}],\"scatterpolargl\":[{\"marker\":{\"colorbar\":{\"outlinewidth\":0,\"ticks\":\"\"}},\"type\":\"scatterpolargl\"}],\"scatterternary\":[{\"marker\":{\"colorbar\":{\"outlinewidth\":0,\"ticks\":\"\"}},\"type\":\"scatterternary\"}],\"surface\":[{\"colorbar\":{\"outlinewidth\":0,\"ticks\":\"\"},\"colorscale\":[[0.0,\"#0d0887\"],[0.1111111111111111,\"#46039f\"],[0.2222222222222222,\"#7201a8\"],[0.3333333333333333,\"#9c179e\"],[0.4444444444444444,\"#bd3786\"],[0.5555555555555556,\"#d8576b\"],[0.6666666666666666,\"#ed7953\"],[0.7777777777777778,\"#fb9f3a\"],[0.8888888888888888,\"#fdca26\"],[1.0,\"#f0f921\"]],\"type\":\"surface\"}],\"table\":[{\"cells\":{\"fill\":{\"color\":\"#EBF0F8\"},\"line\":{\"color\":\"white\"}},\"header\":{\"fill\":{\"color\":\"#C8D4E3\"},\"line\":{\"color\":\"white\"}},\"type\":\"table\"}]},\"layout\":{\"annotationdefaults\":{\"arrowcolor\":\"#2a3f5f\",\"arrowhead\":0,\"arrowwidth\":1},\"autotypenumbers\":\"strict\",\"coloraxis\":{\"colorbar\":{\"outlinewidth\":0,\"ticks\":\"\"}},\"colorscale\":{\"diverging\":[[0,\"#8e0152\"],[0.1,\"#c51b7d\"],[0.2,\"#de77ae\"],[0.3,\"#f1b6da\"],[0.4,\"#fde0ef\"],[0.5,\"#f7f7f7\"],[0.6,\"#e6f5d0\"],[0.7,\"#b8e186\"],[0.8,\"#7fbc41\"],[0.9,\"#4d9221\"],[1,\"#276419\"]],\"sequential\":[[0.0,\"#0d0887\"],[0.1111111111111111,\"#46039f\"],[0.2222222222222222,\"#7201a8\"],[0.3333333333333333,\"#9c179e\"],[0.4444444444444444,\"#bd3786\"],[0.5555555555555556,\"#d8576b\"],[0.6666666666666666,\"#ed7953\"],[0.7777777777777778,\"#fb9f3a\"],[0.8888888888888888,\"#fdca26\"],[1.0,\"#f0f921\"]],\"sequentialminus\":[[0.0,\"#0d0887\"],[0.1111111111111111,\"#46039f\"],[0.2222222222222222,\"#7201a8\"],[0.3333333333333333,\"#9c179e\"],[0.4444444444444444,\"#bd3786\"],[0.5555555555555556,\"#d8576b\"],[0.6666666666666666,\"#ed7953\"],[0.7777777777777778,\"#fb9f3a\"],[0.8888888888888888,\"#fdca26\"],[1.0,\"#f0f921\"]]},\"colorway\":[\"#636efa\",\"#EF553B\",\"#00cc96\",\"#ab63fa\",\"#FFA15A\",\"#19d3f3\",\"#FF6692\",\"#B6E880\",\"#FF97FF\",\"#FECB52\"],\"font\":{\"color\":\"#2a3f5f\"},\"geo\":{\"bgcolor\":\"white\",\"lakecolor\":\"white\",\"landcolor\":\"#E5ECF6\",\"showlakes\":true,\"showland\":true,\"subunitcolor\":\"white\"},\"hoverlabel\":{\"align\":\"left\"},\"hovermode\":\"closest\",\"mapbox\":{\"style\":\"light\"},\"paper_bgcolor\":\"white\",\"plot_bgcolor\":\"#E5ECF6\",\"polar\":{\"angularaxis\":{\"gridcolor\":\"white\",\"linecolor\":\"white\",\"ticks\":\"\"},\"bgcolor\":\"#E5ECF6\",\"radialaxis\":{\"gridcolor\":\"white\",\"linecolor\":\"white\",\"ticks\":\"\"}},\"scene\":{\"xaxis\":{\"backgroundcolor\":\"#E5ECF6\",\"gridcolor\":\"white\",\"gridwidth\":2,\"linecolor\":\"white\",\"showbackground\":true,\"ticks\":\"\",\"zerolinecolor\":\"white\"},\"yaxis\":{\"backgroundcolor\":\"#E5ECF6\",\"gridcolor\":\"white\",\"gridwidth\":2,\"linecolor\":\"white\",\"showbackground\":true,\"ticks\":\"\",\"zerolinecolor\":\"white\"},\"zaxis\":{\"backgroundcolor\":\"#E5ECF6\",\"gridcolor\":\"white\",\"gridwidth\":2,\"linecolor\":\"white\",\"showbackground\":true,\"ticks\":\"\",\"zerolinecolor\":\"white\"}},\"shapedefaults\":{\"line\":{\"color\":\"#2a3f5f\"}},\"ternary\":{\"aaxis\":{\"gridcolor\":\"white\",\"linecolor\":\"white\",\"ticks\":\"\"},\"baxis\":{\"gridcolor\":\"white\",\"linecolor\":\"white\",\"ticks\":\"\"},\"bgcolor\":\"#E5ECF6\",\"caxis\":{\"gridcolor\":\"white\",\"linecolor\":\"white\",\"ticks\":\"\"}},\"title\":{\"x\":0.05},\"xaxis\":{\"automargin\":true,\"gridcolor\":\"white\",\"linecolor\":\"white\",\"ticks\":\"\",\"title\":{\"standoff\":15},\"zerolinecolor\":\"white\",\"zerolinewidth\":2},\"yaxis\":{\"automargin\":true,\"gridcolor\":\"white\",\"linecolor\":\"white\",\"ticks\":\"\",\"title\":{\"standoff\":15},\"zerolinecolor\":\"white\",\"zerolinewidth\":2}}},\"title\":{\"text\":\"Insurance (both life and non-life) Volume per person in USD in 2019\"}},                        {\"responsive\": true}                    ).then(function(){\n",
       "                            \n",
       "var gd = document.getElementById('3bdf3270-9c93-4516-896e-a374fca5476c');\n",
       "var x = new MutationObserver(function (mutations, observer) {{\n",
       "        var display = window.getComputedStyle(gd).display;\n",
       "        if (!display || display === 'none') {{\n",
       "            console.log([gd, 'removed!']);\n",
       "            Plotly.purge(gd);\n",
       "            observer.disconnect();\n",
       "        }}\n",
       "}});\n",
       "\n",
       "// Listen for the removal of the full notebook cells\n",
       "var notebookContainer = gd.closest('#notebook-container');\n",
       "if (notebookContainer) {{\n",
       "    x.observe(notebookContainer, {childList: true});\n",
       "}}\n",
       "\n",
       "// Listen for the clearing of the current output cell\n",
       "var outputEl = gd.closest('.output');\n",
       "if (outputEl) {{\n",
       "    x.observe(outputEl, {childList: true});\n",
       "}}\n",
       "\n",
       "                        })                };                });            </script>        </div>"
      ]
     },
     "metadata": {},
     "output_type": "display_data"
    }
   ],
   "source": [
    "data = dict(type = 'choropleth',\n",
    "            locations = insurance_population['Country'],\n",
    "            locationmode = 'country names',\n",
    "            colorscale= 'Portland',\n",
    "            text= insurance_population['Country'],\n",
    "            z=insurance_population['volume_per_capita'],\n",
    "            colorbar = {'title':'USD'})\n",
    "\n",
    "layout = dict(\n",
    "    title = 'Insurance (both life and non-life) Volume per person in USD in 2019',\n",
    "    geo = dict(\n",
    "        showframe = False,\n",
    "        projection = {'type':'mercator'}\n",
    "    )\n",
    ")\n",
    "\n",
    "choromap = go.Figure(data = [data],layout = layout)\n",
    "iplot(choromap, image_width=1200)"
   ]
  },
  {
   "cell_type": "markdown",
   "id": "435ac3e0",
   "metadata": {},
   "source": [
    "It shows that the first hypothesis, that insurance per capita is more equally distributed is correct. Germany is no longer an outlier - the high insurance volume is equalized by the high population. What is more, a new outlier can be detected: Luxembourg has a higher per capita insurance volume than other countries. "
   ]
  },
  {
   "cell_type": "code",
   "execution_count": 105,
   "id": "ecfd4771",
   "metadata": {},
   "outputs": [
    {
     "data": {
      "image/png": "[encoded data removed]",
      "text/plain": [
       "<Figure size 432x288 with 1 Axes>"
      ]
     },
     "metadata": {
      "needs_background": "light"
     },
     "output_type": "display_data"
    }
   ],
   "source": [
    "insurance_population['volume_per_capita'].hist();"
   ]
  },
  {
   "cell_type": "code",
   "execution_count": 106,
   "id": "62b0eed6",
   "metadata": {},
   "outputs": [
    {
     "data": {
      "text/html": [
       "<div>\n",
       "<style scoped>\n",
       "    .dataframe tbody tr th:only-of-type {\n",
       "        vertical-align: middle;\n",
       "    }\n",
       "\n",
       "    .dataframe tbody tr th {\n",
       "        vertical-align: top;\n",
       "    }\n",
       "\n",
       "    .dataframe thead th {\n",
       "        text-align: right;\n",
       "    }\n",
       "</style>\n",
       "<table border=\"1\" class=\"dataframe\">\n",
       "  <thead>\n",
       "    <tr style=\"text-align: right;\">\n",
       "      <th></th>\n",
       "      <th>CUR</th>\n",
       "      <th>Currency</th>\n",
       "      <th>VAR</th>\n",
       "      <th>Variable</th>\n",
       "      <th>OWN</th>\n",
       "      <th>Ownership</th>\n",
       "      <th>IVTYP</th>\n",
       "      <th>Investment Type</th>\n",
       "      <th>ITYP</th>\n",
       "      <th>Insurance Type</th>\n",
       "      <th>...</th>\n",
       "      <th>Value</th>\n",
       "      <th>Flag Codes</th>\n",
       "      <th>Flags</th>\n",
       "      <th>Country Name</th>\n",
       "      <th>Country Code</th>\n",
       "      <th>Indicator Name</th>\n",
       "      <th>Indicator Code</th>\n",
       "      <th>year</th>\n",
       "      <th>population</th>\n",
       "      <th>volume_per_capita</th>\n",
       "    </tr>\n",
       "  </thead>\n",
       "  <tbody>\n",
       "    <tr>\n",
       "      <th>19</th>\n",
       "      <td>USD</td>\n",
       "      <td>US Dollars (millions)</td>\n",
       "      <td>OFI</td>\n",
       "      <td>Outstanding figures of investments by direct i...</td>\n",
       "      <td>TOT</td>\n",
       "      <td>All undertakings (=1+3)</td>\n",
       "      <td>TOT</td>\n",
       "      <td>TOTAL INVESTMENTS</td>\n",
       "      <td>TOT</td>\n",
       "      <td>Total</td>\n",
       "      <td>...</td>\n",
       "      <td>273518.716</td>\n",
       "      <td>NaN</td>\n",
       "      <td>NaN</td>\n",
       "      <td>Luxembourg</td>\n",
       "      <td>LUX</td>\n",
       "      <td>Population, total</td>\n",
       "      <td>SP.POP.TOTL</td>\n",
       "      <td>2019</td>\n",
       "      <td>620001.0</td>\n",
       "      <td>0.441159</td>\n",
       "    </tr>\n",
       "  </tbody>\n",
       "</table>\n",
       "<p>1 rows × 34 columns</p>\n",
       "</div>"
      ],
      "text/plain": [
       "    CUR               Currency  VAR  \\\n",
       "19  USD  US Dollars (millions)  OFI   \n",
       "\n",
       "                                             Variable  OWN  \\\n",
       "19  Outstanding figures of investments by direct i...  TOT   \n",
       "\n",
       "                  Ownership IVTYP    Investment Type ITYP Insurance Type  ...  \\\n",
       "19  All undertakings (=1+3)   TOT  TOTAL INVESTMENTS  TOT          Total  ...   \n",
       "\n",
       "         Value Flag Codes Flags Country Name Country Code     Indicator Name  \\\n",
       "19  273518.716        NaN   NaN   Luxembourg          LUX  Population, total   \n",
       "\n",
       "    Indicator Code  year population volume_per_capita  \n",
       "19     SP.POP.TOTL  2019   620001.0          0.441159  \n",
       "\n",
       "[1 rows x 34 columns]"
      ]
     },
     "execution_count": 106,
     "metadata": {},
     "output_type": "execute_result"
    }
   ],
   "source": [
    "insurance_population[insurance_population['volume_per_capita']>0.15]"
   ]
  },
  {
   "cell_type": "markdown",
   "id": "282d3656",
   "metadata": {},
   "source": [
    "The same analysis can now be followed to determine the volume of insurances compared to a country's wealth. "
   ]
  },
  {
   "cell_type": "markdown",
   "id": "3a8aa67a",
   "metadata": {},
   "source": [
    "### Insurance volume to GDP"
   ]
  },
  {
   "cell_type": "code",
   "execution_count": 120,
   "id": "4d353eb8",
   "metadata": {},
   "outputs": [
    {
     "ename": "KeyError",
     "evalue": "\"['Unnamed: 65'] not found in axis\"",
     "output_type": "error",
     "traceback": [
      "\u001b[0;31m---------------------------------------------------------------------------\u001b[0m",
      "\u001b[0;31mKeyError\u001b[0m                                  Traceback (most recent call last)",
      "\u001b[0;32m<ipython-input-120-0700fb47d297>\u001b[0m in \u001b[0;36m<module>\u001b[0;34m\u001b[0m\n\u001b[0;32m----> 1\u001b[0;31m \u001b[0mworld_gdp\u001b[0m\u001b[0;34m.\u001b[0m\u001b[0mdrop\u001b[0m\u001b[0;34m(\u001b[0m\u001b[0;34m'Unnamed: 65'\u001b[0m\u001b[0;34m,\u001b[0m \u001b[0maxis\u001b[0m\u001b[0;34m=\u001b[0m\u001b[0;36m1\u001b[0m\u001b[0;34m,\u001b[0m \u001b[0minplace\u001b[0m\u001b[0;34m=\u001b[0m\u001b[0;32mTrue\u001b[0m\u001b[0;34m)\u001b[0m\u001b[0;34m\u001b[0m\u001b[0;34m\u001b[0m\u001b[0m\n\u001b[0m\u001b[1;32m      2\u001b[0m \u001b[0mworld_population\u001b[0m\u001b[0;34m.\u001b[0m\u001b[0mcolumns\u001b[0m\u001b[0;34m\u001b[0m\u001b[0;34m\u001b[0m\u001b[0m\n",
      "\u001b[0;32m~/Documents/GitHub/insurances/env/lib/python3.9/site-packages/pandas/util/_decorators.py\u001b[0m in \u001b[0;36mwrapper\u001b[0;34m(*args, **kwargs)\u001b[0m\n\u001b[1;32m    309\u001b[0m                     \u001b[0mstacklevel\u001b[0m\u001b[0;34m=\u001b[0m\u001b[0mstacklevel\u001b[0m\u001b[0;34m,\u001b[0m\u001b[0;34m\u001b[0m\u001b[0;34m\u001b[0m\u001b[0m\n\u001b[1;32m    310\u001b[0m                 )\n\u001b[0;32m--> 311\u001b[0;31m             \u001b[0;32mreturn\u001b[0m \u001b[0mfunc\u001b[0m\u001b[0;34m(\u001b[0m\u001b[0;34m*\u001b[0m\u001b[0margs\u001b[0m\u001b[0;34m,\u001b[0m \u001b[0;34m**\u001b[0m\u001b[0mkwargs\u001b[0m\u001b[0;34m)\u001b[0m\u001b[0;34m\u001b[0m\u001b[0;34m\u001b[0m\u001b[0m\n\u001b[0m\u001b[1;32m    312\u001b[0m \u001b[0;34m\u001b[0m\u001b[0m\n\u001b[1;32m    313\u001b[0m         \u001b[0;32mreturn\u001b[0m \u001b[0mwrapper\u001b[0m\u001b[0;34m\u001b[0m\u001b[0;34m\u001b[0m\u001b[0m\n",
      "\u001b[0;32m~/Documents/GitHub/insurances/env/lib/python3.9/site-packages/pandas/core/frame.py\u001b[0m in \u001b[0;36mdrop\u001b[0;34m(self, labels, axis, index, columns, level, inplace, errors)\u001b[0m\n\u001b[1;32m   4899\u001b[0m                 \u001b[0mweight\u001b[0m  \u001b[0;36m1.0\u001b[0m     \u001b[0;36m0.8\u001b[0m\u001b[0;34m\u001b[0m\u001b[0;34m\u001b[0m\u001b[0m\n\u001b[1;32m   4900\u001b[0m         \"\"\"\n\u001b[0;32m-> 4901\u001b[0;31m         return super().drop(\n\u001b[0m\u001b[1;32m   4902\u001b[0m             \u001b[0mlabels\u001b[0m\u001b[0;34m=\u001b[0m\u001b[0mlabels\u001b[0m\u001b[0;34m,\u001b[0m\u001b[0;34m\u001b[0m\u001b[0;34m\u001b[0m\u001b[0m\n\u001b[1;32m   4903\u001b[0m             \u001b[0maxis\u001b[0m\u001b[0;34m=\u001b[0m\u001b[0maxis\u001b[0m\u001b[0;34m,\u001b[0m\u001b[0;34m\u001b[0m\u001b[0;34m\u001b[0m\u001b[0m\n",
      "\u001b[0;32m~/Documents/GitHub/insurances/env/lib/python3.9/site-packages/pandas/core/generic.py\u001b[0m in \u001b[0;36mdrop\u001b[0;34m(self, labels, axis, index, columns, level, inplace, errors)\u001b[0m\n\u001b[1;32m   4145\u001b[0m         \u001b[0;32mfor\u001b[0m \u001b[0maxis\u001b[0m\u001b[0;34m,\u001b[0m \u001b[0mlabels\u001b[0m \u001b[0;32min\u001b[0m \u001b[0maxes\u001b[0m\u001b[0;34m.\u001b[0m\u001b[0mitems\u001b[0m\u001b[0;34m(\u001b[0m\u001b[0;34m)\u001b[0m\u001b[0;34m:\u001b[0m\u001b[0;34m\u001b[0m\u001b[0;34m\u001b[0m\u001b[0m\n\u001b[1;32m   4146\u001b[0m             \u001b[0;32mif\u001b[0m \u001b[0mlabels\u001b[0m \u001b[0;32mis\u001b[0m \u001b[0;32mnot\u001b[0m \u001b[0;32mNone\u001b[0m\u001b[0;34m:\u001b[0m\u001b[0;34m\u001b[0m\u001b[0;34m\u001b[0m\u001b[0m\n\u001b[0;32m-> 4147\u001b[0;31m                 \u001b[0mobj\u001b[0m \u001b[0;34m=\u001b[0m \u001b[0mobj\u001b[0m\u001b[0;34m.\u001b[0m\u001b[0m_drop_axis\u001b[0m\u001b[0;34m(\u001b[0m\u001b[0mlabels\u001b[0m\u001b[0;34m,\u001b[0m \u001b[0maxis\u001b[0m\u001b[0;34m,\u001b[0m \u001b[0mlevel\u001b[0m\u001b[0;34m=\u001b[0m\u001b[0mlevel\u001b[0m\u001b[0;34m,\u001b[0m \u001b[0merrors\u001b[0m\u001b[0;34m=\u001b[0m\u001b[0merrors\u001b[0m\u001b[0;34m)\u001b[0m\u001b[0;34m\u001b[0m\u001b[0;34m\u001b[0m\u001b[0m\n\u001b[0m\u001b[1;32m   4148\u001b[0m \u001b[0;34m\u001b[0m\u001b[0m\n\u001b[1;32m   4149\u001b[0m         \u001b[0;32mif\u001b[0m \u001b[0minplace\u001b[0m\u001b[0;34m:\u001b[0m\u001b[0;34m\u001b[0m\u001b[0;34m\u001b[0m\u001b[0m\n",
      "\u001b[0;32m~/Documents/GitHub/insurances/env/lib/python3.9/site-packages/pandas/core/generic.py\u001b[0m in \u001b[0;36m_drop_axis\u001b[0;34m(self, labels, axis, level, errors)\u001b[0m\n\u001b[1;32m   4180\u001b[0m                 \u001b[0mnew_axis\u001b[0m \u001b[0;34m=\u001b[0m \u001b[0maxis\u001b[0m\u001b[0;34m.\u001b[0m\u001b[0mdrop\u001b[0m\u001b[0;34m(\u001b[0m\u001b[0mlabels\u001b[0m\u001b[0;34m,\u001b[0m \u001b[0mlevel\u001b[0m\u001b[0;34m=\u001b[0m\u001b[0mlevel\u001b[0m\u001b[0;34m,\u001b[0m \u001b[0merrors\u001b[0m\u001b[0;34m=\u001b[0m\u001b[0merrors\u001b[0m\u001b[0;34m)\u001b[0m\u001b[0;34m\u001b[0m\u001b[0;34m\u001b[0m\u001b[0m\n\u001b[1;32m   4181\u001b[0m             \u001b[0;32melse\u001b[0m\u001b[0;34m:\u001b[0m\u001b[0;34m\u001b[0m\u001b[0;34m\u001b[0m\u001b[0m\n\u001b[0;32m-> 4182\u001b[0;31m                 \u001b[0mnew_axis\u001b[0m \u001b[0;34m=\u001b[0m \u001b[0maxis\u001b[0m\u001b[0;34m.\u001b[0m\u001b[0mdrop\u001b[0m\u001b[0;34m(\u001b[0m\u001b[0mlabels\u001b[0m\u001b[0;34m,\u001b[0m \u001b[0merrors\u001b[0m\u001b[0;34m=\u001b[0m\u001b[0merrors\u001b[0m\u001b[0;34m)\u001b[0m\u001b[0;34m\u001b[0m\u001b[0;34m\u001b[0m\u001b[0m\n\u001b[0m\u001b[1;32m   4183\u001b[0m             \u001b[0mresult\u001b[0m \u001b[0;34m=\u001b[0m \u001b[0mself\u001b[0m\u001b[0;34m.\u001b[0m\u001b[0mreindex\u001b[0m\u001b[0;34m(\u001b[0m\u001b[0;34m**\u001b[0m\u001b[0;34m{\u001b[0m\u001b[0maxis_name\u001b[0m\u001b[0;34m:\u001b[0m \u001b[0mnew_axis\u001b[0m\u001b[0;34m}\u001b[0m\u001b[0;34m)\u001b[0m\u001b[0;34m\u001b[0m\u001b[0;34m\u001b[0m\u001b[0m\n\u001b[1;32m   4184\u001b[0m \u001b[0;34m\u001b[0m\u001b[0m\n",
      "\u001b[0;32m~/Documents/GitHub/insurances/env/lib/python3.9/site-packages/pandas/core/indexes/base.py\u001b[0m in \u001b[0;36mdrop\u001b[0;34m(self, labels, errors)\u001b[0m\n\u001b[1;32m   6016\u001b[0m         \u001b[0;32mif\u001b[0m \u001b[0mmask\u001b[0m\u001b[0;34m.\u001b[0m\u001b[0many\u001b[0m\u001b[0;34m(\u001b[0m\u001b[0;34m)\u001b[0m\u001b[0;34m:\u001b[0m\u001b[0;34m\u001b[0m\u001b[0;34m\u001b[0m\u001b[0m\n\u001b[1;32m   6017\u001b[0m             \u001b[0;32mif\u001b[0m \u001b[0merrors\u001b[0m \u001b[0;34m!=\u001b[0m \u001b[0;34m\"ignore\"\u001b[0m\u001b[0;34m:\u001b[0m\u001b[0;34m\u001b[0m\u001b[0;34m\u001b[0m\u001b[0m\n\u001b[0;32m-> 6018\u001b[0;31m                 \u001b[0;32mraise\u001b[0m \u001b[0mKeyError\u001b[0m\u001b[0;34m(\u001b[0m\u001b[0;34mf\"{labels[mask]} not found in axis\"\u001b[0m\u001b[0;34m)\u001b[0m\u001b[0;34m\u001b[0m\u001b[0;34m\u001b[0m\u001b[0m\n\u001b[0m\u001b[1;32m   6019\u001b[0m             \u001b[0mindexer\u001b[0m \u001b[0;34m=\u001b[0m \u001b[0mindexer\u001b[0m\u001b[0;34m[\u001b[0m\u001b[0;34m~\u001b[0m\u001b[0mmask\u001b[0m\u001b[0;34m]\u001b[0m\u001b[0;34m\u001b[0m\u001b[0;34m\u001b[0m\u001b[0m\n\u001b[1;32m   6020\u001b[0m         \u001b[0;32mreturn\u001b[0m \u001b[0mself\u001b[0m\u001b[0;34m.\u001b[0m\u001b[0mdelete\u001b[0m\u001b[0;34m(\u001b[0m\u001b[0mindexer\u001b[0m\u001b[0;34m)\u001b[0m\u001b[0;34m\u001b[0m\u001b[0;34m\u001b[0m\u001b[0m\n",
      "\u001b[0;31mKeyError\u001b[0m: \"['Unnamed: 65'] not found in axis\""
     ]
    }
   ],
   "source": [
    "world_gdp.drop('Unnamed: 65', axis=1, inplace=True)\n",
    "world_population.columns"
   ]
  },
  {
   "cell_type": "code",
   "execution_count": 121,
   "id": "54e3fcb3",
   "metadata": {},
   "outputs": [
    {
     "data": {
      "text/html": [
       "<div>\n",
       "<style scoped>\n",
       "    .dataframe tbody tr th:only-of-type {\n",
       "        vertical-align: middle;\n",
       "    }\n",
       "\n",
       "    .dataframe tbody tr th {\n",
       "        vertical-align: top;\n",
       "    }\n",
       "\n",
       "    .dataframe thead th {\n",
       "        text-align: right;\n",
       "    }\n",
       "</style>\n",
       "<table border=\"1\" class=\"dataframe\">\n",
       "  <thead>\n",
       "    <tr style=\"text-align: right;\">\n",
       "      <th></th>\n",
       "      <th>Country Name</th>\n",
       "      <th>Country Code</th>\n",
       "      <th>Indicator Name</th>\n",
       "      <th>Indicator Code</th>\n",
       "      <th>year</th>\n",
       "      <th>gdp</th>\n",
       "    </tr>\n",
       "  </thead>\n",
       "  <tbody>\n",
       "    <tr>\n",
       "      <th>15694</th>\n",
       "      <td>Aruba</td>\n",
       "      <td>ABW</td>\n",
       "      <td>GDP (current US$)</td>\n",
       "      <td>NY.GDP.MKTP.CD</td>\n",
       "      <td>2019</td>\n",
       "      <td>NaN</td>\n",
       "    </tr>\n",
       "    <tr>\n",
       "      <th>15695</th>\n",
       "      <td>Africa Eastern and Southern</td>\n",
       "      <td>AFE</td>\n",
       "      <td>GDP (current US$)</td>\n",
       "      <td>NY.GDP.MKTP.CD</td>\n",
       "      <td>2019</td>\n",
       "      <td>9.778092e+11</td>\n",
       "    </tr>\n",
       "    <tr>\n",
       "      <th>15696</th>\n",
       "      <td>Afghanistan</td>\n",
       "      <td>AFG</td>\n",
       "      <td>GDP (current US$)</td>\n",
       "      <td>NY.GDP.MKTP.CD</td>\n",
       "      <td>2019</td>\n",
       "      <td>1.929110e+10</td>\n",
       "    </tr>\n",
       "    <tr>\n",
       "      <th>15697</th>\n",
       "      <td>Africa Western and Central</td>\n",
       "      <td>AFW</td>\n",
       "      <td>GDP (current US$)</td>\n",
       "      <td>NY.GDP.MKTP.CD</td>\n",
       "      <td>2019</td>\n",
       "      <td>7.920789e+11</td>\n",
       "    </tr>\n",
       "    <tr>\n",
       "      <th>15698</th>\n",
       "      <td>Angola</td>\n",
       "      <td>AGO</td>\n",
       "      <td>GDP (current US$)</td>\n",
       "      <td>NY.GDP.MKTP.CD</td>\n",
       "      <td>2019</td>\n",
       "      <td>8.941719e+10</td>\n",
       "    </tr>\n",
       "  </tbody>\n",
       "</table>\n",
       "</div>"
      ],
      "text/plain": [
       "                      Country Name Country Code     Indicator Name  \\\n",
       "15694                        Aruba          ABW  GDP (current US$)   \n",
       "15695  Africa Eastern and Southern          AFE  GDP (current US$)   \n",
       "15696                  Afghanistan          AFG  GDP (current US$)   \n",
       "15697   Africa Western and Central          AFW  GDP (current US$)   \n",
       "15698                       Angola          AGO  GDP (current US$)   \n",
       "\n",
       "       Indicator Code  year           gdp  \n",
       "15694  NY.GDP.MKTP.CD  2019           NaN  \n",
       "15695  NY.GDP.MKTP.CD  2019  9.778092e+11  \n",
       "15696  NY.GDP.MKTP.CD  2019  1.929110e+10  \n",
       "15697  NY.GDP.MKTP.CD  2019  7.920789e+11  \n",
       "15698  NY.GDP.MKTP.CD  2019  8.941719e+10  "
      ]
     },
     "execution_count": 121,
     "metadata": {},
     "output_type": "execute_result"
    }
   ],
   "source": [
    "other_columns=['Country Name', 'Country Code', 'Indicator Name', 'Indicator Code']\n",
    "long_world_gdp=world_gdp.melt(id_vars=other_columns, var_name='year', value_name='gdp')\n",
    "long_world_gdp_2019=long_world_gdp[long_world_gdp['year']=='2019']\n",
    "long_world_gdp_2019.head()"
   ]
  },
  {
   "cell_type": "code",
   "execution_count": 122,
   "id": "ae59c2d0",
   "metadata": {},
   "outputs": [
    {
     "data": {
      "text/plain": [
       "Index(['CUR', 'Currency', 'VAR', 'Variable', 'OWN', 'Ownership', 'IVTYP',\n",
       "       'Investment Type', 'ITYP', 'Insurance Type', 'DEST', 'Destination',\n",
       "       'TYP', 'Insurer type', 'COU', 'Country', 'YEA', 'Year', 'Unit Code',\n",
       "       'Unit', 'PowerCode Code', 'PowerCode', 'Reference Period Code',\n",
       "       'Reference Period', 'Value', 'Flag Codes', 'Flags', 'Country Name',\n",
       "       'Country Code', 'Indicator Name', 'Indicator Code', 'year', 'gdp'],\n",
       "      dtype='object')"
      ]
     },
     "execution_count": 122,
     "metadata": {},
     "output_type": "execute_result"
    }
   ],
   "source": [
    "insurance_gdp=pd.merge(total_insurance_per_country_2019, long_world_gdp_2019, \n",
    "                              left_on='COU', right_on='Country Code', how='left')\n",
    "insurance_gdp.columns"
   ]
  },
  {
   "cell_type": "code",
   "execution_count": 123,
   "id": "7984a145",
   "metadata": {},
   "outputs": [
    {
     "data": {
      "text/html": [
       "<div>\n",
       "<style scoped>\n",
       "    .dataframe tbody tr th:only-of-type {\n",
       "        vertical-align: middle;\n",
       "    }\n",
       "\n",
       "    .dataframe tbody tr th {\n",
       "        vertical-align: top;\n",
       "    }\n",
       "\n",
       "    .dataframe thead th {\n",
       "        text-align: right;\n",
       "    }\n",
       "</style>\n",
       "<table border=\"1\" class=\"dataframe\">\n",
       "  <thead>\n",
       "    <tr style=\"text-align: right;\">\n",
       "      <th></th>\n",
       "      <th>CUR</th>\n",
       "      <th>Currency</th>\n",
       "      <th>VAR</th>\n",
       "      <th>Variable</th>\n",
       "      <th>OWN</th>\n",
       "      <th>Ownership</th>\n",
       "      <th>IVTYP</th>\n",
       "      <th>Investment Type</th>\n",
       "      <th>ITYP</th>\n",
       "      <th>Insurance Type</th>\n",
       "      <th>...</th>\n",
       "      <th>Value</th>\n",
       "      <th>Flag Codes</th>\n",
       "      <th>Flags</th>\n",
       "      <th>Country Name</th>\n",
       "      <th>Country Code</th>\n",
       "      <th>Indicator Name</th>\n",
       "      <th>Indicator Code</th>\n",
       "      <th>year</th>\n",
       "      <th>gdp</th>\n",
       "      <th>volume_gdp_ratio</th>\n",
       "    </tr>\n",
       "  </thead>\n",
       "  <tbody>\n",
       "    <tr>\n",
       "      <th>0</th>\n",
       "      <td>USD</td>\n",
       "      <td>US Dollars (millions)</td>\n",
       "      <td>OFI</td>\n",
       "      <td>Outstanding figures of investments by direct i...</td>\n",
       "      <td>TOT</td>\n",
       "      <td>All undertakings (=1+3)</td>\n",
       "      <td>TOT</td>\n",
       "      <td>TOTAL INVESTMENTS</td>\n",
       "      <td>TOT</td>\n",
       "      <td>Total</td>\n",
       "      <td>...</td>\n",
       "      <td>148784.948</td>\n",
       "      <td>NaN</td>\n",
       "      <td>NaN</td>\n",
       "      <td>Australia</td>\n",
       "      <td>AUS</td>\n",
       "      <td>GDP (current US$)</td>\n",
       "      <td>NY.GDP.MKTP.CD</td>\n",
       "      <td>2019</td>\n",
       "      <td>1.396567e+12</td>\n",
       "      <td>0.000011</td>\n",
       "    </tr>\n",
       "  </tbody>\n",
       "</table>\n",
       "<p>1 rows × 34 columns</p>\n",
       "</div>"
      ],
      "text/plain": [
       "   CUR               Currency  VAR  \\\n",
       "0  USD  US Dollars (millions)  OFI   \n",
       "\n",
       "                                            Variable  OWN  \\\n",
       "0  Outstanding figures of investments by direct i...  TOT   \n",
       "\n",
       "                 Ownership IVTYP    Investment Type ITYP Insurance Type  ...  \\\n",
       "0  All undertakings (=1+3)   TOT  TOTAL INVESTMENTS  TOT          Total  ...   \n",
       "\n",
       "        Value Flag Codes Flags Country Name Country Code     Indicator Name  \\\n",
       "0  148784.948        NaN   NaN    Australia          AUS  GDP (current US$)   \n",
       "\n",
       "   Indicator Code  year           gdp volume_gdp_ratio  \n",
       "0  NY.GDP.MKTP.CD  2019  1.396567e+12         0.000011  \n",
       "\n",
       "[1 rows x 34 columns]"
      ]
     },
     "execution_count": 123,
     "metadata": {},
     "output_type": "execute_result"
    }
   ],
   "source": [
    "insurance_gdp['volume_gdp_ratio']=insurance_gdp['Value']/insurance_gdp['gdp']*100\n",
    "insurance_gdp.head(1)"
   ]
  },
  {
   "cell_type": "code",
   "execution_count": 124,
   "id": "e7e1e0ec",
   "metadata": {},
   "outputs": [
    {
     "data": {
      "application/vnd.plotly.v1+json": {
       "config": {
        "linkText": "Export to plot.ly",
        "plotlyServerURL": "https://plot.ly",
        "showLink": false
       },
       "data": [
        {
         "colorbar": {
          "title": {
           "text": "%"
          }
         },
         "colorscale": [
          [
           0,
           "rgb(12,51,131)"
          ],
          [
           0.25,
           "rgb(10,136,186)"
          ],
          [
           0.5,
           "rgb(242,211,56)"
          ],
          [
           0.75,
           "rgb(242,143,56)"
          ],
          [
           1,
           "rgb(217,30,30)"
          ]
         ],
         "locationmode": "country names",
         "locations": [
          "Australia",
          "Austria",
          "Austria",
          "Austria",
          "Denmark",
          "Denmark",
          "Denmark",
          "Finland",
          "Finland",
          "Finland",
          "Germany",
          "Greece",
          "Greece",
          "Greece",
          "Hungary",
          "Iceland",
          "Italy",
          "Italy",
          "Italy",
          "Luxembourg",
          "Mexico",
          "Mexico",
          "New Zealand",
          "Norway",
          "Norway",
          "Norway",
          "Poland",
          "Poland",
          "Poland",
          "Portugal",
          "Portugal",
          "Portugal",
          "Spain",
          "Spain",
          "Spain",
          "Sweden",
          "Switzerland",
          "Turkey",
          "Turkey",
          "Turkey",
          "United Kingdom",
          "United Kingdom",
          "United Kingdom",
          "Chile",
          "Chile",
          "Chile",
          "Israel",
          "Israel",
          "Israel",
          "Slovenia",
          "Slovenia",
          "Slovenia",
          "Malaysia",
          "Malaysia",
          "Malaysia",
          "Russia",
          "Argentina",
          "Brazil",
          "Belgium",
          "Argentina",
          "Argentina",
          "Colombia",
          "Guatemala",
          "Costa Rica",
          "Guatemala",
          "Indonesia",
          "Costa Rica",
          "Indonesia",
          "Colombia",
          "Colombia",
          "Costa Rica",
          "Paraguay",
          "Uruguay",
          "Peru",
          "Uruguay",
          "Peru",
          "El Salvador",
          "Paraguay",
          "Peru",
          "Uruguay",
          "Paraguay",
          "Latvia",
          "Latvia",
          "Honduras",
          "Honduras",
          "Latvia",
          "Honduras",
          "Brazil",
          "Brazil",
          "Lithuania",
          "Lithuania",
          "Lithuania",
          "Ecuador",
          "Ecuador",
          "Ecuador",
          "Bolivia",
          "Bolivia",
          "Bolivia",
          "Chinese Taipei"
         ],
         "text": [
          "Australia",
          "Austria",
          "Austria",
          "Austria",
          "Denmark",
          "Denmark",
          "Denmark",
          "Finland",
          "Finland",
          "Finland",
          "Germany",
          "Greece",
          "Greece",
          "Greece",
          "Hungary",
          "Iceland",
          "Italy",
          "Italy",
          "Italy",
          "Luxembourg",
          "Mexico",
          "Mexico",
          "New Zealand",
          "Norway",
          "Norway",
          "Norway",
          "Poland",
          "Poland",
          "Poland",
          "Portugal",
          "Portugal",
          "Portugal",
          "Spain",
          "Spain",
          "Spain",
          "Sweden",
          "Switzerland",
          "Turkey",
          "Turkey",
          "Turkey",
          "United Kingdom",
          "United Kingdom",
          "United Kingdom",
          "Chile",
          "Chile",
          "Chile",
          "Israel",
          "Israel",
          "Israel",
          "Slovenia",
          "Slovenia",
          "Slovenia",
          "Malaysia",
          "Malaysia",
          "Malaysia",
          "Russia",
          "Argentina",
          "Brazil",
          "Belgium",
          "Argentina",
          "Argentina",
          "Colombia",
          "Guatemala",
          "Costa Rica",
          "Guatemala",
          "Indonesia",
          "Costa Rica",
          "Indonesia",
          "Colombia",
          "Colombia",
          "Costa Rica",
          "Paraguay",
          "Uruguay",
          "Peru",
          "Uruguay",
          "Peru",
          "El Salvador",
          "Paraguay",
          "Peru",
          "Uruguay",
          "Paraguay",
          "Latvia",
          "Latvia",
          "Honduras",
          "Honduras",
          "Latvia",
          "Honduras",
          "Brazil",
          "Brazil",
          "Lithuania",
          "Lithuania",
          "Lithuania",
          "Ecuador",
          "Ecuador",
          "Ecuador",
          "Bolivia",
          "Bolivia",
          "Bolivia",
          "Chinese Taipei"
         ],
         "type": "choropleth",
         "z": [
          1.0653620372698024e-05,
          0,
          0,
          3.178462562565545e-05,
          0.0001456163559614793,
          1.4279403609297618e-05,
          0.00015989575957077695,
          1.8549715914124917e-05,
          1.210125447453659e-05,
          3.065180581003644e-05,
          5.4820135413509216e-05,
          9.581397668120534e-06,
          0,
          9.581397668120534e-06,
          6.0672559793035664e-06,
          4.868498153343873e-06,
          2.279812682287472e-05,
          1.6183890427865953e-05,
          4.839585657031628e-05,
          0.0003846691894607383,
          5.620704908295595e-06,
          5.620704908295595e-06,
          5.464747814232358e-06,
          3.3454206554708886e-05,
          1.868529678676235e-05,
          5.213950358807429e-05,
          7.2466664597847294e-06,
          7.442267426110419e-07,
          7.990893034571701e-06,
          9.304011219108219e-06,
          1.48228323341948e-05,
          2.4058027023947186e-05,
          1.7161712102978327e-05,
          8.118767871719954e-06,
          2.5280479974698284e-05,
          0.00010846021363047467,
          6.153907132350255e-05,
          7.326684409441146e-07,
          9.755356003677902e-07,
          1.7082040413119048e-06,
          7.545688563214967e-05,
          1.7960568529456923e-07,
          7.563649131744423e-05,
          1.8907117009574685e-05,
          3.6231849750725193e-06,
          2.2530301984647205e-05,
          3.423653636171231e-05,
          6.8092498646768e-06,
          4.104578622638911e-05,
          5.245787787237804e-06,
          9.727424389374912e-06,
          1.4973212176612716e-05,
          2.17854675542472e-05,
          2.4597088852423108e-08,
          2.1810064368887637e-05,
          2.4212913984266284e-06,
          1.52492390617885e-08,
          1.7544368694184522e-09,
          7.052950931091091e-05,
          3.54488471287521e-06,
          3.5296354738134217e-06,
          5.8596987008372446e-06,
          1.2626159543828969e-06,
          5.16678409133402e-06,
          1.2626159543828969e-06,
          3.858998151384937e-06,
          5.7441344690849085e-06,
          3.858998151384937e-06,
          5.563420269936016e-06,
          2.9627812171520796e-07,
          5.773503777508884e-07,
          8.212294807707466e-07,
          5.165508088886711e-07,
          0,
          7.235305900085154e-06,
          6.029090714815948e-06,
          2.134149742012577e-06,
          0,
          6.029090714815948e-06,
          7.751855075818147e-06,
          0,
          3.5688457412074822e-06,
          4.224743413609584e-06,
          0,
          2.634366709073422e-06,
          6.558976724021025e-07,
          0,
          1.4714168224200823e-05,
          1.4715922661070241e-05,
          2.410522466537673e-06,
          1.4130725934841107e-06,
          9.974498730535619e-07,
          0,
          9.92666510027023e-07,
          9.92666510027023e-07,
          3.4076023927708026e-07,
          1.2766863386872376e-06,
          1.617446577964318e-06,
          null
         ]
        }
       ],
       "layout": {
        "geo": {
         "projection": {
          "type": "mercator"
         },
         "showframe": false
        },
        "template": {
         "data": {
          "bar": [
           {
            "error_x": {
             "color": "#2a3f5f"
            },
            "error_y": {
             "color": "#2a3f5f"
            },
            "marker": {
             "line": {
              "color": "#E5ECF6",
              "width": 0.5
             },
             "pattern": {
              "fillmode": "overlay",
              "size": 10,
              "solidity": 0.2
             }
            },
            "type": "bar"
           }
          ],
          "barpolar": [
           {
            "marker": {
             "line": {
              "color": "#E5ECF6",
              "width": 0.5
             },
             "pattern": {
              "fillmode": "overlay",
              "size": 10,
              "solidity": 0.2
             }
            },
            "type": "barpolar"
           }
          ],
          "carpet": [
           {
            "aaxis": {
             "endlinecolor": "#2a3f5f",
             "gridcolor": "white",
             "linecolor": "white",
             "minorgridcolor": "white",
             "startlinecolor": "#2a3f5f"
            },
            "baxis": {
             "endlinecolor": "#2a3f5f",
             "gridcolor": "white",
             "linecolor": "white",
             "minorgridcolor": "white",
             "startlinecolor": "#2a3f5f"
            },
            "type": "carpet"
           }
          ],
          "choropleth": [
           {
            "colorbar": {
             "outlinewidth": 0,
             "ticks": ""
            },
            "type": "choropleth"
           }
          ],
          "contour": [
           {
            "colorbar": {
             "outlinewidth": 0,
             "ticks": ""
            },
            "colorscale": [
             [
              0,
              "#0d0887"
             ],
             [
              0.1111111111111111,
              "#46039f"
             ],
             [
              0.2222222222222222,
              "#7201a8"
             ],
             [
              0.3333333333333333,
              "#9c179e"
             ],
             [
              0.4444444444444444,
              "#bd3786"
             ],
             [
              0.5555555555555556,
              "#d8576b"
             ],
             [
              0.6666666666666666,
              "#ed7953"
             ],
             [
              0.7777777777777778,
              "#fb9f3a"
             ],
             [
              0.8888888888888888,
              "#fdca26"
             ],
             [
              1,
              "#f0f921"
             ]
            ],
            "type": "contour"
           }
          ],
          "contourcarpet": [
           {
            "colorbar": {
             "outlinewidth": 0,
             "ticks": ""
            },
            "type": "contourcarpet"
           }
          ],
          "heatmap": [
           {
            "colorbar": {
             "outlinewidth": 0,
             "ticks": ""
            },
            "colorscale": [
             [
              0,
              "#0d0887"
             ],
             [
              0.1111111111111111,
              "#46039f"
             ],
             [
              0.2222222222222222,
              "#7201a8"
             ],
             [
              0.3333333333333333,
              "#9c179e"
             ],
             [
              0.4444444444444444,
              "#bd3786"
             ],
             [
              0.5555555555555556,
              "#d8576b"
             ],
             [
              0.6666666666666666,
              "#ed7953"
             ],
             [
              0.7777777777777778,
              "#fb9f3a"
             ],
             [
              0.8888888888888888,
              "#fdca26"
             ],
             [
              1,
              "#f0f921"
             ]
            ],
            "type": "heatmap"
           }
          ],
          "heatmapgl": [
           {
            "colorbar": {
             "outlinewidth": 0,
             "ticks": ""
            },
            "colorscale": [
             [
              0,
              "#0d0887"
             ],
             [
              0.1111111111111111,
              "#46039f"
             ],
             [
              0.2222222222222222,
              "#7201a8"
             ],
             [
              0.3333333333333333,
              "#9c179e"
             ],
             [
              0.4444444444444444,
              "#bd3786"
             ],
             [
              0.5555555555555556,
              "#d8576b"
             ],
             [
              0.6666666666666666,
              "#ed7953"
             ],
             [
              0.7777777777777778,
              "#fb9f3a"
             ],
             [
              0.8888888888888888,
              "#fdca26"
             ],
             [
              1,
              "#f0f921"
             ]
            ],
            "type": "heatmapgl"
           }
          ],
          "histogram": [
           {
            "marker": {
             "pattern": {
              "fillmode": "overlay",
              "size": 10,
              "solidity": 0.2
             }
            },
            "type": "histogram"
           }
          ],
          "histogram2d": [
           {
            "colorbar": {
             "outlinewidth": 0,
             "ticks": ""
            },
            "colorscale": [
             [
              0,
              "#0d0887"
             ],
             [
              0.1111111111111111,
              "#46039f"
             ],
             [
              0.2222222222222222,
              "#7201a8"
             ],
             [
              0.3333333333333333,
              "#9c179e"
             ],
             [
              0.4444444444444444,
              "#bd3786"
             ],
             [
              0.5555555555555556,
              "#d8576b"
             ],
             [
              0.6666666666666666,
              "#ed7953"
             ],
             [
              0.7777777777777778,
              "#fb9f3a"
             ],
             [
              0.8888888888888888,
              "#fdca26"
             ],
             [
              1,
              "#f0f921"
             ]
            ],
            "type": "histogram2d"
           }
          ],
          "histogram2dcontour": [
           {
            "colorbar": {
             "outlinewidth": 0,
             "ticks": ""
            },
            "colorscale": [
             [
              0,
              "#0d0887"
             ],
             [
              0.1111111111111111,
              "#46039f"
             ],
             [
              0.2222222222222222,
              "#7201a8"
             ],
             [
              0.3333333333333333,
              "#9c179e"
             ],
             [
              0.4444444444444444,
              "#bd3786"
             ],
             [
              0.5555555555555556,
              "#d8576b"
             ],
             [
              0.6666666666666666,
              "#ed7953"
             ],
             [
              0.7777777777777778,
              "#fb9f3a"
             ],
             [
              0.8888888888888888,
              "#fdca26"
             ],
             [
              1,
              "#f0f921"
             ]
            ],
            "type": "histogram2dcontour"
           }
          ],
          "mesh3d": [
           {
            "colorbar": {
             "outlinewidth": 0,
             "ticks": ""
            },
            "type": "mesh3d"
           }
          ],
          "parcoords": [
           {
            "line": {
             "colorbar": {
              "outlinewidth": 0,
              "ticks": ""
             }
            },
            "type": "parcoords"
           }
          ],
          "pie": [
           {
            "automargin": true,
            "type": "pie"
           }
          ],
          "scatter": [
           {
            "marker": {
             "colorbar": {
              "outlinewidth": 0,
              "ticks": ""
             }
            },
            "type": "scatter"
           }
          ],
          "scatter3d": [
           {
            "line": {
             "colorbar": {
              "outlinewidth": 0,
              "ticks": ""
             }
            },
            "marker": {
             "colorbar": {
              "outlinewidth": 0,
              "ticks": ""
             }
            },
            "type": "scatter3d"
           }
          ],
          "scattercarpet": [
           {
            "marker": {
             "colorbar": {
              "outlinewidth": 0,
              "ticks": ""
             }
            },
            "type": "scattercarpet"
           }
          ],
          "scattergeo": [
           {
            "marker": {
             "colorbar": {
              "outlinewidth": 0,
              "ticks": ""
             }
            },
            "type": "scattergeo"
           }
          ],
          "scattergl": [
           {
            "marker": {
             "colorbar": {
              "outlinewidth": 0,
              "ticks": ""
             }
            },
            "type": "scattergl"
           }
          ],
          "scattermapbox": [
           {
            "marker": {
             "colorbar": {
              "outlinewidth": 0,
              "ticks": ""
             }
            },
            "type": "scattermapbox"
           }
          ],
          "scatterpolar": [
           {
            "marker": {
             "colorbar": {
              "outlinewidth": 0,
              "ticks": ""
             }
            },
            "type": "scatterpolar"
           }
          ],
          "scatterpolargl": [
           {
            "marker": {
             "colorbar": {
              "outlinewidth": 0,
              "ticks": ""
             }
            },
            "type": "scatterpolargl"
           }
          ],
          "scatterternary": [
           {
            "marker": {
             "colorbar": {
              "outlinewidth": 0,
              "ticks": ""
             }
            },
            "type": "scatterternary"
           }
          ],
          "surface": [
           {
            "colorbar": {
             "outlinewidth": 0,
             "ticks": ""
            },
            "colorscale": [
             [
              0,
              "#0d0887"
             ],
             [
              0.1111111111111111,
              "#46039f"
             ],
             [
              0.2222222222222222,
              "#7201a8"
             ],
             [
              0.3333333333333333,
              "#9c179e"
             ],
             [
              0.4444444444444444,
              "#bd3786"
             ],
             [
              0.5555555555555556,
              "#d8576b"
             ],
             [
              0.6666666666666666,
              "#ed7953"
             ],
             [
              0.7777777777777778,
              "#fb9f3a"
             ],
             [
              0.8888888888888888,
              "#fdca26"
             ],
             [
              1,
              "#f0f921"
             ]
            ],
            "type": "surface"
           }
          ],
          "table": [
           {
            "cells": {
             "fill": {
              "color": "#EBF0F8"
             },
             "line": {
              "color": "white"
             }
            },
            "header": {
             "fill": {
              "color": "#C8D4E3"
             },
             "line": {
              "color": "white"
             }
            },
            "type": "table"
           }
          ]
         },
         "layout": {
          "annotationdefaults": {
           "arrowcolor": "#2a3f5f",
           "arrowhead": 0,
           "arrowwidth": 1
          },
          "autotypenumbers": "strict",
          "coloraxis": {
           "colorbar": {
            "outlinewidth": 0,
            "ticks": ""
           }
          },
          "colorscale": {
           "diverging": [
            [
             0,
             "#8e0152"
            ],
            [
             0.1,
             "#c51b7d"
            ],
            [
             0.2,
             "#de77ae"
            ],
            [
             0.3,
             "#f1b6da"
            ],
            [
             0.4,
             "#fde0ef"
            ],
            [
             0.5,
             "#f7f7f7"
            ],
            [
             0.6,
             "#e6f5d0"
            ],
            [
             0.7,
             "#b8e186"
            ],
            [
             0.8,
             "#7fbc41"
            ],
            [
             0.9,
             "#4d9221"
            ],
            [
             1,
             "#276419"
            ]
           ],
           "sequential": [
            [
             0,
             "#0d0887"
            ],
            [
             0.1111111111111111,
             "#46039f"
            ],
            [
             0.2222222222222222,
             "#7201a8"
            ],
            [
             0.3333333333333333,
             "#9c179e"
            ],
            [
             0.4444444444444444,
             "#bd3786"
            ],
            [
             0.5555555555555556,
             "#d8576b"
            ],
            [
             0.6666666666666666,
             "#ed7953"
            ],
            [
             0.7777777777777778,
             "#fb9f3a"
            ],
            [
             0.8888888888888888,
             "#fdca26"
            ],
            [
             1,
             "#f0f921"
            ]
           ],
           "sequentialminus": [
            [
             0,
             "#0d0887"
            ],
            [
             0.1111111111111111,
             "#46039f"
            ],
            [
             0.2222222222222222,
             "#7201a8"
            ],
            [
             0.3333333333333333,
             "#9c179e"
            ],
            [
             0.4444444444444444,
             "#bd3786"
            ],
            [
             0.5555555555555556,
             "#d8576b"
            ],
            [
             0.6666666666666666,
             "#ed7953"
            ],
            [
             0.7777777777777778,
             "#fb9f3a"
            ],
            [
             0.8888888888888888,
             "#fdca26"
            ],
            [
             1,
             "#f0f921"
            ]
           ]
          },
          "colorway": [
           "#636efa",
           "#EF553B",
           "#00cc96",
           "#ab63fa",
           "#FFA15A",
           "#19d3f3",
           "#FF6692",
           "#B6E880",
           "#FF97FF",
           "#FECB52"
          ],
          "font": {
           "color": "#2a3f5f"
          },
          "geo": {
           "bgcolor": "white",
           "lakecolor": "white",
           "landcolor": "#E5ECF6",
           "showlakes": true,
           "showland": true,
           "subunitcolor": "white"
          },
          "hoverlabel": {
           "align": "left"
          },
          "hovermode": "closest",
          "mapbox": {
           "style": "light"
          },
          "paper_bgcolor": "white",
          "plot_bgcolor": "#E5ECF6",
          "polar": {
           "angularaxis": {
            "gridcolor": "white",
            "linecolor": "white",
            "ticks": ""
           },
           "bgcolor": "#E5ECF6",
           "radialaxis": {
            "gridcolor": "white",
            "linecolor": "white",
            "ticks": ""
           }
          },
          "scene": {
           "xaxis": {
            "backgroundcolor": "#E5ECF6",
            "gridcolor": "white",
            "gridwidth": 2,
            "linecolor": "white",
            "showbackground": true,
            "ticks": "",
            "zerolinecolor": "white"
           },
           "yaxis": {
            "backgroundcolor": "#E5ECF6",
            "gridcolor": "white",
            "gridwidth": 2,
            "linecolor": "white",
            "showbackground": true,
            "ticks": "",
            "zerolinecolor": "white"
           },
           "zaxis": {
            "backgroundcolor": "#E5ECF6",
            "gridcolor": "white",
            "gridwidth": 2,
            "linecolor": "white",
            "showbackground": true,
            "ticks": "",
            "zerolinecolor": "white"
           }
          },
          "shapedefaults": {
           "line": {
            "color": "#2a3f5f"
           }
          },
          "ternary": {
           "aaxis": {
            "gridcolor": "white",
            "linecolor": "white",
            "ticks": ""
           },
           "baxis": {
            "gridcolor": "white",
            "linecolor": "white",
            "ticks": ""
           },
           "bgcolor": "#E5ECF6",
           "caxis": {
            "gridcolor": "white",
            "linecolor": "white",
            "ticks": ""
           }
          },
          "title": {
           "x": 0.05
          },
          "xaxis": {
           "automargin": true,
           "gridcolor": "white",
           "linecolor": "white",
           "ticks": "",
           "title": {
            "standoff": 15
           },
           "zerolinecolor": "white",
           "zerolinewidth": 2
          },
          "yaxis": {
           "automargin": true,
           "gridcolor": "white",
           "linecolor": "white",
           "ticks": "",
           "title": {
            "standoff": 15
           },
           "zerolinecolor": "white",
           "zerolinewidth": 2
          }
         }
        },
        "title": {
         "text": "Insurance (both life and non-life) Volume GDP ratio in USD in 2019"
        }
       }
      },
      "text/html": [
       "<div>                            <div id=\"ee3046fc-df09-4973-a717-2fcb4c961385\" class=\"plotly-graph-div\" style=\"height:525px; width:100%;\"></div>            <script type=\"text/javascript\">                require([\"plotly\"], function(Plotly) {                    window.PLOTLYENV=window.PLOTLYENV || {};                                    if (document.getElementById(\"ee3046fc-df09-4973-a717-2fcb4c961385\")) {                    Plotly.newPlot(                        \"ee3046fc-df09-4973-a717-2fcb4c961385\",                        [{\"colorbar\":{\"title\":{\"text\":\"%\"}},\"colorscale\":[[0.0,\"rgb(12,51,131)\"],[0.25,\"rgb(10,136,186)\"],[0.5,\"rgb(242,211,56)\"],[0.75,\"rgb(242,143,56)\"],[1.0,\"rgb(217,30,30)\"]],\"locationmode\":\"country names\",\"locations\":[\"Australia\",\"Austria\",\"Austria\",\"Austria\",\"Denmark\",\"Denmark\",\"Denmark\",\"Finland\",\"Finland\",\"Finland\",\"Germany\",\"Greece\",\"Greece\",\"Greece\",\"Hungary\",\"Iceland\",\"Italy\",\"Italy\",\"Italy\",\"Luxembourg\",\"Mexico\",\"Mexico\",\"New Zealand\",\"Norway\",\"Norway\",\"Norway\",\"Poland\",\"Poland\",\"Poland\",\"Portugal\",\"Portugal\",\"Portugal\",\"Spain\",\"Spain\",\"Spain\",\"Sweden\",\"Switzerland\",\"Turkey\",\"Turkey\",\"Turkey\",\"United Kingdom\",\"United Kingdom\",\"United Kingdom\",\"Chile\",\"Chile\",\"Chile\",\"Israel\",\"Israel\",\"Israel\",\"Slovenia\",\"Slovenia\",\"Slovenia\",\"Malaysia\",\"Malaysia\",\"Malaysia\",\"Russia\",\"Argentina\",\"Brazil\",\"Belgium\",\"Argentina\",\"Argentina\",\"Colombia\",\"Guatemala\",\"Costa Rica\",\"Guatemala\",\"Indonesia\",\"Costa Rica\",\"Indonesia\",\"Colombia\",\"Colombia\",\"Costa Rica\",\"Paraguay\",\"Uruguay\",\"Peru\",\"Uruguay\",\"Peru\",\"El Salvador\",\"Paraguay\",\"Peru\",\"Uruguay\",\"Paraguay\",\"Latvia\",\"Latvia\",\"Honduras\",\"Honduras\",\"Latvia\",\"Honduras\",\"Brazil\",\"Brazil\",\"Lithuania\",\"Lithuania\",\"Lithuania\",\"Ecuador\",\"Ecuador\",\"Ecuador\",\"Bolivia\",\"Bolivia\",\"Bolivia\",\"Chinese Taipei\"],\"text\":[\"Australia\",\"Austria\",\"Austria\",\"Austria\",\"Denmark\",\"Denmark\",\"Denmark\",\"Finland\",\"Finland\",\"Finland\",\"Germany\",\"Greece\",\"Greece\",\"Greece\",\"Hungary\",\"Iceland\",\"Italy\",\"Italy\",\"Italy\",\"Luxembourg\",\"Mexico\",\"Mexico\",\"New Zealand\",\"Norway\",\"Norway\",\"Norway\",\"Poland\",\"Poland\",\"Poland\",\"Portugal\",\"Portugal\",\"Portugal\",\"Spain\",\"Spain\",\"Spain\",\"Sweden\",\"Switzerland\",\"Turkey\",\"Turkey\",\"Turkey\",\"United Kingdom\",\"United Kingdom\",\"United Kingdom\",\"Chile\",\"Chile\",\"Chile\",\"Israel\",\"Israel\",\"Israel\",\"Slovenia\",\"Slovenia\",\"Slovenia\",\"Malaysia\",\"Malaysia\",\"Malaysia\",\"Russia\",\"Argentina\",\"Brazil\",\"Belgium\",\"Argentina\",\"Argentina\",\"Colombia\",\"Guatemala\",\"Costa Rica\",\"Guatemala\",\"Indonesia\",\"Costa Rica\",\"Indonesia\",\"Colombia\",\"Colombia\",\"Costa Rica\",\"Paraguay\",\"Uruguay\",\"Peru\",\"Uruguay\",\"Peru\",\"El Salvador\",\"Paraguay\",\"Peru\",\"Uruguay\",\"Paraguay\",\"Latvia\",\"Latvia\",\"Honduras\",\"Honduras\",\"Latvia\",\"Honduras\",\"Brazil\",\"Brazil\",\"Lithuania\",\"Lithuania\",\"Lithuania\",\"Ecuador\",\"Ecuador\",\"Ecuador\",\"Bolivia\",\"Bolivia\",\"Bolivia\",\"Chinese Taipei\"],\"type\":\"choropleth\",\"z\":[1.0653620372698024e-05,0.0,0.0,3.178462562565545e-05,0.0001456163559614793,1.4279403609297618e-05,0.00015989575957077695,1.8549715914124917e-05,1.210125447453659e-05,3.065180581003644e-05,5.4820135413509216e-05,9.581397668120534e-06,0.0,9.581397668120534e-06,6.0672559793035664e-06,4.868498153343873e-06,2.279812682287472e-05,1.6183890427865953e-05,4.839585657031628e-05,0.0003846691894607383,5.620704908295595e-06,5.620704908295595e-06,5.464747814232358e-06,3.3454206554708886e-05,1.868529678676235e-05,5.213950358807429e-05,7.2466664597847294e-06,7.442267426110419e-07,7.990893034571701e-06,9.304011219108219e-06,1.48228323341948e-05,2.4058027023947186e-05,1.7161712102978327e-05,8.118767871719954e-06,2.5280479974698284e-05,0.00010846021363047467,6.153907132350255e-05,7.326684409441146e-07,9.755356003677902e-07,1.7082040413119048e-06,7.545688563214967e-05,1.7960568529456923e-07,7.563649131744423e-05,1.8907117009574685e-05,3.6231849750725193e-06,2.2530301984647205e-05,3.423653636171231e-05,6.8092498646768e-06,4.104578622638911e-05,5.245787787237804e-06,9.727424389374912e-06,1.4973212176612716e-05,2.17854675542472e-05,2.4597088852423108e-08,2.1810064368887637e-05,2.4212913984266284e-06,1.52492390617885e-08,1.7544368694184522e-09,7.052950931091091e-05,3.54488471287521e-06,3.5296354738134217e-06,5.8596987008372446e-06,1.2626159543828969e-06,5.16678409133402e-06,1.2626159543828969e-06,3.858998151384937e-06,5.7441344690849085e-06,3.858998151384937e-06,5.563420269936016e-06,2.9627812171520796e-07,5.773503777508884e-07,8.212294807707466e-07,5.165508088886711e-07,0.0,7.235305900085154e-06,6.029090714815948e-06,2.134149742012577e-06,0.0,6.029090714815948e-06,7.751855075818147e-06,0.0,3.5688457412074822e-06,4.224743413609584e-06,0.0,2.634366709073422e-06,6.558976724021025e-07,0.0,1.4714168224200823e-05,1.4715922661070241e-05,2.410522466537673e-06,1.4130725934841107e-06,9.974498730535619e-07,0.0,9.92666510027023e-07,9.92666510027023e-07,3.4076023927708026e-07,1.2766863386872376e-06,1.617446577964318e-06,null]}],                        {\"geo\":{\"projection\":{\"type\":\"mercator\"},\"showframe\":false},\"template\":{\"data\":{\"bar\":[{\"error_x\":{\"color\":\"#2a3f5f\"},\"error_y\":{\"color\":\"#2a3f5f\"},\"marker\":{\"line\":{\"color\":\"#E5ECF6\",\"width\":0.5},\"pattern\":{\"fillmode\":\"overlay\",\"size\":10,\"solidity\":0.2}},\"type\":\"bar\"}],\"barpolar\":[{\"marker\":{\"line\":{\"color\":\"#E5ECF6\",\"width\":0.5},\"pattern\":{\"fillmode\":\"overlay\",\"size\":10,\"solidity\":0.2}},\"type\":\"barpolar\"}],\"carpet\":[{\"aaxis\":{\"endlinecolor\":\"#2a3f5f\",\"gridcolor\":\"white\",\"linecolor\":\"white\",\"minorgridcolor\":\"white\",\"startlinecolor\":\"#2a3f5f\"},\"baxis\":{\"endlinecolor\":\"#2a3f5f\",\"gridcolor\":\"white\",\"linecolor\":\"white\",\"minorgridcolor\":\"white\",\"startlinecolor\":\"#2a3f5f\"},\"type\":\"carpet\"}],\"choropleth\":[{\"colorbar\":{\"outlinewidth\":0,\"ticks\":\"\"},\"type\":\"choropleth\"}],\"contour\":[{\"colorbar\":{\"outlinewidth\":0,\"ticks\":\"\"},\"colorscale\":[[0.0,\"#0d0887\"],[0.1111111111111111,\"#46039f\"],[0.2222222222222222,\"#7201a8\"],[0.3333333333333333,\"#9c179e\"],[0.4444444444444444,\"#bd3786\"],[0.5555555555555556,\"#d8576b\"],[0.6666666666666666,\"#ed7953\"],[0.7777777777777778,\"#fb9f3a\"],[0.8888888888888888,\"#fdca26\"],[1.0,\"#f0f921\"]],\"type\":\"contour\"}],\"contourcarpet\":[{\"colorbar\":{\"outlinewidth\":0,\"ticks\":\"\"},\"type\":\"contourcarpet\"}],\"heatmap\":[{\"colorbar\":{\"outlinewidth\":0,\"ticks\":\"\"},\"colorscale\":[[0.0,\"#0d0887\"],[0.1111111111111111,\"#46039f\"],[0.2222222222222222,\"#7201a8\"],[0.3333333333333333,\"#9c179e\"],[0.4444444444444444,\"#bd3786\"],[0.5555555555555556,\"#d8576b\"],[0.6666666666666666,\"#ed7953\"],[0.7777777777777778,\"#fb9f3a\"],[0.8888888888888888,\"#fdca26\"],[1.0,\"#f0f921\"]],\"type\":\"heatmap\"}],\"heatmapgl\":[{\"colorbar\":{\"outlinewidth\":0,\"ticks\":\"\"},\"colorscale\":[[0.0,\"#0d0887\"],[0.1111111111111111,\"#46039f\"],[0.2222222222222222,\"#7201a8\"],[0.3333333333333333,\"#9c179e\"],[0.4444444444444444,\"#bd3786\"],[0.5555555555555556,\"#d8576b\"],[0.6666666666666666,\"#ed7953\"],[0.7777777777777778,\"#fb9f3a\"],[0.8888888888888888,\"#fdca26\"],[1.0,\"#f0f921\"]],\"type\":\"heatmapgl\"}],\"histogram\":[{\"marker\":{\"pattern\":{\"fillmode\":\"overlay\",\"size\":10,\"solidity\":0.2}},\"type\":\"histogram\"}],\"histogram2d\":[{\"colorbar\":{\"outlinewidth\":0,\"ticks\":\"\"},\"colorscale\":[[0.0,\"#0d0887\"],[0.1111111111111111,\"#46039f\"],[0.2222222222222222,\"#7201a8\"],[0.3333333333333333,\"#9c179e\"],[0.4444444444444444,\"#bd3786\"],[0.5555555555555556,\"#d8576b\"],[0.6666666666666666,\"#ed7953\"],[0.7777777777777778,\"#fb9f3a\"],[0.8888888888888888,\"#fdca26\"],[1.0,\"#f0f921\"]],\"type\":\"histogram2d\"}],\"histogram2dcontour\":[{\"colorbar\":{\"outlinewidth\":0,\"ticks\":\"\"},\"colorscale\":[[0.0,\"#0d0887\"],[0.1111111111111111,\"#46039f\"],[0.2222222222222222,\"#7201a8\"],[0.3333333333333333,\"#9c179e\"],[0.4444444444444444,\"#bd3786\"],[0.5555555555555556,\"#d8576b\"],[0.6666666666666666,\"#ed7953\"],[0.7777777777777778,\"#fb9f3a\"],[0.8888888888888888,\"#fdca26\"],[1.0,\"#f0f921\"]],\"type\":\"histogram2dcontour\"}],\"mesh3d\":[{\"colorbar\":{\"outlinewidth\":0,\"ticks\":\"\"},\"type\":\"mesh3d\"}],\"parcoords\":[{\"line\":{\"colorbar\":{\"outlinewidth\":0,\"ticks\":\"\"}},\"type\":\"parcoords\"}],\"pie\":[{\"automargin\":true,\"type\":\"pie\"}],\"scatter\":[{\"marker\":{\"colorbar\":{\"outlinewidth\":0,\"ticks\":\"\"}},\"type\":\"scatter\"}],\"scatter3d\":[{\"line\":{\"colorbar\":{\"outlinewidth\":0,\"ticks\":\"\"}},\"marker\":{\"colorbar\":{\"outlinewidth\":0,\"ticks\":\"\"}},\"type\":\"scatter3d\"}],\"scattercarpet\":[{\"marker\":{\"colorbar\":{\"outlinewidth\":0,\"ticks\":\"\"}},\"type\":\"scattercarpet\"}],\"scattergeo\":[{\"marker\":{\"colorbar\":{\"outlinewidth\":0,\"ticks\":\"\"}},\"type\":\"scattergeo\"}],\"scattergl\":[{\"marker\":{\"colorbar\":{\"outlinewidth\":0,\"ticks\":\"\"}},\"type\":\"scattergl\"}],\"scattermapbox\":[{\"marker\":{\"colorbar\":{\"outlinewidth\":0,\"ticks\":\"\"}},\"type\":\"scattermapbox\"}],\"scatterpolar\":[{\"marker\":{\"colorbar\":{\"outlinewidth\":0,\"ticks\":\"\"}},\"type\":\"scatterpolar\"}],\"scatterpolargl\":[{\"marker\":{\"colorbar\":{\"outlinewidth\":0,\"ticks\":\"\"}},\"type\":\"scatterpolargl\"}],\"scatterternary\":[{\"marker\":{\"colorbar\":{\"outlinewidth\":0,\"ticks\":\"\"}},\"type\":\"scatterternary\"}],\"surface\":[{\"colorbar\":{\"outlinewidth\":0,\"ticks\":\"\"},\"colorscale\":[[0.0,\"#0d0887\"],[0.1111111111111111,\"#46039f\"],[0.2222222222222222,\"#7201a8\"],[0.3333333333333333,\"#9c179e\"],[0.4444444444444444,\"#bd3786\"],[0.5555555555555556,\"#d8576b\"],[0.6666666666666666,\"#ed7953\"],[0.7777777777777778,\"#fb9f3a\"],[0.8888888888888888,\"#fdca26\"],[1.0,\"#f0f921\"]],\"type\":\"surface\"}],\"table\":[{\"cells\":{\"fill\":{\"color\":\"#EBF0F8\"},\"line\":{\"color\":\"white\"}},\"header\":{\"fill\":{\"color\":\"#C8D4E3\"},\"line\":{\"color\":\"white\"}},\"type\":\"table\"}]},\"layout\":{\"annotationdefaults\":{\"arrowcolor\":\"#2a3f5f\",\"arrowhead\":0,\"arrowwidth\":1},\"autotypenumbers\":\"strict\",\"coloraxis\":{\"colorbar\":{\"outlinewidth\":0,\"ticks\":\"\"}},\"colorscale\":{\"diverging\":[[0,\"#8e0152\"],[0.1,\"#c51b7d\"],[0.2,\"#de77ae\"],[0.3,\"#f1b6da\"],[0.4,\"#fde0ef\"],[0.5,\"#f7f7f7\"],[0.6,\"#e6f5d0\"],[0.7,\"#b8e186\"],[0.8,\"#7fbc41\"],[0.9,\"#4d9221\"],[1,\"#276419\"]],\"sequential\":[[0.0,\"#0d0887\"],[0.1111111111111111,\"#46039f\"],[0.2222222222222222,\"#7201a8\"],[0.3333333333333333,\"#9c179e\"],[0.4444444444444444,\"#bd3786\"],[0.5555555555555556,\"#d8576b\"],[0.6666666666666666,\"#ed7953\"],[0.7777777777777778,\"#fb9f3a\"],[0.8888888888888888,\"#fdca26\"],[1.0,\"#f0f921\"]],\"sequentialminus\":[[0.0,\"#0d0887\"],[0.1111111111111111,\"#46039f\"],[0.2222222222222222,\"#7201a8\"],[0.3333333333333333,\"#9c179e\"],[0.4444444444444444,\"#bd3786\"],[0.5555555555555556,\"#d8576b\"],[0.6666666666666666,\"#ed7953\"],[0.7777777777777778,\"#fb9f3a\"],[0.8888888888888888,\"#fdca26\"],[1.0,\"#f0f921\"]]},\"colorway\":[\"#636efa\",\"#EF553B\",\"#00cc96\",\"#ab63fa\",\"#FFA15A\",\"#19d3f3\",\"#FF6692\",\"#B6E880\",\"#FF97FF\",\"#FECB52\"],\"font\":{\"color\":\"#2a3f5f\"},\"geo\":{\"bgcolor\":\"white\",\"lakecolor\":\"white\",\"landcolor\":\"#E5ECF6\",\"showlakes\":true,\"showland\":true,\"subunitcolor\":\"white\"},\"hoverlabel\":{\"align\":\"left\"},\"hovermode\":\"closest\",\"mapbox\":{\"style\":\"light\"},\"paper_bgcolor\":\"white\",\"plot_bgcolor\":\"#E5ECF6\",\"polar\":{\"angularaxis\":{\"gridcolor\":\"white\",\"linecolor\":\"white\",\"ticks\":\"\"},\"bgcolor\":\"#E5ECF6\",\"radialaxis\":{\"gridcolor\":\"white\",\"linecolor\":\"white\",\"ticks\":\"\"}},\"scene\":{\"xaxis\":{\"backgroundcolor\":\"#E5ECF6\",\"gridcolor\":\"white\",\"gridwidth\":2,\"linecolor\":\"white\",\"showbackground\":true,\"ticks\":\"\",\"zerolinecolor\":\"white\"},\"yaxis\":{\"backgroundcolor\":\"#E5ECF6\",\"gridcolor\":\"white\",\"gridwidth\":2,\"linecolor\":\"white\",\"showbackground\":true,\"ticks\":\"\",\"zerolinecolor\":\"white\"},\"zaxis\":{\"backgroundcolor\":\"#E5ECF6\",\"gridcolor\":\"white\",\"gridwidth\":2,\"linecolor\":\"white\",\"showbackground\":true,\"ticks\":\"\",\"zerolinecolor\":\"white\"}},\"shapedefaults\":{\"line\":{\"color\":\"#2a3f5f\"}},\"ternary\":{\"aaxis\":{\"gridcolor\":\"white\",\"linecolor\":\"white\",\"ticks\":\"\"},\"baxis\":{\"gridcolor\":\"white\",\"linecolor\":\"white\",\"ticks\":\"\"},\"bgcolor\":\"#E5ECF6\",\"caxis\":{\"gridcolor\":\"white\",\"linecolor\":\"white\",\"ticks\":\"\"}},\"title\":{\"x\":0.05},\"xaxis\":{\"automargin\":true,\"gridcolor\":\"white\",\"linecolor\":\"white\",\"ticks\":\"\",\"title\":{\"standoff\":15},\"zerolinecolor\":\"white\",\"zerolinewidth\":2},\"yaxis\":{\"automargin\":true,\"gridcolor\":\"white\",\"linecolor\":\"white\",\"ticks\":\"\",\"title\":{\"standoff\":15},\"zerolinecolor\":\"white\",\"zerolinewidth\":2}}},\"title\":{\"text\":\"Insurance (both life and non-life) Volume GDP ratio in USD in 2019\"}},                        {\"responsive\": true}                    ).then(function(){\n",
       "                            \n",
       "var gd = document.getElementById('ee3046fc-df09-4973-a717-2fcb4c961385');\n",
       "var x = new MutationObserver(function (mutations, observer) {{\n",
       "        var display = window.getComputedStyle(gd).display;\n",
       "        if (!display || display === 'none') {{\n",
       "            console.log([gd, 'removed!']);\n",
       "            Plotly.purge(gd);\n",
       "            observer.disconnect();\n",
       "        }}\n",
       "}});\n",
       "\n",
       "// Listen for the removal of the full notebook cells\n",
       "var notebookContainer = gd.closest('#notebook-container');\n",
       "if (notebookContainer) {{\n",
       "    x.observe(notebookContainer, {childList: true});\n",
       "}}\n",
       "\n",
       "// Listen for the clearing of the current output cell\n",
       "var outputEl = gd.closest('.output');\n",
       "if (outputEl) {{\n",
       "    x.observe(outputEl, {childList: true});\n",
       "}}\n",
       "\n",
       "                        })                };                });            </script>        </div>"
      ]
     },
     "metadata": {},
     "output_type": "display_data"
    }
   ],
   "source": [
    "data = dict(type = 'choropleth',\n",
    "            locations = insurance_gdp['Country'],\n",
    "            locationmode = 'country names',\n",
    "            colorscale= 'Portland',\n",
    "            text= insurance_gdp['Country'],\n",
    "            z=insurance_gdp['volume_gdp_ratio'],\n",
    "            colorbar = {'title':'%'})\n",
    "\n",
    "layout = dict(\n",
    "    title = 'Insurance (both life and non-life) Volume GDP ratio in USD in 2019',\n",
    "    geo = dict(\n",
    "        showframe = False,\n",
    "        projection = {'type':'mercator'}\n",
    "    )\n",
    ")\n",
    "\n",
    "choromap = go.Figure(data = [data],layout = layout)\n",
    "iplot(choromap, image_width=1200)"
   ]
  },
  {
   "cell_type": "code",
   "execution_count": 125,
   "id": "3103b9f7",
   "metadata": {},
   "outputs": [
    {
     "data": {
      "image/png": "[encoded data removed]",
      "text/plain": [
       "<Figure size 432x288 with 1 Axes>"
      ]
     },
     "metadata": {
      "needs_background": "light"
     },
     "output_type": "display_data"
    }
   ],
   "source": [
    "insurance_gdp['volume_gdp_ratio'].hist();"
   ]
  },
  {
   "cell_type": "code",
   "execution_count": 116,
   "id": "50019f6b",
   "metadata": {},
   "outputs": [
    {
     "data": {
      "text/html": [
       "<div>\n",
       "<style scoped>\n",
       "    .dataframe tbody tr th:only-of-type {\n",
       "        vertical-align: middle;\n",
       "    }\n",
       "\n",
       "    .dataframe tbody tr th {\n",
       "        vertical-align: top;\n",
       "    }\n",
       "\n",
       "    .dataframe thead th {\n",
       "        text-align: right;\n",
       "    }\n",
       "</style>\n",
       "<table border=\"1\" class=\"dataframe\">\n",
       "  <thead>\n",
       "    <tr style=\"text-align: right;\">\n",
       "      <th></th>\n",
       "      <th>CUR</th>\n",
       "      <th>Currency</th>\n",
       "      <th>VAR</th>\n",
       "      <th>Variable</th>\n",
       "      <th>OWN</th>\n",
       "      <th>Ownership</th>\n",
       "      <th>IVTYP</th>\n",
       "      <th>Investment Type</th>\n",
       "      <th>ITYP</th>\n",
       "      <th>Insurance Type</th>\n",
       "      <th>...</th>\n",
       "      <th>Value</th>\n",
       "      <th>Flag Codes</th>\n",
       "      <th>Flags</th>\n",
       "      <th>Country Name</th>\n",
       "      <th>Country Code</th>\n",
       "      <th>Indicator Name</th>\n",
       "      <th>Indicator Code</th>\n",
       "      <th>year</th>\n",
       "      <th>gdp</th>\n",
       "      <th>volume_gdp_ratio</th>\n",
       "    </tr>\n",
       "  </thead>\n",
       "  <tbody>\n",
       "    <tr>\n",
       "      <th>19</th>\n",
       "      <td>USD</td>\n",
       "      <td>US Dollars (millions)</td>\n",
       "      <td>OFI</td>\n",
       "      <td>Outstanding figures of investments by direct i...</td>\n",
       "      <td>TOT</td>\n",
       "      <td>All undertakings (=1+3)</td>\n",
       "      <td>TOT</td>\n",
       "      <td>TOTAL INVESTMENTS</td>\n",
       "      <td>TOT</td>\n",
       "      <td>Total</td>\n",
       "      <td>...</td>\n",
       "      <td>273518.716</td>\n",
       "      <td>NaN</td>\n",
       "      <td>NaN</td>\n",
       "      <td>Luxembourg</td>\n",
       "      <td>LUX</td>\n",
       "      <td>GDP (current US$)</td>\n",
       "      <td>NY.GDP.MKTP.CD</td>\n",
       "      <td>2019</td>\n",
       "      <td>7.110492e+10</td>\n",
       "      <td>0.000385</td>\n",
       "    </tr>\n",
       "  </tbody>\n",
       "</table>\n",
       "<p>1 rows × 34 columns</p>\n",
       "</div>"
      ],
      "text/plain": [
       "    CUR               Currency  VAR  \\\n",
       "19  USD  US Dollars (millions)  OFI   \n",
       "\n",
       "                                             Variable  OWN  \\\n",
       "19  Outstanding figures of investments by direct i...  TOT   \n",
       "\n",
       "                  Ownership IVTYP    Investment Type ITYP Insurance Type  ...  \\\n",
       "19  All undertakings (=1+3)   TOT  TOTAL INVESTMENTS  TOT          Total  ...   \n",
       "\n",
       "         Value Flag Codes Flags Country Name Country Code     Indicator Name  \\\n",
       "19  273518.716        NaN   NaN   Luxembourg          LUX  GDP (current US$)   \n",
       "\n",
       "    Indicator Code  year           gdp volume_gdp_ratio  \n",
       "19  NY.GDP.MKTP.CD  2019  7.110492e+10         0.000385  \n",
       "\n",
       "[1 rows x 34 columns]"
      ]
     },
     "execution_count": 116,
     "metadata": {},
     "output_type": "execute_result"
    }
   ],
   "source": [
    "insurance_gdp[insurance_gdp['volume_gdp_ratio']>0.0003]"
   ]
  },
  {
   "cell_type": "markdown",
   "id": "430f2303",
   "metadata": {},
   "source": [
    "Again, Luxembourg is the outlier. Also compared to the GDP, its insurance volume is higher than in other countries. Reasons for this are not yet visible in the analysis. \n",
    "However, the volume to GDP ratio seems to be a bit more spread than the per capita ratio. "
   ]
  },
  {
   "cell_type": "markdown",
   "id": "6198901f",
   "metadata": {},
   "source": [
    "## Deep dive into German insurances "
   ]
  },
  {
   "cell_type": "markdown",
   "id": "ba380ef3",
   "metadata": {},
   "source": [
    "In the following section, I analyse more in detail the composition of German insurance volume. This refers to asset classes as well as temporal development of these. "
   ]
  },
  {
   "cell_type": "markdown",
   "id": "a6ce7248",
   "metadata": {},
   "source": [
    "### Asset Classes"
   ]
  },
  {
   "cell_type": "code",
   "execution_count": 137,
   "id": "9b5039c9",
   "metadata": {},
   "outputs": [],
   "source": [
    "grouped_german=insurances[insurances['Country']=='Germany'].groupby(['Year', 'Investment Type', 'Destination', 'Insurance Type', 'CUR'], as_index=False).sum()"
   ]
  },
  {
   "cell_type": "code",
   "execution_count": 138,
   "id": "5c7685dd",
   "metadata": {},
   "outputs": [
    {
     "data": {
      "text/html": [
       "<div>\n",
       "<style scoped>\n",
       "    .dataframe tbody tr th:only-of-type {\n",
       "        vertical-align: middle;\n",
       "    }\n",
       "\n",
       "    .dataframe tbody tr th {\n",
       "        vertical-align: top;\n",
       "    }\n",
       "\n",
       "    .dataframe thead th {\n",
       "        text-align: right;\n",
       "    }\n",
       "</style>\n",
       "<table border=\"1\" class=\"dataframe\">\n",
       "  <thead>\n",
       "    <tr style=\"text-align: right;\">\n",
       "      <th></th>\n",
       "      <th>Year</th>\n",
       "      <th>Investment Type</th>\n",
       "      <th>Destination</th>\n",
       "      <th>Insurance Type</th>\n",
       "      <th>CUR</th>\n",
       "      <th>YEA</th>\n",
       "      <th>PowerCode Code</th>\n",
       "      <th>Reference Period Code</th>\n",
       "      <th>Reference Period</th>\n",
       "      <th>Value</th>\n",
       "    </tr>\n",
       "  </thead>\n",
       "  <tbody>\n",
       "    <tr>\n",
       "      <th>0</th>\n",
       "      <td>2001</td>\n",
       "      <td>Bills and bonds issued by public and private s...</td>\n",
       "      <td>Total</td>\n",
       "      <td>Life</td>\n",
       "      <td>EUR</td>\n",
       "      <td>2001</td>\n",
       "      <td>6</td>\n",
       "      <td>0.0</td>\n",
       "      <td>0.0</td>\n",
       "      <td>73786.000</td>\n",
       "    </tr>\n",
       "    <tr>\n",
       "      <th>1</th>\n",
       "      <td>2001</td>\n",
       "      <td>Bills and bonds issued by public and private s...</td>\n",
       "      <td>Total</td>\n",
       "      <td>Life</td>\n",
       "      <td>NAT</td>\n",
       "      <td>2001</td>\n",
       "      <td>6</td>\n",
       "      <td>0.0</td>\n",
       "      <td>0.0</td>\n",
       "      <td>73786.000</td>\n",
       "    </tr>\n",
       "    <tr>\n",
       "      <th>2</th>\n",
       "      <td>2001</td>\n",
       "      <td>Bills and bonds issued by public and private s...</td>\n",
       "      <td>Total</td>\n",
       "      <td>Life</td>\n",
       "      <td>USD</td>\n",
       "      <td>2001</td>\n",
       "      <td>6</td>\n",
       "      <td>0.0</td>\n",
       "      <td>0.0</td>\n",
       "      <td>65027.602</td>\n",
       "    </tr>\n",
       "    <tr>\n",
       "      <th>3</th>\n",
       "      <td>2001</td>\n",
       "      <td>Bills and bonds issued by public and private s...</td>\n",
       "      <td>Total</td>\n",
       "      <td>Non-Life</td>\n",
       "      <td>EUR</td>\n",
       "      <td>2001</td>\n",
       "      <td>6</td>\n",
       "      <td>0.0</td>\n",
       "      <td>0.0</td>\n",
       "      <td>17119.000</td>\n",
       "    </tr>\n",
       "    <tr>\n",
       "      <th>4</th>\n",
       "      <td>2001</td>\n",
       "      <td>Bills and bonds issued by public and private s...</td>\n",
       "      <td>Total</td>\n",
       "      <td>Non-Life</td>\n",
       "      <td>NAT</td>\n",
       "      <td>2001</td>\n",
       "      <td>6</td>\n",
       "      <td>0.0</td>\n",
       "      <td>0.0</td>\n",
       "      <td>17119.000</td>\n",
       "    </tr>\n",
       "  </tbody>\n",
       "</table>\n",
       "</div>"
      ],
      "text/plain": [
       "   Year                                    Investment Type Destination  \\\n",
       "0  2001  Bills and bonds issued by public and private s...       Total   \n",
       "1  2001  Bills and bonds issued by public and private s...       Total   \n",
       "2  2001  Bills and bonds issued by public and private s...       Total   \n",
       "3  2001  Bills and bonds issued by public and private s...       Total   \n",
       "4  2001  Bills and bonds issued by public and private s...       Total   \n",
       "\n",
       "  Insurance Type  CUR   YEA  PowerCode Code  Reference Period Code  \\\n",
       "0           Life  EUR  2001               6                    0.0   \n",
       "1           Life  NAT  2001               6                    0.0   \n",
       "2           Life  USD  2001               6                    0.0   \n",
       "3       Non-Life  EUR  2001               6                    0.0   \n",
       "4       Non-Life  NAT  2001               6                    0.0   \n",
       "\n",
       "   Reference Period      Value  \n",
       "0               0.0  73786.000  \n",
       "1               0.0  73786.000  \n",
       "2               0.0  65027.602  \n",
       "3               0.0  17119.000  \n",
       "4               0.0  17119.000  "
      ]
     },
     "execution_count": 138,
     "metadata": {},
     "output_type": "execute_result"
    }
   ],
   "source": [
    "grouped_german.head()"
   ]
  },
  {
   "cell_type": "code",
   "execution_count": 132,
   "id": "f327fd56",
   "metadata": {},
   "outputs": [
    {
     "data": {
      "text/plain": [
       "array(['Total'], dtype=object)"
      ]
     },
     "execution_count": 132,
     "metadata": {},
     "output_type": "execute_result"
    }
   ],
   "source": [
    "grouped_german.index\n",
    "grouped_german.columns\n",
    "grouped_german['Destination'].unique()"
   ]
  },
  {
   "cell_type": "code",
   "execution_count": 140,
   "id": "a98fa83b",
   "metadata": {},
   "outputs": [
    {
     "data": {
      "image/png": "[encoded data removed]",
      "text/plain": [
       "<Figure size 864x288 with 1 Axes>"
      ]
     },
     "metadata": {
      "needs_background": "light"
     },
     "output_type": "display_data"
    }
   ],
   "source": [
    "investment_year=grouped_german['Year']==2019\n",
    "investment_type=grouped_german['Investment Type']!='TOTAL INVESTMENTS'\n",
    "destination=grouped_german['Destination']=='Total'\n",
    "insurance_type=grouped_german['Insurance Type']=='Total'\n",
    "of_which=grouped_german['Investment Type'].str.contains(\"of which\")\n",
    "currency=grouped_german['CUR']=='EUR'\n",
    "total_subset=grouped_german[investment_year & destination & investment_type & ~of_which & insurance_type & currency]\n",
    "\n",
    "chart_data = total_subset.sort_values(['Value']).reset_index(drop=True)\n",
    "chart_data['Value']=chart_data['Value'].round(0)/1000000\n",
    "\n",
    "plt.figure(figsize=(12,4))\n",
    "ax=sns.barplot(x='Investment Type', y='Value', data=chart_data)\n",
    "ax.set_xticklabels(ax.get_xticklabels(), rotation=20, ha=\"right\")\n",
    "ax.set_title('Where investments of insurances in Germany go to in trillion Euros')\n",
    "plt.ticklabel_format(style='plain', axis='y')\n",
    "plt.show()"
   ]
  },
  {
   "cell_type": "markdown",
   "id": "99c46ff9",
   "metadata": {},
   "source": [
    "The majority of assets held by German insurances in 2019 were bills and bonds as well as collective investment schemes. Those schemes are defined on OECD's website as:\n",
    "\n",
    "\"Comprise both retail and institutional funds (open-end and closed end) in which investors pool their funds to invest in a diversified portfolio of securities. It includes mutual funds, investment funds, UCITS-like funds, exchange-traded funds (ETFs), and specialised funds such as real estate funds (e.g. REITs), money market funds, debt funds. CIS funds may be listed or unlisted. Hedge funds and private equity funds should not be included in this category.\"\n",
    "\n",
    "Different than for other countries, no distinction between foreign and domestic investments is available. "
   ]
  },
  {
   "cell_type": "code",
   "execution_count": 145,
   "id": "b7bc67b9",
   "metadata": {},
   "outputs": [
    {
     "data": {
      "text/html": [
       "<div>\n",
       "<style scoped>\n",
       "    .dataframe tbody tr th:only-of-type {\n",
       "        vertical-align: middle;\n",
       "    }\n",
       "\n",
       "    .dataframe tbody tr th {\n",
       "        vertical-align: top;\n",
       "    }\n",
       "\n",
       "    .dataframe thead th {\n",
       "        text-align: right;\n",
       "    }\n",
       "</style>\n",
       "<table border=\"1\" class=\"dataframe\">\n",
       "  <thead>\n",
       "    <tr style=\"text-align: right;\">\n",
       "      <th></th>\n",
       "      <th>Insurance Type</th>\n",
       "      <th>Year</th>\n",
       "      <th>YEA</th>\n",
       "      <th>PowerCode Code</th>\n",
       "      <th>Reference Period Code</th>\n",
       "      <th>Reference Period</th>\n",
       "      <th>Value</th>\n",
       "    </tr>\n",
       "  </thead>\n",
       "  <tbody>\n",
       "    <tr>\n",
       "      <th>0</th>\n",
       "      <td>Life</td>\n",
       "      <td>2019</td>\n",
       "      <td>60570</td>\n",
       "      <td>180</td>\n",
       "      <td>0.0</td>\n",
       "      <td>0.0</td>\n",
       "      <td>2818015.56</td>\n",
       "    </tr>\n",
       "    <tr>\n",
       "      <th>1</th>\n",
       "      <td>Non-Life</td>\n",
       "      <td>2019</td>\n",
       "      <td>60570</td>\n",
       "      <td>180</td>\n",
       "      <td>0.0</td>\n",
       "      <td>0.0</td>\n",
       "      <td>1295274.45</td>\n",
       "    </tr>\n",
       "  </tbody>\n",
       "</table>\n",
       "</div>"
      ],
      "text/plain": [
       "  Insurance Type  Year    YEA  PowerCode Code  Reference Period Code  \\\n",
       "0           Life  2019  60570             180                    0.0   \n",
       "1       Non-Life  2019  60570             180                    0.0   \n",
       "\n",
       "   Reference Period       Value  \n",
       "0               0.0  2818015.56  \n",
       "1               0.0  1295274.45  "
      ]
     },
     "execution_count": 145,
     "metadata": {},
     "output_type": "execute_result"
    }
   ],
   "source": [
    "total=grouped_german[investment_year & destination & investment_type & ~of_which & currency]\n",
    "total1=total.groupby(['Insurance Type', 'Year'], as_index=False).sum()\n",
    "\n",
    "total1[total1['Insurance Type']!='Total']"
   ]
  },
  {
   "cell_type": "code",
   "execution_count": 146,
   "id": "e3b3efc5",
   "metadata": {},
   "outputs": [
    {
     "data": {
      "text/html": [
       "<div>\n",
       "<style scoped>\n",
       "    .dataframe tbody tr th:only-of-type {\n",
       "        vertical-align: middle;\n",
       "    }\n",
       "\n",
       "    .dataframe tbody tr th {\n",
       "        vertical-align: top;\n",
       "    }\n",
       "\n",
       "    .dataframe thead th {\n",
       "        text-align: right;\n",
       "    }\n",
       "</style>\n",
       "<table border=\"1\" class=\"dataframe\">\n",
       "  <thead>\n",
       "    <tr style=\"text-align: right;\">\n",
       "      <th></th>\n",
       "      <th>Year</th>\n",
       "      <th>Investment Type</th>\n",
       "      <th>Destination</th>\n",
       "      <th>Insurance Type</th>\n",
       "      <th>CUR</th>\n",
       "      <th>YEA</th>\n",
       "      <th>PowerCode Code</th>\n",
       "      <th>Reference Period Code</th>\n",
       "      <th>Reference Period</th>\n",
       "      <th>Value</th>\n",
       "    </tr>\n",
       "  </thead>\n",
       "  <tbody>\n",
       "    <tr>\n",
       "      <th>1260</th>\n",
       "      <td>2019</td>\n",
       "      <td>Assets held for index-linked and unit-linked c...</td>\n",
       "      <td>Total</td>\n",
       "      <td>Life</td>\n",
       "      <td>EUR</td>\n",
       "      <td>6057</td>\n",
       "      <td>18</td>\n",
       "      <td>0.0</td>\n",
       "      <td>0.0</td>\n",
       "      <td>317822.22</td>\n",
       "    </tr>\n",
       "    <tr>\n",
       "      <th>1263</th>\n",
       "      <td>2019</td>\n",
       "      <td>Assets held for index-linked and unit-linked c...</td>\n",
       "      <td>Total</td>\n",
       "      <td>Non-Life</td>\n",
       "      <td>EUR</td>\n",
       "      <td>6057</td>\n",
       "      <td>18</td>\n",
       "      <td>0.0</td>\n",
       "      <td>0.0</td>\n",
       "      <td>109.94</td>\n",
       "    </tr>\n",
       "    <tr>\n",
       "      <th>1269</th>\n",
       "      <td>2019</td>\n",
       "      <td>Bills and bonds issued by public and private s...</td>\n",
       "      <td>Total</td>\n",
       "      <td>Life</td>\n",
       "      <td>EUR</td>\n",
       "      <td>6057</td>\n",
       "      <td>18</td>\n",
       "      <td>0.0</td>\n",
       "      <td>0.0</td>\n",
       "      <td>1151013.84</td>\n",
       "    </tr>\n",
       "    <tr>\n",
       "      <th>1272</th>\n",
       "      <td>2019</td>\n",
       "      <td>Bills and bonds issued by public and private s...</td>\n",
       "      <td>Total</td>\n",
       "      <td>Non-Life</td>\n",
       "      <td>EUR</td>\n",
       "      <td>6057</td>\n",
       "      <td>18</td>\n",
       "      <td>0.0</td>\n",
       "      <td>0.0</td>\n",
       "      <td>622730.65</td>\n",
       "    </tr>\n",
       "    <tr>\n",
       "      <th>1278</th>\n",
       "      <td>2019</td>\n",
       "      <td>Cash and Deposits</td>\n",
       "      <td>Total</td>\n",
       "      <td>Life</td>\n",
       "      <td>EUR</td>\n",
       "      <td>6057</td>\n",
       "      <td>18</td>\n",
       "      <td>0.0</td>\n",
       "      <td>0.0</td>\n",
       "      <td>13928.87</td>\n",
       "    </tr>\n",
       "    <tr>\n",
       "      <th>1281</th>\n",
       "      <td>2019</td>\n",
       "      <td>Cash and Deposits</td>\n",
       "      <td>Total</td>\n",
       "      <td>Non-Life</td>\n",
       "      <td>EUR</td>\n",
       "      <td>6057</td>\n",
       "      <td>18</td>\n",
       "      <td>0.0</td>\n",
       "      <td>0.0</td>\n",
       "      <td>17072.16</td>\n",
       "    </tr>\n",
       "    <tr>\n",
       "      <th>1287</th>\n",
       "      <td>2019</td>\n",
       "      <td>Collective Investment Schemes (CIS)</td>\n",
       "      <td>Total</td>\n",
       "      <td>Life</td>\n",
       "      <td>EUR</td>\n",
       "      <td>6057</td>\n",
       "      <td>18</td>\n",
       "      <td>0.0</td>\n",
       "      <td>0.0</td>\n",
       "      <td>938395.98</td>\n",
       "    </tr>\n",
       "    <tr>\n",
       "      <th>1290</th>\n",
       "      <td>2019</td>\n",
       "      <td>Collective Investment Schemes (CIS)</td>\n",
       "      <td>Total</td>\n",
       "      <td>Non-Life</td>\n",
       "      <td>EUR</td>\n",
       "      <td>6057</td>\n",
       "      <td>18</td>\n",
       "      <td>0.0</td>\n",
       "      <td>0.0</td>\n",
       "      <td>406994.69</td>\n",
       "    </tr>\n",
       "    <tr>\n",
       "      <th>1296</th>\n",
       "      <td>2019</td>\n",
       "      <td>Equity</td>\n",
       "      <td>Total</td>\n",
       "      <td>Life</td>\n",
       "      <td>EUR</td>\n",
       "      <td>6057</td>\n",
       "      <td>18</td>\n",
       "      <td>0.0</td>\n",
       "      <td>0.0</td>\n",
       "      <td>130116.05</td>\n",
       "    </tr>\n",
       "    <tr>\n",
       "      <th>1299</th>\n",
       "      <td>2019</td>\n",
       "      <td>Equity</td>\n",
       "      <td>Total</td>\n",
       "      <td>Non-Life</td>\n",
       "      <td>EUR</td>\n",
       "      <td>6057</td>\n",
       "      <td>18</td>\n",
       "      <td>0.0</td>\n",
       "      <td>0.0</td>\n",
       "      <td>166436.50</td>\n",
       "    </tr>\n",
       "    <tr>\n",
       "      <th>1305</th>\n",
       "      <td>2019</td>\n",
       "      <td>Land and buildings</td>\n",
       "      <td>Total</td>\n",
       "      <td>Life</td>\n",
       "      <td>EUR</td>\n",
       "      <td>6057</td>\n",
       "      <td>18</td>\n",
       "      <td>0.0</td>\n",
       "      <td>0.0</td>\n",
       "      <td>43358.62</td>\n",
       "    </tr>\n",
       "    <tr>\n",
       "      <th>1308</th>\n",
       "      <td>2019</td>\n",
       "      <td>Land and buildings</td>\n",
       "      <td>Total</td>\n",
       "      <td>Non-Life</td>\n",
       "      <td>EUR</td>\n",
       "      <td>6057</td>\n",
       "      <td>18</td>\n",
       "      <td>0.0</td>\n",
       "      <td>0.0</td>\n",
       "      <td>24393.55</td>\n",
       "    </tr>\n",
       "    <tr>\n",
       "      <th>1314</th>\n",
       "      <td>2019</td>\n",
       "      <td>Loans</td>\n",
       "      <td>Total</td>\n",
       "      <td>Life</td>\n",
       "      <td>EUR</td>\n",
       "      <td>6057</td>\n",
       "      <td>18</td>\n",
       "      <td>0.0</td>\n",
       "      <td>0.0</td>\n",
       "      <td>182703.13</td>\n",
       "    </tr>\n",
       "    <tr>\n",
       "      <th>1317</th>\n",
       "      <td>2019</td>\n",
       "      <td>Loans</td>\n",
       "      <td>Total</td>\n",
       "      <td>Non-Life</td>\n",
       "      <td>EUR</td>\n",
       "      <td>6057</td>\n",
       "      <td>18</td>\n",
       "      <td>0.0</td>\n",
       "      <td>0.0</td>\n",
       "      <td>40879.89</td>\n",
       "    </tr>\n",
       "    <tr>\n",
       "      <th>1323</th>\n",
       "      <td>2019</td>\n",
       "      <td>Other Investments</td>\n",
       "      <td>Total</td>\n",
       "      <td>Life</td>\n",
       "      <td>EUR</td>\n",
       "      <td>6057</td>\n",
       "      <td>18</td>\n",
       "      <td>0.0</td>\n",
       "      <td>0.0</td>\n",
       "      <td>4327.45</td>\n",
       "    </tr>\n",
       "    <tr>\n",
       "      <th>1326</th>\n",
       "      <td>2019</td>\n",
       "      <td>Other Investments</td>\n",
       "      <td>Total</td>\n",
       "      <td>Non-Life</td>\n",
       "      <td>EUR</td>\n",
       "      <td>6057</td>\n",
       "      <td>18</td>\n",
       "      <td>0.0</td>\n",
       "      <td>0.0</td>\n",
       "      <td>879.25</td>\n",
       "    </tr>\n",
       "    <tr>\n",
       "      <th>1332</th>\n",
       "      <td>2019</td>\n",
       "      <td>Private equity funds</td>\n",
       "      <td>Total</td>\n",
       "      <td>Life</td>\n",
       "      <td>EUR</td>\n",
       "      <td>6057</td>\n",
       "      <td>18</td>\n",
       "      <td>0.0</td>\n",
       "      <td>0.0</td>\n",
       "      <td>8114.07</td>\n",
       "    </tr>\n",
       "    <tr>\n",
       "      <th>1335</th>\n",
       "      <td>2019</td>\n",
       "      <td>Private equity funds</td>\n",
       "      <td>Total</td>\n",
       "      <td>Non-Life</td>\n",
       "      <td>EUR</td>\n",
       "      <td>6057</td>\n",
       "      <td>18</td>\n",
       "      <td>0.0</td>\n",
       "      <td>0.0</td>\n",
       "      <td>6756.64</td>\n",
       "    </tr>\n",
       "    <tr>\n",
       "      <th>1341</th>\n",
       "      <td>2019</td>\n",
       "      <td>Structured products</td>\n",
       "      <td>Total</td>\n",
       "      <td>Life</td>\n",
       "      <td>EUR</td>\n",
       "      <td>6057</td>\n",
       "      <td>18</td>\n",
       "      <td>0.0</td>\n",
       "      <td>0.0</td>\n",
       "      <td>28235.33</td>\n",
       "    </tr>\n",
       "    <tr>\n",
       "      <th>1344</th>\n",
       "      <td>2019</td>\n",
       "      <td>Structured products</td>\n",
       "      <td>Total</td>\n",
       "      <td>Non-Life</td>\n",
       "      <td>EUR</td>\n",
       "      <td>6057</td>\n",
       "      <td>18</td>\n",
       "      <td>0.0</td>\n",
       "      <td>0.0</td>\n",
       "      <td>9021.18</td>\n",
       "    </tr>\n",
       "  </tbody>\n",
       "</table>\n",
       "</div>"
      ],
      "text/plain": [
       "      Year                                    Investment Type Destination  \\\n",
       "1260  2019  Assets held for index-linked and unit-linked c...       Total   \n",
       "1263  2019  Assets held for index-linked and unit-linked c...       Total   \n",
       "1269  2019  Bills and bonds issued by public and private s...       Total   \n",
       "1272  2019  Bills and bonds issued by public and private s...       Total   \n",
       "1278  2019                                  Cash and Deposits       Total   \n",
       "1281  2019                                  Cash and Deposits       Total   \n",
       "1287  2019                Collective Investment Schemes (CIS)       Total   \n",
       "1290  2019                Collective Investment Schemes (CIS)       Total   \n",
       "1296  2019                                             Equity       Total   \n",
       "1299  2019                                             Equity       Total   \n",
       "1305  2019                                 Land and buildings       Total   \n",
       "1308  2019                                 Land and buildings       Total   \n",
       "1314  2019                                              Loans       Total   \n",
       "1317  2019                                              Loans       Total   \n",
       "1323  2019                                  Other Investments       Total   \n",
       "1326  2019                                  Other Investments       Total   \n",
       "1332  2019                               Private equity funds       Total   \n",
       "1335  2019                               Private equity funds       Total   \n",
       "1341  2019                                Structured products       Total   \n",
       "1344  2019                                Structured products       Total   \n",
       "\n",
       "     Insurance Type  CUR   YEA  PowerCode Code  Reference Period Code  \\\n",
       "1260           Life  EUR  6057              18                    0.0   \n",
       "1263       Non-Life  EUR  6057              18                    0.0   \n",
       "1269           Life  EUR  6057              18                    0.0   \n",
       "1272       Non-Life  EUR  6057              18                    0.0   \n",
       "1278           Life  EUR  6057              18                    0.0   \n",
       "1281       Non-Life  EUR  6057              18                    0.0   \n",
       "1287           Life  EUR  6057              18                    0.0   \n",
       "1290       Non-Life  EUR  6057              18                    0.0   \n",
       "1296           Life  EUR  6057              18                    0.0   \n",
       "1299       Non-Life  EUR  6057              18                    0.0   \n",
       "1305           Life  EUR  6057              18                    0.0   \n",
       "1308       Non-Life  EUR  6057              18                    0.0   \n",
       "1314           Life  EUR  6057              18                    0.0   \n",
       "1317       Non-Life  EUR  6057              18                    0.0   \n",
       "1323           Life  EUR  6057              18                    0.0   \n",
       "1326       Non-Life  EUR  6057              18                    0.0   \n",
       "1332           Life  EUR  6057              18                    0.0   \n",
       "1335       Non-Life  EUR  6057              18                    0.0   \n",
       "1341           Life  EUR  6057              18                    0.0   \n",
       "1344       Non-Life  EUR  6057              18                    0.0   \n",
       "\n",
       "      Reference Period       Value  \n",
       "1260               0.0   317822.22  \n",
       "1263               0.0      109.94  \n",
       "1269               0.0  1151013.84  \n",
       "1272               0.0   622730.65  \n",
       "1278               0.0    13928.87  \n",
       "1281               0.0    17072.16  \n",
       "1287               0.0   938395.98  \n",
       "1290               0.0   406994.69  \n",
       "1296               0.0   130116.05  \n",
       "1299               0.0   166436.50  \n",
       "1305               0.0    43358.62  \n",
       "1308               0.0    24393.55  \n",
       "1314               0.0   182703.13  \n",
       "1317               0.0    40879.89  \n",
       "1323               0.0     4327.45  \n",
       "1326               0.0      879.25  \n",
       "1332               0.0     8114.07  \n",
       "1335               0.0     6756.64  \n",
       "1341               0.0    28235.33  \n",
       "1344               0.0     9021.18  "
      ]
     },
     "execution_count": 146,
     "metadata": {},
     "output_type": "execute_result"
    }
   ],
   "source": [
    "total2=total.groupby(['Insurance Type', 'Year', 'Investment Type'], as_index=False).sum()\n",
    "\n",
    "total2=total[total['Insurance Type']!='Total']\n",
    "total2"
   ]
  },
  {
   "cell_type": "code",
   "execution_count": 147,
   "id": "0ed7a291",
   "metadata": {},
   "outputs": [
    {
     "data": {
      "text/plain": [
       "Insurance Type  Investment Type                                       \n",
       "Life            Assets held for index-linked and unit-linked contracts     317822.22\n",
       "                Bills and bonds issued by public and private sector       1151013.84\n",
       "                Cash and Deposits                                           13928.87\n",
       "                Collective Investment Schemes (CIS)                        938395.98\n",
       "                Equity                                                     130116.05\n",
       "                Land and buildings                                          43358.62\n",
       "                Loans                                                      182703.13\n",
       "                Other Investments                                            4327.45\n",
       "                Private equity funds                                         8114.07\n",
       "                Structured products                                         28235.33\n",
       "Non-Life        Assets held for index-linked and unit-linked contracts        109.94\n",
       "                Bills and bonds issued by public and private sector        622730.65\n",
       "                Cash and Deposits                                           17072.16\n",
       "                Collective Investment Schemes (CIS)                        406994.69\n",
       "                Equity                                                     166436.50\n",
       "                Land and buildings                                          24393.55\n",
       "                Loans                                                       40879.89\n",
       "                Other Investments                                             879.25\n",
       "                Private equity funds                                         6756.64\n",
       "                Structured products                                          9021.18\n",
       "Name: Value, dtype: float64"
      ]
     },
     "execution_count": 147,
     "metadata": {},
     "output_type": "execute_result"
    }
   ],
   "source": [
    "total2.groupby(['Insurance Type', 'Investment Type'], as_index=True).sum()['Value']"
   ]
  },
  {
   "cell_type": "code",
   "execution_count": 148,
   "id": "33e0524c",
   "metadata": {},
   "outputs": [
    {
     "data": {
      "image/png": "[encoded data removed]",
      "text/plain": [
       "<Figure size 864x288 with 1 Axes>"
      ]
     },
     "metadata": {
      "needs_background": "light"
     },
     "output_type": "display_data"
    }
   ],
   "source": [
    "life_insurances = total2[total2['Insurance Type']=='Life'].groupby('Investment Type', as_index=False).sum()['Value']\n",
    "non_life_insurances = total2[total2['Insurance Type']=='Non-Life'].groupby('Investment Type', as_index=False).sum()['Value']\n",
    "labels=total2[total2['Insurance Type']=='Life']['Investment Type']\n",
    "\n",
    "x = np.arange(len(labels))  # the label locations\n",
    "width = 0.35  # the width of the bars\n",
    "\n",
    "fig, ax = plt.subplots(figsize=(12,4))\n",
    "rect1=ax.bar(x-width/2, life_insurances, width, label='Life')\n",
    "rect2=ax.bar(x+width/2, non_life_insurances, width, label='Non-Life')\n",
    "\n",
    "# Add some text for labels, title and custom x-axis tick labels, etc.\n",
    "ax.set_ylabel('Value in trillion Euros')\n",
    "ax.set_title('Investments per insurance type by asset class')\n",
    "ax.set_xticks(x)\n",
    "ax.set_xticklabels(labels)\n",
    "ax.legend()\n",
    "ax.set_xticklabels(ax.get_xticklabels(), rotation=20, ha=\"right\")\n",
    "\n",
    "fig.tight_layout()\n"
   ]
  },
  {
   "cell_type": "markdown",
   "id": "f152d009",
   "metadata": {},
   "source": [
    "### Timeline of development "
   ]
  },
  {
   "cell_type": "code",
   "execution_count": 152,
   "id": "27154a34",
   "metadata": {},
   "outputs": [
    {
     "data": {
      "text/html": [
       "<div>\n",
       "<style scoped>\n",
       "    .dataframe tbody tr th:only-of-type {\n",
       "        vertical-align: middle;\n",
       "    }\n",
       "\n",
       "    .dataframe tbody tr th {\n",
       "        vertical-align: top;\n",
       "    }\n",
       "\n",
       "    .dataframe thead th {\n",
       "        text-align: right;\n",
       "    }\n",
       "</style>\n",
       "<table border=\"1\" class=\"dataframe\">\n",
       "  <thead>\n",
       "    <tr style=\"text-align: right;\">\n",
       "      <th></th>\n",
       "      <th>CUR</th>\n",
       "      <th>Currency</th>\n",
       "      <th>VAR</th>\n",
       "      <th>Variable</th>\n",
       "      <th>OWN</th>\n",
       "      <th>Ownership</th>\n",
       "      <th>IVTYP</th>\n",
       "      <th>Investment Type</th>\n",
       "      <th>ITYP</th>\n",
       "      <th>Insurance Type</th>\n",
       "      <th>...</th>\n",
       "      <th>Year</th>\n",
       "      <th>Unit Code</th>\n",
       "      <th>Unit</th>\n",
       "      <th>PowerCode Code</th>\n",
       "      <th>PowerCode</th>\n",
       "      <th>Reference Period Code</th>\n",
       "      <th>Reference Period</th>\n",
       "      <th>Value</th>\n",
       "      <th>Flag Codes</th>\n",
       "      <th>Flags</th>\n",
       "    </tr>\n",
       "  </thead>\n",
       "  <tbody>\n",
       "    <tr>\n",
       "      <th>5911</th>\n",
       "      <td>EUR</td>\n",
       "      <td>Euros (millions)</td>\n",
       "      <td>OFI</td>\n",
       "      <td>Outstanding figures of investments by direct i...</td>\n",
       "      <td>DOM</td>\n",
       "      <td>1. Domestic undertakings</td>\n",
       "      <td>REST</td>\n",
       "      <td>Land and buildings</td>\n",
       "      <td>TOT</td>\n",
       "      <td>Total</td>\n",
       "      <td>...</td>\n",
       "      <td>2006</td>\n",
       "      <td>EUR</td>\n",
       "      <td>Euro</td>\n",
       "      <td>6</td>\n",
       "      <td>Millions</td>\n",
       "      <td>NaN</td>\n",
       "      <td>NaN</td>\n",
       "      <td>18410.771</td>\n",
       "      <td>NaN</td>\n",
       "      <td>NaN</td>\n",
       "    </tr>\n",
       "    <tr>\n",
       "      <th>5912</th>\n",
       "      <td>EUR</td>\n",
       "      <td>Euros (millions)</td>\n",
       "      <td>OFI</td>\n",
       "      <td>Outstanding figures of investments by direct i...</td>\n",
       "      <td>DOM</td>\n",
       "      <td>1. Domestic undertakings</td>\n",
       "      <td>REST</td>\n",
       "      <td>Land and buildings</td>\n",
       "      <td>TOT</td>\n",
       "      <td>Total</td>\n",
       "      <td>...</td>\n",
       "      <td>2007</td>\n",
       "      <td>EUR</td>\n",
       "      <td>Euro</td>\n",
       "      <td>6</td>\n",
       "      <td>Millions</td>\n",
       "      <td>NaN</td>\n",
       "      <td>NaN</td>\n",
       "      <td>16018.548</td>\n",
       "      <td>NaN</td>\n",
       "      <td>NaN</td>\n",
       "    </tr>\n",
       "    <tr>\n",
       "      <th>5913</th>\n",
       "      <td>EUR</td>\n",
       "      <td>Euros (millions)</td>\n",
       "      <td>OFI</td>\n",
       "      <td>Outstanding figures of investments by direct i...</td>\n",
       "      <td>DOM</td>\n",
       "      <td>1. Domestic undertakings</td>\n",
       "      <td>REST</td>\n",
       "      <td>Land and buildings</td>\n",
       "      <td>TOT</td>\n",
       "      <td>Total</td>\n",
       "      <td>...</td>\n",
       "      <td>2008</td>\n",
       "      <td>EUR</td>\n",
       "      <td>Euro</td>\n",
       "      <td>6</td>\n",
       "      <td>Millions</td>\n",
       "      <td>NaN</td>\n",
       "      <td>NaN</td>\n",
       "      <td>15211.000</td>\n",
       "      <td>NaN</td>\n",
       "      <td>NaN</td>\n",
       "    </tr>\n",
       "    <tr>\n",
       "      <th>5914</th>\n",
       "      <td>EUR</td>\n",
       "      <td>Euros (millions)</td>\n",
       "      <td>OFI</td>\n",
       "      <td>Outstanding figures of investments by direct i...</td>\n",
       "      <td>DOM</td>\n",
       "      <td>1. Domestic undertakings</td>\n",
       "      <td>REST</td>\n",
       "      <td>Land and buildings</td>\n",
       "      <td>TOT</td>\n",
       "      <td>Total</td>\n",
       "      <td>...</td>\n",
       "      <td>2009</td>\n",
       "      <td>EUR</td>\n",
       "      <td>Euro</td>\n",
       "      <td>6</td>\n",
       "      <td>Millions</td>\n",
       "      <td>NaN</td>\n",
       "      <td>NaN</td>\n",
       "      <td>14401.456</td>\n",
       "      <td>NaN</td>\n",
       "      <td>NaN</td>\n",
       "    </tr>\n",
       "    <tr>\n",
       "      <th>5915</th>\n",
       "      <td>EUR</td>\n",
       "      <td>Euros (millions)</td>\n",
       "      <td>OFI</td>\n",
       "      <td>Outstanding figures of investments by direct i...</td>\n",
       "      <td>DOM</td>\n",
       "      <td>1. Domestic undertakings</td>\n",
       "      <td>REST</td>\n",
       "      <td>Land and buildings</td>\n",
       "      <td>TOT</td>\n",
       "      <td>Total</td>\n",
       "      <td>...</td>\n",
       "      <td>2010</td>\n",
       "      <td>EUR</td>\n",
       "      <td>Euro</td>\n",
       "      <td>6</td>\n",
       "      <td>Millions</td>\n",
       "      <td>NaN</td>\n",
       "      <td>NaN</td>\n",
       "      <td>15518.183</td>\n",
       "      <td>NaN</td>\n",
       "      <td>NaN</td>\n",
       "    </tr>\n",
       "  </tbody>\n",
       "</table>\n",
       "<p>5 rows × 27 columns</p>\n",
       "</div>"
      ],
      "text/plain": [
       "      CUR          Currency  VAR  \\\n",
       "5911  EUR  Euros (millions)  OFI   \n",
       "5912  EUR  Euros (millions)  OFI   \n",
       "5913  EUR  Euros (millions)  OFI   \n",
       "5914  EUR  Euros (millions)  OFI   \n",
       "5915  EUR  Euros (millions)  OFI   \n",
       "\n",
       "                                               Variable  OWN  \\\n",
       "5911  Outstanding figures of investments by direct i...  DOM   \n",
       "5912  Outstanding figures of investments by direct i...  DOM   \n",
       "5913  Outstanding figures of investments by direct i...  DOM   \n",
       "5914  Outstanding figures of investments by direct i...  DOM   \n",
       "5915  Outstanding figures of investments by direct i...  DOM   \n",
       "\n",
       "                     Ownership IVTYP     Investment Type ITYP Insurance Type  \\\n",
       "5911  1. Domestic undertakings  REST  Land and buildings  TOT          Total   \n",
       "5912  1. Domestic undertakings  REST  Land and buildings  TOT          Total   \n",
       "5913  1. Domestic undertakings  REST  Land and buildings  TOT          Total   \n",
       "5914  1. Domestic undertakings  REST  Land and buildings  TOT          Total   \n",
       "5915  1. Domestic undertakings  REST  Land and buildings  TOT          Total   \n",
       "\n",
       "      ...  Year Unit Code  Unit PowerCode Code PowerCode  \\\n",
       "5911  ...  2006       EUR  Euro              6  Millions   \n",
       "5912  ...  2007       EUR  Euro              6  Millions   \n",
       "5913  ...  2008       EUR  Euro              6  Millions   \n",
       "5914  ...  2009       EUR  Euro              6  Millions   \n",
       "5915  ...  2010       EUR  Euro              6  Millions   \n",
       "\n",
       "     Reference Period Code  Reference Period      Value Flag Codes Flags  \n",
       "5911                   NaN               NaN  18410.771        NaN   NaN  \n",
       "5912                   NaN               NaN  16018.548        NaN   NaN  \n",
       "5913                   NaN               NaN  15211.000        NaN   NaN  \n",
       "5914                   NaN               NaN  14401.456        NaN   NaN  \n",
       "5915                   NaN               NaN  15518.183        NaN   NaN  \n",
       "\n",
       "[5 rows x 27 columns]"
      ]
     },
     "execution_count": 152,
     "metadata": {},
     "output_type": "execute_result"
    }
   ],
   "source": [
    "germany_total=insurances[(insurances['Country']=='Germany') & (insurances['Insurance Type']=='Total') & ~(insurances['Investment Type'].str.contains(\"of which\")) & (insurances['CUR']=='EUR')]\n",
    "germany_total.head()"
   ]
  },
  {
   "cell_type": "code",
   "execution_count": 153,
   "id": "78b69477",
   "metadata": {},
   "outputs": [
    {
     "data": {
      "text/html": [
       "<div>\n",
       "<style scoped>\n",
       "    .dataframe tbody tr th:only-of-type {\n",
       "        vertical-align: middle;\n",
       "    }\n",
       "\n",
       "    .dataframe tbody tr th {\n",
       "        vertical-align: top;\n",
       "    }\n",
       "\n",
       "    .dataframe thead th {\n",
       "        text-align: right;\n",
       "    }\n",
       "</style>\n",
       "<table border=\"1\" class=\"dataframe\">\n",
       "  <thead>\n",
       "    <tr style=\"text-align: right;\">\n",
       "      <th></th>\n",
       "      <th>Investment Type</th>\n",
       "      <th>Year</th>\n",
       "      <th>YEA</th>\n",
       "      <th>PowerCode Code</th>\n",
       "      <th>Reference Period Code</th>\n",
       "      <th>Reference Period</th>\n",
       "      <th>Value</th>\n",
       "    </tr>\n",
       "  </thead>\n",
       "  <tbody>\n",
       "    <tr>\n",
       "      <th>126</th>\n",
       "      <td>TOTAL INVESTMENTS</td>\n",
       "      <td>2015</td>\n",
       "      <td>6045</td>\n",
       "      <td>18</td>\n",
       "      <td>0.0</td>\n",
       "      <td>0.0</td>\n",
       "      <td>3115187.281</td>\n",
       "    </tr>\n",
       "    <tr>\n",
       "      <th>127</th>\n",
       "      <td>TOTAL INVESTMENTS</td>\n",
       "      <td>2016</td>\n",
       "      <td>6048</td>\n",
       "      <td>18</td>\n",
       "      <td>0.0</td>\n",
       "      <td>0.0</td>\n",
       "      <td>3574394.670</td>\n",
       "    </tr>\n",
       "    <tr>\n",
       "      <th>128</th>\n",
       "      <td>TOTAL INVESTMENTS</td>\n",
       "      <td>2017</td>\n",
       "      <td>6051</td>\n",
       "      <td>18</td>\n",
       "      <td>0.0</td>\n",
       "      <td>0.0</td>\n",
       "      <td>3632362.210</td>\n",
       "    </tr>\n",
       "    <tr>\n",
       "      <th>129</th>\n",
       "      <td>TOTAL INVESTMENTS</td>\n",
       "      <td>2018</td>\n",
       "      <td>6054</td>\n",
       "      <td>18</td>\n",
       "      <td>0.0</td>\n",
       "      <td>0.0</td>\n",
       "      <td>3688576.140</td>\n",
       "    </tr>\n",
       "    <tr>\n",
       "      <th>130</th>\n",
       "      <td>TOTAL INVESTMENTS</td>\n",
       "      <td>2019</td>\n",
       "      <td>6057</td>\n",
       "      <td>18</td>\n",
       "      <td>0.0</td>\n",
       "      <td>0.0</td>\n",
       "      <td>4113290.010</td>\n",
       "    </tr>\n",
       "  </tbody>\n",
       "</table>\n",
       "</div>"
      ],
      "text/plain": [
       "       Investment Type  Year   YEA  PowerCode Code  Reference Period Code  \\\n",
       "126  TOTAL INVESTMENTS  2015  6045              18                    0.0   \n",
       "127  TOTAL INVESTMENTS  2016  6048              18                    0.0   \n",
       "128  TOTAL INVESTMENTS  2017  6051              18                    0.0   \n",
       "129  TOTAL INVESTMENTS  2018  6054              18                    0.0   \n",
       "130  TOTAL INVESTMENTS  2019  6057              18                    0.0   \n",
       "\n",
       "     Reference Period        Value  \n",
       "126               0.0  3115187.281  \n",
       "127               0.0  3574394.670  \n",
       "128               0.0  3632362.210  \n",
       "129               0.0  3688576.140  \n",
       "130               0.0  4113290.010  "
      ]
     },
     "execution_count": 153,
     "metadata": {},
     "output_type": "execute_result"
    }
   ],
   "source": [
    "germany_per_year_type=germany_total.groupby(['Investment Type', 'Year'], as_index=False).sum('Value')\n",
    "germany_per_year_type.tail()"
   ]
  },
  {
   "cell_type": "code",
   "execution_count": 167,
   "id": "82dc3af0",
   "metadata": {},
   "outputs": [],
   "source": [
    "germany_per_year_type_wototal=germany_per_year_type[germany_per_year_type['Investment Type']!='TOTAL INVESTMENTS']"
   ]
  },
  {
   "cell_type": "code",
   "execution_count": 168,
   "id": "6bd5c145",
   "metadata": {},
   "outputs": [],
   "source": [
    "# This graph turned out not to be useful \n",
    "#g=sns.FacetGrid(data=germany_per_year_type_wototal, row='Investment Type', height=9, aspect=2)\n",
    "#g.map(sns.lineplot, x='Year', y='Value', data=germany_per_year_type_wototal)"
   ]
  },
  {
   "cell_type": "code",
   "execution_count": 169,
   "id": "308cc6ce",
   "metadata": {},
   "outputs": [
    {
     "data": {
      "text/html": [
       "<div>\n",
       "<style scoped>\n",
       "    .dataframe tbody tr th:only-of-type {\n",
       "        vertical-align: middle;\n",
       "    }\n",
       "\n",
       "    .dataframe tbody tr th {\n",
       "        vertical-align: top;\n",
       "    }\n",
       "\n",
       "    .dataframe thead th {\n",
       "        text-align: right;\n",
       "    }\n",
       "</style>\n",
       "<table border=\"1\" class=\"dataframe\">\n",
       "  <thead>\n",
       "    <tr style=\"text-align: right;\">\n",
       "      <th></th>\n",
       "      <th>Investment Type</th>\n",
       "      <th>Year</th>\n",
       "      <th>YEA</th>\n",
       "      <th>PowerCode Code</th>\n",
       "      <th>Reference Period Code</th>\n",
       "      <th>Reference Period</th>\n",
       "      <th>Value</th>\n",
       "    </tr>\n",
       "  </thead>\n",
       "  <tbody>\n",
       "    <tr>\n",
       "      <th>0</th>\n",
       "      <td>Assets held for index-linked and unit-linked c...</td>\n",
       "      <td>2016</td>\n",
       "      <td>6048</td>\n",
       "      <td>18</td>\n",
       "      <td>0.0</td>\n",
       "      <td>0.0</td>\n",
       "      <td>253226.59</td>\n",
       "    </tr>\n",
       "    <tr>\n",
       "      <th>1</th>\n",
       "      <td>Assets held for index-linked and unit-linked c...</td>\n",
       "      <td>2017</td>\n",
       "      <td>6051</td>\n",
       "      <td>18</td>\n",
       "      <td>0.0</td>\n",
       "      <td>0.0</td>\n",
       "      <td>277871.70</td>\n",
       "    </tr>\n",
       "    <tr>\n",
       "      <th>2</th>\n",
       "      <td>Assets held for index-linked and unit-linked c...</td>\n",
       "      <td>2018</td>\n",
       "      <td>6054</td>\n",
       "      <td>18</td>\n",
       "      <td>0.0</td>\n",
       "      <td>0.0</td>\n",
       "      <td>259393.44</td>\n",
       "    </tr>\n",
       "    <tr>\n",
       "      <th>3</th>\n",
       "      <td>Assets held for index-linked and unit-linked c...</td>\n",
       "      <td>2019</td>\n",
       "      <td>6057</td>\n",
       "      <td>18</td>\n",
       "      <td>0.0</td>\n",
       "      <td>0.0</td>\n",
       "      <td>317932.16</td>\n",
       "    </tr>\n",
       "  </tbody>\n",
       "</table>\n",
       "</div>"
      ],
      "text/plain": [
       "                                     Investment Type  Year   YEA  \\\n",
       "0  Assets held for index-linked and unit-linked c...  2016  6048   \n",
       "1  Assets held for index-linked and unit-linked c...  2017  6051   \n",
       "2  Assets held for index-linked and unit-linked c...  2018  6054   \n",
       "3  Assets held for index-linked and unit-linked c...  2019  6057   \n",
       "\n",
       "   PowerCode Code  Reference Period Code  Reference Period      Value  \n",
       "0              18                    0.0               0.0  253226.59  \n",
       "1              18                    0.0               0.0  277871.70  \n",
       "2              18                    0.0               0.0  259393.44  \n",
       "3              18                    0.0               0.0  317932.16  "
      ]
     },
     "execution_count": 169,
     "metadata": {},
     "output_type": "execute_result"
    }
   ],
   "source": [
    "germany_per_year_type_wototal[germany_per_year_type_wototal['Investment Type']=='Assets held for index-linked and unit-linked contracts']"
   ]
  },
  {
   "cell_type": "code",
   "execution_count": 170,
   "id": "9e67e7af",
   "metadata": {},
   "outputs": [
    {
     "data": {
      "text/plain": [
       "0      253226.59\n",
       "1      277871.70\n",
       "2      259393.44\n",
       "3      317932.16\n",
       "4       90905.00\n",
       "         ...    \n",
       "107     10074.50\n",
       "108      8162.78\n",
       "109      9323.58\n",
       "110     14870.71\n",
       "111     37256.51\n",
       "Name: Value, Length: 112, dtype: float64"
      ]
     },
     "execution_count": 170,
     "metadata": {},
     "output_type": "execute_result"
    }
   ],
   "source": [
    "pd.to_numeric(germany_per_year_type_wototal['Value'])"
   ]
  },
  {
   "cell_type": "code",
   "execution_count": 171,
   "id": "95c4652d",
   "metadata": {},
   "outputs": [
    {
     "data": {
      "image/png": "[encoded data removed]",
      "text/plain": [
       "<Figure size 1080x576 with 1 Axes>"
      ]
     },
     "metadata": {
      "needs_background": "light"
     },
     "output_type": "display_data"
    }
   ],
   "source": [
    "plt.figure(figsize = (15,8))\n",
    "plt.ticklabel_format(style='plain', axis='y')\n",
    "sns.lineplot(data=germany_per_year_type_wototal, x='Year', y='Value', hue='Investment Type', palette='Spectral');"
   ]
  },
  {
   "cell_type": "markdown",
   "id": "5c2c2930",
   "metadata": {},
   "source": [
    "Looking at the development of the importance of asset classes over time, we can see that bills and bonds only build their position only in the past few years. Shortly after the millenium, mere important than this were loans and other investments. Other investments are defined as \"Investment in other assets not included in the above categories\", without any further specification. "
   ]
  },
  {
   "cell_type": "code",
   "execution_count": null,
   "id": "2c70ba49",
   "metadata": {},
   "outputs": [],
   "source": []
  }
 ],
 "metadata": {
  "kernelspec": {
   "display_name": "Python 3",
   "language": "python",
   "name": "python3"
  },
  "language_info": {
   "codemirror_mode": {
    "name": "ipython",
    "version": 3
   },
   "file_extension": ".py",
   "mimetype": "text/x-python",
   "name": "python",
   "nbconvert_exporter": "python",
   "pygments_lexer": "ipython3",
   "version": "3.9.5"
  }
 },
 "nbformat": 4,
 "nbformat_minor": 5
}
